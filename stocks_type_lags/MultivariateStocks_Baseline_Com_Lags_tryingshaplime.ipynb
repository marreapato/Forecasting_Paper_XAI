{
  "nbformat": 4,
  "nbformat_minor": 0,
  "metadata": {
    "colab": {
      "provenance": [],
      "gpuType": "T4",
      "include_colab_link": true
    },
    "kernelspec": {
      "name": "python3",
      "display_name": "Python 3"
    },
    "language_info": {
      "name": "python"
    },
    "accelerator": "GPU"
  },
  "cells": [
    {
      "cell_type": "markdown",
      "metadata": {
        "id": "view-in-github",
        "colab_type": "text"
      },
      "source": [
        "<a href=\"https://colab.research.google.com/github/marreapato/Forecasting_Paper_XAI/blob/main/stocks_type_lags/MultivariateStocks_Baseline_Com_Lags_tryingshaplime.ipynb\" target=\"_parent\"><img src=\"https://colab.research.google.com/assets/colab-badge.svg\" alt=\"Open In Colab\"/></a>"
      ]
    },
    {
      "cell_type": "code",
      "source": [
        "!pip install shap lime"
      ],
      "metadata": {
        "colab": {
          "base_uri": "https://localhost:8080/"
        },
        "id": "MFcyoWgiVN59",
        "outputId": "25f9aa15-2acc-4d4c-e6eb-7b35c27753ae"
      },
      "execution_count": 1,
      "outputs": [
        {
          "output_type": "stream",
          "name": "stdout",
          "text": [
            "Collecting shap\n",
            "  Downloading shap-0.44.0-cp310-cp310-manylinux_2_12_x86_64.manylinux2010_x86_64.manylinux_2_17_x86_64.manylinux2014_x86_64.whl (533 kB)\n",
            "\u001b[2K     \u001b[90m━━━━━━━━━━━━━━━━━━━━━━━━━━━━━━━━━━━━━━━━\u001b[0m \u001b[32m533.5/533.5 kB\u001b[0m \u001b[31m5.8 MB/s\u001b[0m eta \u001b[36m0:00:00\u001b[0m\n",
            "\u001b[?25hCollecting lime\n",
            "  Downloading lime-0.2.0.1.tar.gz (275 kB)\n",
            "\u001b[2K     \u001b[90m━━━━━━━━━━━━━━━━━━━━━━━━━━━━━━━━━━━━━━━━\u001b[0m \u001b[32m275.7/275.7 kB\u001b[0m \u001b[31m26.7 MB/s\u001b[0m eta \u001b[36m0:00:00\u001b[0m\n",
            "\u001b[?25h  Preparing metadata (setup.py) ... \u001b[?25l\u001b[?25hdone\n",
            "Requirement already satisfied: numpy in /usr/local/lib/python3.10/dist-packages (from shap) (1.23.5)\n",
            "Requirement already satisfied: scipy in /usr/local/lib/python3.10/dist-packages (from shap) (1.11.4)\n",
            "Requirement already satisfied: scikit-learn in /usr/local/lib/python3.10/dist-packages (from shap) (1.2.2)\n",
            "Requirement already satisfied: pandas in /usr/local/lib/python3.10/dist-packages (from shap) (1.5.3)\n",
            "Requirement already satisfied: tqdm>=4.27.0 in /usr/local/lib/python3.10/dist-packages (from shap) (4.66.1)\n",
            "Requirement already satisfied: packaging>20.9 in /usr/local/lib/python3.10/dist-packages (from shap) (23.2)\n",
            "Collecting slicer==0.0.7 (from shap)\n",
            "  Downloading slicer-0.0.7-py3-none-any.whl (14 kB)\n",
            "Requirement already satisfied: numba in /usr/local/lib/python3.10/dist-packages (from shap) (0.58.1)\n",
            "Requirement already satisfied: cloudpickle in /usr/local/lib/python3.10/dist-packages (from shap) (2.2.1)\n",
            "Requirement already satisfied: matplotlib in /usr/local/lib/python3.10/dist-packages (from lime) (3.7.1)\n",
            "Requirement already satisfied: scikit-image>=0.12 in /usr/local/lib/python3.10/dist-packages (from lime) (0.19.3)\n",
            "Requirement already satisfied: networkx>=2.2 in /usr/local/lib/python3.10/dist-packages (from scikit-image>=0.12->lime) (3.2.1)\n",
            "Requirement already satisfied: pillow!=7.1.0,!=7.1.1,!=8.3.0,>=6.1.0 in /usr/local/lib/python3.10/dist-packages (from scikit-image>=0.12->lime) (9.4.0)\n",
            "Requirement already satisfied: imageio>=2.4.1 in /usr/local/lib/python3.10/dist-packages (from scikit-image>=0.12->lime) (2.31.6)\n",
            "Requirement already satisfied: tifffile>=2019.7.26 in /usr/local/lib/python3.10/dist-packages (from scikit-image>=0.12->lime) (2023.12.9)\n",
            "Requirement already satisfied: PyWavelets>=1.1.1 in /usr/local/lib/python3.10/dist-packages (from scikit-image>=0.12->lime) (1.5.0)\n",
            "Requirement already satisfied: joblib>=1.1.1 in /usr/local/lib/python3.10/dist-packages (from scikit-learn->shap) (1.3.2)\n",
            "Requirement already satisfied: threadpoolctl>=2.0.0 in /usr/local/lib/python3.10/dist-packages (from scikit-learn->shap) (3.2.0)\n",
            "Requirement already satisfied: contourpy>=1.0.1 in /usr/local/lib/python3.10/dist-packages (from matplotlib->lime) (1.2.0)\n",
            "Requirement already satisfied: cycler>=0.10 in /usr/local/lib/python3.10/dist-packages (from matplotlib->lime) (0.12.1)\n",
            "Requirement already satisfied: fonttools>=4.22.0 in /usr/local/lib/python3.10/dist-packages (from matplotlib->lime) (4.47.2)\n",
            "Requirement already satisfied: kiwisolver>=1.0.1 in /usr/local/lib/python3.10/dist-packages (from matplotlib->lime) (1.4.5)\n",
            "Requirement already satisfied: pyparsing>=2.3.1 in /usr/local/lib/python3.10/dist-packages (from matplotlib->lime) (3.1.1)\n",
            "Requirement already satisfied: python-dateutil>=2.7 in /usr/local/lib/python3.10/dist-packages (from matplotlib->lime) (2.8.2)\n",
            "Requirement already satisfied: llvmlite<0.42,>=0.41.0dev0 in /usr/local/lib/python3.10/dist-packages (from numba->shap) (0.41.1)\n",
            "Requirement already satisfied: pytz>=2020.1 in /usr/local/lib/python3.10/dist-packages (from pandas->shap) (2023.3.post1)\n",
            "Requirement already satisfied: six>=1.5 in /usr/local/lib/python3.10/dist-packages (from python-dateutil>=2.7->matplotlib->lime) (1.16.0)\n",
            "Building wheels for collected packages: lime\n",
            "  Building wheel for lime (setup.py) ... \u001b[?25l\u001b[?25hdone\n",
            "  Created wheel for lime: filename=lime-0.2.0.1-py3-none-any.whl size=283835 sha256=6b2b753d30b0c25f8f0642bf4b138ccdf920f73716d2cdd7bd2b2c35859f1b18\n",
            "  Stored in directory: /root/.cache/pip/wheels/fd/a2/af/9ac0a1a85a27f314a06b39e1f492bee1547d52549a4606ed89\n",
            "Successfully built lime\n",
            "Installing collected packages: slicer, shap, lime\n",
            "Successfully installed lime-0.2.0.1 shap-0.44.0 slicer-0.0.7\n"
          ]
        }
      ]
    },
    {
      "cell_type": "code",
      "source": [
        "import yfinance as yf\n",
        "import numpy as np\n",
        "import pandas as pd\n",
        "from sklearn.preprocessing import MinMaxScaler\n",
        "from keras.models import Sequential\n",
        "from keras.layers import Dense, LSTM, Bidirectional, GRU, Reshape# captum (biblioteca de interpretação pytorch)\n",
        "import matplotlib.pyplot as plt\n",
        "from sklearn.metrics import mean_squared_error\n",
        "import tensorflow as tf\n",
        "import shap\n",
        "#from tensorflow.compat.v1.keras.backend import get_session\n",
        "\n",
        "tf.compat.v1.disable_v2_behavior() # caracteristica necessaria para o uso shap\n",
        "\n",
        "# Download data for the stock (I'm using the Bovespa index as an example)\n",
        "data = yf.download('^BVSP', '2007-01-01', '2023-10-17')\n",
        "data.head()\n",
        "\n",
        "\n"
      ],
      "metadata": {
        "id": "_-OO8Kp26MKx",
        "colab": {
          "base_uri": "https://localhost:8080/",
          "height": 255
        },
        "outputId": "59aae88c-8ae3-4247-cf8e-a51b5735eda0"
      },
      "execution_count": 88,
      "outputs": [
        {
          "output_type": "stream",
          "name": "stderr",
          "text": [
            "\r[*********************100%%**********************]  1 of 1 completed\n"
          ]
        },
        {
          "output_type": "execute_result",
          "data": {
            "text/plain": [
              "               Open     High      Low    Close  Adj Close     Volume\n",
              "Date                                                                \n",
              "2007-01-02  44476.0  45388.0  44476.0  45383.0    45383.0   75560200\n",
              "2007-01-03  45379.0  45379.0  44284.0  44445.0    44445.0  122372800\n",
              "2007-01-04  44442.0  44442.0  43623.0  44020.0    44020.0   86577000\n",
              "2007-01-05  44019.0  44081.0  42160.0  42245.0    42245.0  164055000\n",
              "2007-01-08  42249.0  42926.0  42144.0  42830.0    42830.0  114007100"
            ],
            "text/html": [
              "\n",
              "  <div id=\"df-d5ef058f-675a-45ee-a117-de12bea6aade\" class=\"colab-df-container\">\n",
              "    <div>\n",
              "<style scoped>\n",
              "    .dataframe tbody tr th:only-of-type {\n",
              "        vertical-align: middle;\n",
              "    }\n",
              "\n",
              "    .dataframe tbody tr th {\n",
              "        vertical-align: top;\n",
              "    }\n",
              "\n",
              "    .dataframe thead th {\n",
              "        text-align: right;\n",
              "    }\n",
              "</style>\n",
              "<table border=\"1\" class=\"dataframe\">\n",
              "  <thead>\n",
              "    <tr style=\"text-align: right;\">\n",
              "      <th></th>\n",
              "      <th>Open</th>\n",
              "      <th>High</th>\n",
              "      <th>Low</th>\n",
              "      <th>Close</th>\n",
              "      <th>Adj Close</th>\n",
              "      <th>Volume</th>\n",
              "    </tr>\n",
              "    <tr>\n",
              "      <th>Date</th>\n",
              "      <th></th>\n",
              "      <th></th>\n",
              "      <th></th>\n",
              "      <th></th>\n",
              "      <th></th>\n",
              "      <th></th>\n",
              "    </tr>\n",
              "  </thead>\n",
              "  <tbody>\n",
              "    <tr>\n",
              "      <th>2007-01-02</th>\n",
              "      <td>44476.0</td>\n",
              "      <td>45388.0</td>\n",
              "      <td>44476.0</td>\n",
              "      <td>45383.0</td>\n",
              "      <td>45383.0</td>\n",
              "      <td>75560200</td>\n",
              "    </tr>\n",
              "    <tr>\n",
              "      <th>2007-01-03</th>\n",
              "      <td>45379.0</td>\n",
              "      <td>45379.0</td>\n",
              "      <td>44284.0</td>\n",
              "      <td>44445.0</td>\n",
              "      <td>44445.0</td>\n",
              "      <td>122372800</td>\n",
              "    </tr>\n",
              "    <tr>\n",
              "      <th>2007-01-04</th>\n",
              "      <td>44442.0</td>\n",
              "      <td>44442.0</td>\n",
              "      <td>43623.0</td>\n",
              "      <td>44020.0</td>\n",
              "      <td>44020.0</td>\n",
              "      <td>86577000</td>\n",
              "    </tr>\n",
              "    <tr>\n",
              "      <th>2007-01-05</th>\n",
              "      <td>44019.0</td>\n",
              "      <td>44081.0</td>\n",
              "      <td>42160.0</td>\n",
              "      <td>42245.0</td>\n",
              "      <td>42245.0</td>\n",
              "      <td>164055000</td>\n",
              "    </tr>\n",
              "    <tr>\n",
              "      <th>2007-01-08</th>\n",
              "      <td>42249.0</td>\n",
              "      <td>42926.0</td>\n",
              "      <td>42144.0</td>\n",
              "      <td>42830.0</td>\n",
              "      <td>42830.0</td>\n",
              "      <td>114007100</td>\n",
              "    </tr>\n",
              "  </tbody>\n",
              "</table>\n",
              "</div>\n",
              "    <div class=\"colab-df-buttons\">\n",
              "\n",
              "  <div class=\"colab-df-container\">\n",
              "    <button class=\"colab-df-convert\" onclick=\"convertToInteractive('df-d5ef058f-675a-45ee-a117-de12bea6aade')\"\n",
              "            title=\"Convert this dataframe to an interactive table.\"\n",
              "            style=\"display:none;\">\n",
              "\n",
              "  <svg xmlns=\"http://www.w3.org/2000/svg\" height=\"24px\" viewBox=\"0 -960 960 960\">\n",
              "    <path d=\"M120-120v-720h720v720H120Zm60-500h600v-160H180v160Zm220 220h160v-160H400v160Zm0 220h160v-160H400v160ZM180-400h160v-160H180v160Zm440 0h160v-160H620v160ZM180-180h160v-160H180v160Zm440 0h160v-160H620v160Z\"/>\n",
              "  </svg>\n",
              "    </button>\n",
              "\n",
              "  <style>\n",
              "    .colab-df-container {\n",
              "      display:flex;\n",
              "      gap: 12px;\n",
              "    }\n",
              "\n",
              "    .colab-df-convert {\n",
              "      background-color: #E8F0FE;\n",
              "      border: none;\n",
              "      border-radius: 50%;\n",
              "      cursor: pointer;\n",
              "      display: none;\n",
              "      fill: #1967D2;\n",
              "      height: 32px;\n",
              "      padding: 0 0 0 0;\n",
              "      width: 32px;\n",
              "    }\n",
              "\n",
              "    .colab-df-convert:hover {\n",
              "      background-color: #E2EBFA;\n",
              "      box-shadow: 0px 1px 2px rgba(60, 64, 67, 0.3), 0px 1px 3px 1px rgba(60, 64, 67, 0.15);\n",
              "      fill: #174EA6;\n",
              "    }\n",
              "\n",
              "    .colab-df-buttons div {\n",
              "      margin-bottom: 4px;\n",
              "    }\n",
              "\n",
              "    [theme=dark] .colab-df-convert {\n",
              "      background-color: #3B4455;\n",
              "      fill: #D2E3FC;\n",
              "    }\n",
              "\n",
              "    [theme=dark] .colab-df-convert:hover {\n",
              "      background-color: #434B5C;\n",
              "      box-shadow: 0px 1px 3px 1px rgba(0, 0, 0, 0.15);\n",
              "      filter: drop-shadow(0px 1px 2px rgba(0, 0, 0, 0.3));\n",
              "      fill: #FFFFFF;\n",
              "    }\n",
              "  </style>\n",
              "\n",
              "    <script>\n",
              "      const buttonEl =\n",
              "        document.querySelector('#df-d5ef058f-675a-45ee-a117-de12bea6aade button.colab-df-convert');\n",
              "      buttonEl.style.display =\n",
              "        google.colab.kernel.accessAllowed ? 'block' : 'none';\n",
              "\n",
              "      async function convertToInteractive(key) {\n",
              "        const element = document.querySelector('#df-d5ef058f-675a-45ee-a117-de12bea6aade');\n",
              "        const dataTable =\n",
              "          await google.colab.kernel.invokeFunction('convertToInteractive',\n",
              "                                                    [key], {});\n",
              "        if (!dataTable) return;\n",
              "\n",
              "        const docLinkHtml = 'Like what you see? Visit the ' +\n",
              "          '<a target=\"_blank\" href=https://colab.research.google.com/notebooks/data_table.ipynb>data table notebook</a>'\n",
              "          + ' to learn more about interactive tables.';\n",
              "        element.innerHTML = '';\n",
              "        dataTable['output_type'] = 'display_data';\n",
              "        await google.colab.output.renderOutput(dataTable, element);\n",
              "        const docLink = document.createElement('div');\n",
              "        docLink.innerHTML = docLinkHtml;\n",
              "        element.appendChild(docLink);\n",
              "      }\n",
              "    </script>\n",
              "  </div>\n",
              "\n",
              "\n",
              "<div id=\"df-e3607e36-ec13-4fc7-b58a-546b69999457\">\n",
              "  <button class=\"colab-df-quickchart\" onclick=\"quickchart('df-e3607e36-ec13-4fc7-b58a-546b69999457')\"\n",
              "            title=\"Suggest charts\"\n",
              "            style=\"display:none;\">\n",
              "\n",
              "<svg xmlns=\"http://www.w3.org/2000/svg\" height=\"24px\"viewBox=\"0 0 24 24\"\n",
              "     width=\"24px\">\n",
              "    <g>\n",
              "        <path d=\"M19 3H5c-1.1 0-2 .9-2 2v14c0 1.1.9 2 2 2h14c1.1 0 2-.9 2-2V5c0-1.1-.9-2-2-2zM9 17H7v-7h2v7zm4 0h-2V7h2v10zm4 0h-2v-4h2v4z\"/>\n",
              "    </g>\n",
              "</svg>\n",
              "  </button>\n",
              "\n",
              "<style>\n",
              "  .colab-df-quickchart {\n",
              "      --bg-color: #E8F0FE;\n",
              "      --fill-color: #1967D2;\n",
              "      --hover-bg-color: #E2EBFA;\n",
              "      --hover-fill-color: #174EA6;\n",
              "      --disabled-fill-color: #AAA;\n",
              "      --disabled-bg-color: #DDD;\n",
              "  }\n",
              "\n",
              "  [theme=dark] .colab-df-quickchart {\n",
              "      --bg-color: #3B4455;\n",
              "      --fill-color: #D2E3FC;\n",
              "      --hover-bg-color: #434B5C;\n",
              "      --hover-fill-color: #FFFFFF;\n",
              "      --disabled-bg-color: #3B4455;\n",
              "      --disabled-fill-color: #666;\n",
              "  }\n",
              "\n",
              "  .colab-df-quickchart {\n",
              "    background-color: var(--bg-color);\n",
              "    border: none;\n",
              "    border-radius: 50%;\n",
              "    cursor: pointer;\n",
              "    display: none;\n",
              "    fill: var(--fill-color);\n",
              "    height: 32px;\n",
              "    padding: 0;\n",
              "    width: 32px;\n",
              "  }\n",
              "\n",
              "  .colab-df-quickchart:hover {\n",
              "    background-color: var(--hover-bg-color);\n",
              "    box-shadow: 0 1px 2px rgba(60, 64, 67, 0.3), 0 1px 3px 1px rgba(60, 64, 67, 0.15);\n",
              "    fill: var(--button-hover-fill-color);\n",
              "  }\n",
              "\n",
              "  .colab-df-quickchart-complete:disabled,\n",
              "  .colab-df-quickchart-complete:disabled:hover {\n",
              "    background-color: var(--disabled-bg-color);\n",
              "    fill: var(--disabled-fill-color);\n",
              "    box-shadow: none;\n",
              "  }\n",
              "\n",
              "  .colab-df-spinner {\n",
              "    border: 2px solid var(--fill-color);\n",
              "    border-color: transparent;\n",
              "    border-bottom-color: var(--fill-color);\n",
              "    animation:\n",
              "      spin 1s steps(1) infinite;\n",
              "  }\n",
              "\n",
              "  @keyframes spin {\n",
              "    0% {\n",
              "      border-color: transparent;\n",
              "      border-bottom-color: var(--fill-color);\n",
              "      border-left-color: var(--fill-color);\n",
              "    }\n",
              "    20% {\n",
              "      border-color: transparent;\n",
              "      border-left-color: var(--fill-color);\n",
              "      border-top-color: var(--fill-color);\n",
              "    }\n",
              "    30% {\n",
              "      border-color: transparent;\n",
              "      border-left-color: var(--fill-color);\n",
              "      border-top-color: var(--fill-color);\n",
              "      border-right-color: var(--fill-color);\n",
              "    }\n",
              "    40% {\n",
              "      border-color: transparent;\n",
              "      border-right-color: var(--fill-color);\n",
              "      border-top-color: var(--fill-color);\n",
              "    }\n",
              "    60% {\n",
              "      border-color: transparent;\n",
              "      border-right-color: var(--fill-color);\n",
              "    }\n",
              "    80% {\n",
              "      border-color: transparent;\n",
              "      border-right-color: var(--fill-color);\n",
              "      border-bottom-color: var(--fill-color);\n",
              "    }\n",
              "    90% {\n",
              "      border-color: transparent;\n",
              "      border-bottom-color: var(--fill-color);\n",
              "    }\n",
              "  }\n",
              "</style>\n",
              "\n",
              "  <script>\n",
              "    async function quickchart(key) {\n",
              "      const quickchartButtonEl =\n",
              "        document.querySelector('#' + key + ' button');\n",
              "      quickchartButtonEl.disabled = true;  // To prevent multiple clicks.\n",
              "      quickchartButtonEl.classList.add('colab-df-spinner');\n",
              "      try {\n",
              "        const charts = await google.colab.kernel.invokeFunction(\n",
              "            'suggestCharts', [key], {});\n",
              "      } catch (error) {\n",
              "        console.error('Error during call to suggestCharts:', error);\n",
              "      }\n",
              "      quickchartButtonEl.classList.remove('colab-df-spinner');\n",
              "      quickchartButtonEl.classList.add('colab-df-quickchart-complete');\n",
              "    }\n",
              "    (() => {\n",
              "      let quickchartButtonEl =\n",
              "        document.querySelector('#df-e3607e36-ec13-4fc7-b58a-546b69999457 button');\n",
              "      quickchartButtonEl.style.display =\n",
              "        google.colab.kernel.accessAllowed ? 'block' : 'none';\n",
              "    })();\n",
              "  </script>\n",
              "</div>\n",
              "    </div>\n",
              "  </div>\n"
            ]
          },
          "metadata": {},
          "execution_count": 88
        }
      ]
    },
    {
      "cell_type": "code",
      "source": [
        "sheet_id = \"19Qm-gxnILXY8QTBASGfwfxp6NsLMOLuEIVmJbQJF8r4\"\n",
        "sheet_name = \"structured_data\"\n",
        "url = f\"https://docs.google.com/spreadsheets/d/{sheet_id}/gviz/tq?tqx=out:csv&sheet={sheet_name}\"\n",
        "feriados = pd.read_csv(url)\n",
        "feriados.head()"
      ],
      "metadata": {
        "colab": {
          "base_uri": "https://localhost:8080/",
          "height": 206
        },
        "id": "DvR5gRlR_Cym",
        "outputId": "162e7195-f544-4837-d1d5-1812a9c8019f"
      },
      "execution_count": 89,
      "outputs": [
        {
          "output_type": "execute_result",
          "data": {
            "text/plain": [
              "         Date  4_observance  4_optional  4_public\n",
              "0  2007-01-01             0           0         1\n",
              "1  2007-02-17             0           1         0\n",
              "2  2007-04-06             0           0         1\n",
              "3  2007-04-08             1           0         0\n",
              "4  2007-04-21             0           0         1"
            ],
            "text/html": [
              "\n",
              "  <div id=\"df-ad5f1b36-b098-41a1-a5b2-a6200cab9308\" class=\"colab-df-container\">\n",
              "    <div>\n",
              "<style scoped>\n",
              "    .dataframe tbody tr th:only-of-type {\n",
              "        vertical-align: middle;\n",
              "    }\n",
              "\n",
              "    .dataframe tbody tr th {\n",
              "        vertical-align: top;\n",
              "    }\n",
              "\n",
              "    .dataframe thead th {\n",
              "        text-align: right;\n",
              "    }\n",
              "</style>\n",
              "<table border=\"1\" class=\"dataframe\">\n",
              "  <thead>\n",
              "    <tr style=\"text-align: right;\">\n",
              "      <th></th>\n",
              "      <th>Date</th>\n",
              "      <th>4_observance</th>\n",
              "      <th>4_optional</th>\n",
              "      <th>4_public</th>\n",
              "    </tr>\n",
              "  </thead>\n",
              "  <tbody>\n",
              "    <tr>\n",
              "      <th>0</th>\n",
              "      <td>2007-01-01</td>\n",
              "      <td>0</td>\n",
              "      <td>0</td>\n",
              "      <td>1</td>\n",
              "    </tr>\n",
              "    <tr>\n",
              "      <th>1</th>\n",
              "      <td>2007-02-17</td>\n",
              "      <td>0</td>\n",
              "      <td>1</td>\n",
              "      <td>0</td>\n",
              "    </tr>\n",
              "    <tr>\n",
              "      <th>2</th>\n",
              "      <td>2007-04-06</td>\n",
              "      <td>0</td>\n",
              "      <td>0</td>\n",
              "      <td>1</td>\n",
              "    </tr>\n",
              "    <tr>\n",
              "      <th>3</th>\n",
              "      <td>2007-04-08</td>\n",
              "      <td>1</td>\n",
              "      <td>0</td>\n",
              "      <td>0</td>\n",
              "    </tr>\n",
              "    <tr>\n",
              "      <th>4</th>\n",
              "      <td>2007-04-21</td>\n",
              "      <td>0</td>\n",
              "      <td>0</td>\n",
              "      <td>1</td>\n",
              "    </tr>\n",
              "  </tbody>\n",
              "</table>\n",
              "</div>\n",
              "    <div class=\"colab-df-buttons\">\n",
              "\n",
              "  <div class=\"colab-df-container\">\n",
              "    <button class=\"colab-df-convert\" onclick=\"convertToInteractive('df-ad5f1b36-b098-41a1-a5b2-a6200cab9308')\"\n",
              "            title=\"Convert this dataframe to an interactive table.\"\n",
              "            style=\"display:none;\">\n",
              "\n",
              "  <svg xmlns=\"http://www.w3.org/2000/svg\" height=\"24px\" viewBox=\"0 -960 960 960\">\n",
              "    <path d=\"M120-120v-720h720v720H120Zm60-500h600v-160H180v160Zm220 220h160v-160H400v160Zm0 220h160v-160H400v160ZM180-400h160v-160H180v160Zm440 0h160v-160H620v160ZM180-180h160v-160H180v160Zm440 0h160v-160H620v160Z\"/>\n",
              "  </svg>\n",
              "    </button>\n",
              "\n",
              "  <style>\n",
              "    .colab-df-container {\n",
              "      display:flex;\n",
              "      gap: 12px;\n",
              "    }\n",
              "\n",
              "    .colab-df-convert {\n",
              "      background-color: #E8F0FE;\n",
              "      border: none;\n",
              "      border-radius: 50%;\n",
              "      cursor: pointer;\n",
              "      display: none;\n",
              "      fill: #1967D2;\n",
              "      height: 32px;\n",
              "      padding: 0 0 0 0;\n",
              "      width: 32px;\n",
              "    }\n",
              "\n",
              "    .colab-df-convert:hover {\n",
              "      background-color: #E2EBFA;\n",
              "      box-shadow: 0px 1px 2px rgba(60, 64, 67, 0.3), 0px 1px 3px 1px rgba(60, 64, 67, 0.15);\n",
              "      fill: #174EA6;\n",
              "    }\n",
              "\n",
              "    .colab-df-buttons div {\n",
              "      margin-bottom: 4px;\n",
              "    }\n",
              "\n",
              "    [theme=dark] .colab-df-convert {\n",
              "      background-color: #3B4455;\n",
              "      fill: #D2E3FC;\n",
              "    }\n",
              "\n",
              "    [theme=dark] .colab-df-convert:hover {\n",
              "      background-color: #434B5C;\n",
              "      box-shadow: 0px 1px 3px 1px rgba(0, 0, 0, 0.15);\n",
              "      filter: drop-shadow(0px 1px 2px rgba(0, 0, 0, 0.3));\n",
              "      fill: #FFFFFF;\n",
              "    }\n",
              "  </style>\n",
              "\n",
              "    <script>\n",
              "      const buttonEl =\n",
              "        document.querySelector('#df-ad5f1b36-b098-41a1-a5b2-a6200cab9308 button.colab-df-convert');\n",
              "      buttonEl.style.display =\n",
              "        google.colab.kernel.accessAllowed ? 'block' : 'none';\n",
              "\n",
              "      async function convertToInteractive(key) {\n",
              "        const element = document.querySelector('#df-ad5f1b36-b098-41a1-a5b2-a6200cab9308');\n",
              "        const dataTable =\n",
              "          await google.colab.kernel.invokeFunction('convertToInteractive',\n",
              "                                                    [key], {});\n",
              "        if (!dataTable) return;\n",
              "\n",
              "        const docLinkHtml = 'Like what you see? Visit the ' +\n",
              "          '<a target=\"_blank\" href=https://colab.research.google.com/notebooks/data_table.ipynb>data table notebook</a>'\n",
              "          + ' to learn more about interactive tables.';\n",
              "        element.innerHTML = '';\n",
              "        dataTable['output_type'] = 'display_data';\n",
              "        await google.colab.output.renderOutput(dataTable, element);\n",
              "        const docLink = document.createElement('div');\n",
              "        docLink.innerHTML = docLinkHtml;\n",
              "        element.appendChild(docLink);\n",
              "      }\n",
              "    </script>\n",
              "  </div>\n",
              "\n",
              "\n",
              "<div id=\"df-def99ffb-cf00-4916-8e91-5bf3aeef838a\">\n",
              "  <button class=\"colab-df-quickchart\" onclick=\"quickchart('df-def99ffb-cf00-4916-8e91-5bf3aeef838a')\"\n",
              "            title=\"Suggest charts\"\n",
              "            style=\"display:none;\">\n",
              "\n",
              "<svg xmlns=\"http://www.w3.org/2000/svg\" height=\"24px\"viewBox=\"0 0 24 24\"\n",
              "     width=\"24px\">\n",
              "    <g>\n",
              "        <path d=\"M19 3H5c-1.1 0-2 .9-2 2v14c0 1.1.9 2 2 2h14c1.1 0 2-.9 2-2V5c0-1.1-.9-2-2-2zM9 17H7v-7h2v7zm4 0h-2V7h2v10zm4 0h-2v-4h2v4z\"/>\n",
              "    </g>\n",
              "</svg>\n",
              "  </button>\n",
              "\n",
              "<style>\n",
              "  .colab-df-quickchart {\n",
              "      --bg-color: #E8F0FE;\n",
              "      --fill-color: #1967D2;\n",
              "      --hover-bg-color: #E2EBFA;\n",
              "      --hover-fill-color: #174EA6;\n",
              "      --disabled-fill-color: #AAA;\n",
              "      --disabled-bg-color: #DDD;\n",
              "  }\n",
              "\n",
              "  [theme=dark] .colab-df-quickchart {\n",
              "      --bg-color: #3B4455;\n",
              "      --fill-color: #D2E3FC;\n",
              "      --hover-bg-color: #434B5C;\n",
              "      --hover-fill-color: #FFFFFF;\n",
              "      --disabled-bg-color: #3B4455;\n",
              "      --disabled-fill-color: #666;\n",
              "  }\n",
              "\n",
              "  .colab-df-quickchart {\n",
              "    background-color: var(--bg-color);\n",
              "    border: none;\n",
              "    border-radius: 50%;\n",
              "    cursor: pointer;\n",
              "    display: none;\n",
              "    fill: var(--fill-color);\n",
              "    height: 32px;\n",
              "    padding: 0;\n",
              "    width: 32px;\n",
              "  }\n",
              "\n",
              "  .colab-df-quickchart:hover {\n",
              "    background-color: var(--hover-bg-color);\n",
              "    box-shadow: 0 1px 2px rgba(60, 64, 67, 0.3), 0 1px 3px 1px rgba(60, 64, 67, 0.15);\n",
              "    fill: var(--button-hover-fill-color);\n",
              "  }\n",
              "\n",
              "  .colab-df-quickchart-complete:disabled,\n",
              "  .colab-df-quickchart-complete:disabled:hover {\n",
              "    background-color: var(--disabled-bg-color);\n",
              "    fill: var(--disabled-fill-color);\n",
              "    box-shadow: none;\n",
              "  }\n",
              "\n",
              "  .colab-df-spinner {\n",
              "    border: 2px solid var(--fill-color);\n",
              "    border-color: transparent;\n",
              "    border-bottom-color: var(--fill-color);\n",
              "    animation:\n",
              "      spin 1s steps(1) infinite;\n",
              "  }\n",
              "\n",
              "  @keyframes spin {\n",
              "    0% {\n",
              "      border-color: transparent;\n",
              "      border-bottom-color: var(--fill-color);\n",
              "      border-left-color: var(--fill-color);\n",
              "    }\n",
              "    20% {\n",
              "      border-color: transparent;\n",
              "      border-left-color: var(--fill-color);\n",
              "      border-top-color: var(--fill-color);\n",
              "    }\n",
              "    30% {\n",
              "      border-color: transparent;\n",
              "      border-left-color: var(--fill-color);\n",
              "      border-top-color: var(--fill-color);\n",
              "      border-right-color: var(--fill-color);\n",
              "    }\n",
              "    40% {\n",
              "      border-color: transparent;\n",
              "      border-right-color: var(--fill-color);\n",
              "      border-top-color: var(--fill-color);\n",
              "    }\n",
              "    60% {\n",
              "      border-color: transparent;\n",
              "      border-right-color: var(--fill-color);\n",
              "    }\n",
              "    80% {\n",
              "      border-color: transparent;\n",
              "      border-right-color: var(--fill-color);\n",
              "      border-bottom-color: var(--fill-color);\n",
              "    }\n",
              "    90% {\n",
              "      border-color: transparent;\n",
              "      border-bottom-color: var(--fill-color);\n",
              "    }\n",
              "  }\n",
              "</style>\n",
              "\n",
              "  <script>\n",
              "    async function quickchart(key) {\n",
              "      const quickchartButtonEl =\n",
              "        document.querySelector('#' + key + ' button');\n",
              "      quickchartButtonEl.disabled = true;  // To prevent multiple clicks.\n",
              "      quickchartButtonEl.classList.add('colab-df-spinner');\n",
              "      try {\n",
              "        const charts = await google.colab.kernel.invokeFunction(\n",
              "            'suggestCharts', [key], {});\n",
              "      } catch (error) {\n",
              "        console.error('Error during call to suggestCharts:', error);\n",
              "      }\n",
              "      quickchartButtonEl.classList.remove('colab-df-spinner');\n",
              "      quickchartButtonEl.classList.add('colab-df-quickchart-complete');\n",
              "    }\n",
              "    (() => {\n",
              "      let quickchartButtonEl =\n",
              "        document.querySelector('#df-def99ffb-cf00-4916-8e91-5bf3aeef838a button');\n",
              "      quickchartButtonEl.style.display =\n",
              "        google.colab.kernel.accessAllowed ? 'block' : 'none';\n",
              "    })();\n",
              "  </script>\n",
              "</div>\n",
              "    </div>\n",
              "  </div>\n"
            ]
          },
          "metadata": {},
          "execution_count": 89
        }
      ]
    },
    {
      "cell_type": "code",
      "source": [
        "data.reset_index(inplace=True)\n"
      ],
      "metadata": {
        "id": "OMxsdcUzTPYQ"
      },
      "execution_count": 90,
      "outputs": []
    },
    {
      "cell_type": "code",
      "source": [
        "feriados['Date']=feriados.Date.astype('datetime64[ns]')"
      ],
      "metadata": {
        "id": "oRD9pal6ATZA"
      },
      "execution_count": 91,
      "outputs": []
    },
    {
      "cell_type": "code",
      "source": [
        "data=data.merge(feriados, on='Date', how='left')"
      ],
      "metadata": {
        "id": "qUzf_NAn_4Dt"
      },
      "execution_count": 92,
      "outputs": []
    },
    {
      "cell_type": "code",
      "source": [
        "data['4_observance'] = data['4_observance'].fillna(0)\n",
        "data['4_public'] = data['4_public'].fillna(0)\n",
        "data['4_optional'] = data['4_optional'].fillna(0)"
      ],
      "metadata": {
        "id": "QttiEj1RA6Oc"
      },
      "execution_count": 93,
      "outputs": []
    },
    {
      "cell_type": "code",
      "source": [
        "data.head()"
      ],
      "metadata": {
        "colab": {
          "base_uri": "https://localhost:8080/",
          "height": 206
        },
        "id": "o2_WbczgBhSf",
        "outputId": "e212501b-f712-4488-a7a6-23c861b946aa"
      },
      "execution_count": 94,
      "outputs": [
        {
          "output_type": "execute_result",
          "data": {
            "text/plain": [
              "        Date     Open     High      Low    Close  Adj Close     Volume  \\\n",
              "0 2007-01-02  44476.0  45388.0  44476.0  45383.0    45383.0   75560200   \n",
              "1 2007-01-03  45379.0  45379.0  44284.0  44445.0    44445.0  122372800   \n",
              "2 2007-01-04  44442.0  44442.0  43623.0  44020.0    44020.0   86577000   \n",
              "3 2007-01-05  44019.0  44081.0  42160.0  42245.0    42245.0  164055000   \n",
              "4 2007-01-08  42249.0  42926.0  42144.0  42830.0    42830.0  114007100   \n",
              "\n",
              "   4_observance  4_optional  4_public  \n",
              "0           0.0         0.0       0.0  \n",
              "1           0.0         0.0       0.0  \n",
              "2           0.0         0.0       0.0  \n",
              "3           0.0         0.0       0.0  \n",
              "4           0.0         0.0       0.0  "
            ],
            "text/html": [
              "\n",
              "  <div id=\"df-9e1dac6f-da21-4254-ab49-fe1e0448b728\" class=\"colab-df-container\">\n",
              "    <div>\n",
              "<style scoped>\n",
              "    .dataframe tbody tr th:only-of-type {\n",
              "        vertical-align: middle;\n",
              "    }\n",
              "\n",
              "    .dataframe tbody tr th {\n",
              "        vertical-align: top;\n",
              "    }\n",
              "\n",
              "    .dataframe thead th {\n",
              "        text-align: right;\n",
              "    }\n",
              "</style>\n",
              "<table border=\"1\" class=\"dataframe\">\n",
              "  <thead>\n",
              "    <tr style=\"text-align: right;\">\n",
              "      <th></th>\n",
              "      <th>Date</th>\n",
              "      <th>Open</th>\n",
              "      <th>High</th>\n",
              "      <th>Low</th>\n",
              "      <th>Close</th>\n",
              "      <th>Adj Close</th>\n",
              "      <th>Volume</th>\n",
              "      <th>4_observance</th>\n",
              "      <th>4_optional</th>\n",
              "      <th>4_public</th>\n",
              "    </tr>\n",
              "  </thead>\n",
              "  <tbody>\n",
              "    <tr>\n",
              "      <th>0</th>\n",
              "      <td>2007-01-02</td>\n",
              "      <td>44476.0</td>\n",
              "      <td>45388.0</td>\n",
              "      <td>44476.0</td>\n",
              "      <td>45383.0</td>\n",
              "      <td>45383.0</td>\n",
              "      <td>75560200</td>\n",
              "      <td>0.0</td>\n",
              "      <td>0.0</td>\n",
              "      <td>0.0</td>\n",
              "    </tr>\n",
              "    <tr>\n",
              "      <th>1</th>\n",
              "      <td>2007-01-03</td>\n",
              "      <td>45379.0</td>\n",
              "      <td>45379.0</td>\n",
              "      <td>44284.0</td>\n",
              "      <td>44445.0</td>\n",
              "      <td>44445.0</td>\n",
              "      <td>122372800</td>\n",
              "      <td>0.0</td>\n",
              "      <td>0.0</td>\n",
              "      <td>0.0</td>\n",
              "    </tr>\n",
              "    <tr>\n",
              "      <th>2</th>\n",
              "      <td>2007-01-04</td>\n",
              "      <td>44442.0</td>\n",
              "      <td>44442.0</td>\n",
              "      <td>43623.0</td>\n",
              "      <td>44020.0</td>\n",
              "      <td>44020.0</td>\n",
              "      <td>86577000</td>\n",
              "      <td>0.0</td>\n",
              "      <td>0.0</td>\n",
              "      <td>0.0</td>\n",
              "    </tr>\n",
              "    <tr>\n",
              "      <th>3</th>\n",
              "      <td>2007-01-05</td>\n",
              "      <td>44019.0</td>\n",
              "      <td>44081.0</td>\n",
              "      <td>42160.0</td>\n",
              "      <td>42245.0</td>\n",
              "      <td>42245.0</td>\n",
              "      <td>164055000</td>\n",
              "      <td>0.0</td>\n",
              "      <td>0.0</td>\n",
              "      <td>0.0</td>\n",
              "    </tr>\n",
              "    <tr>\n",
              "      <th>4</th>\n",
              "      <td>2007-01-08</td>\n",
              "      <td>42249.0</td>\n",
              "      <td>42926.0</td>\n",
              "      <td>42144.0</td>\n",
              "      <td>42830.0</td>\n",
              "      <td>42830.0</td>\n",
              "      <td>114007100</td>\n",
              "      <td>0.0</td>\n",
              "      <td>0.0</td>\n",
              "      <td>0.0</td>\n",
              "    </tr>\n",
              "  </tbody>\n",
              "</table>\n",
              "</div>\n",
              "    <div class=\"colab-df-buttons\">\n",
              "\n",
              "  <div class=\"colab-df-container\">\n",
              "    <button class=\"colab-df-convert\" onclick=\"convertToInteractive('df-9e1dac6f-da21-4254-ab49-fe1e0448b728')\"\n",
              "            title=\"Convert this dataframe to an interactive table.\"\n",
              "            style=\"display:none;\">\n",
              "\n",
              "  <svg xmlns=\"http://www.w3.org/2000/svg\" height=\"24px\" viewBox=\"0 -960 960 960\">\n",
              "    <path d=\"M120-120v-720h720v720H120Zm60-500h600v-160H180v160Zm220 220h160v-160H400v160Zm0 220h160v-160H400v160ZM180-400h160v-160H180v160Zm440 0h160v-160H620v160ZM180-180h160v-160H180v160Zm440 0h160v-160H620v160Z\"/>\n",
              "  </svg>\n",
              "    </button>\n",
              "\n",
              "  <style>\n",
              "    .colab-df-container {\n",
              "      display:flex;\n",
              "      gap: 12px;\n",
              "    }\n",
              "\n",
              "    .colab-df-convert {\n",
              "      background-color: #E8F0FE;\n",
              "      border: none;\n",
              "      border-radius: 50%;\n",
              "      cursor: pointer;\n",
              "      display: none;\n",
              "      fill: #1967D2;\n",
              "      height: 32px;\n",
              "      padding: 0 0 0 0;\n",
              "      width: 32px;\n",
              "    }\n",
              "\n",
              "    .colab-df-convert:hover {\n",
              "      background-color: #E2EBFA;\n",
              "      box-shadow: 0px 1px 2px rgba(60, 64, 67, 0.3), 0px 1px 3px 1px rgba(60, 64, 67, 0.15);\n",
              "      fill: #174EA6;\n",
              "    }\n",
              "\n",
              "    .colab-df-buttons div {\n",
              "      margin-bottom: 4px;\n",
              "    }\n",
              "\n",
              "    [theme=dark] .colab-df-convert {\n",
              "      background-color: #3B4455;\n",
              "      fill: #D2E3FC;\n",
              "    }\n",
              "\n",
              "    [theme=dark] .colab-df-convert:hover {\n",
              "      background-color: #434B5C;\n",
              "      box-shadow: 0px 1px 3px 1px rgba(0, 0, 0, 0.15);\n",
              "      filter: drop-shadow(0px 1px 2px rgba(0, 0, 0, 0.3));\n",
              "      fill: #FFFFFF;\n",
              "    }\n",
              "  </style>\n",
              "\n",
              "    <script>\n",
              "      const buttonEl =\n",
              "        document.querySelector('#df-9e1dac6f-da21-4254-ab49-fe1e0448b728 button.colab-df-convert');\n",
              "      buttonEl.style.display =\n",
              "        google.colab.kernel.accessAllowed ? 'block' : 'none';\n",
              "\n",
              "      async function convertToInteractive(key) {\n",
              "        const element = document.querySelector('#df-9e1dac6f-da21-4254-ab49-fe1e0448b728');\n",
              "        const dataTable =\n",
              "          await google.colab.kernel.invokeFunction('convertToInteractive',\n",
              "                                                    [key], {});\n",
              "        if (!dataTable) return;\n",
              "\n",
              "        const docLinkHtml = 'Like what you see? Visit the ' +\n",
              "          '<a target=\"_blank\" href=https://colab.research.google.com/notebooks/data_table.ipynb>data table notebook</a>'\n",
              "          + ' to learn more about interactive tables.';\n",
              "        element.innerHTML = '';\n",
              "        dataTable['output_type'] = 'display_data';\n",
              "        await google.colab.output.renderOutput(dataTable, element);\n",
              "        const docLink = document.createElement('div');\n",
              "        docLink.innerHTML = docLinkHtml;\n",
              "        element.appendChild(docLink);\n",
              "      }\n",
              "    </script>\n",
              "  </div>\n",
              "\n",
              "\n",
              "<div id=\"df-af528f31-5bd0-4234-8212-619df897b091\">\n",
              "  <button class=\"colab-df-quickchart\" onclick=\"quickchart('df-af528f31-5bd0-4234-8212-619df897b091')\"\n",
              "            title=\"Suggest charts\"\n",
              "            style=\"display:none;\">\n",
              "\n",
              "<svg xmlns=\"http://www.w3.org/2000/svg\" height=\"24px\"viewBox=\"0 0 24 24\"\n",
              "     width=\"24px\">\n",
              "    <g>\n",
              "        <path d=\"M19 3H5c-1.1 0-2 .9-2 2v14c0 1.1.9 2 2 2h14c1.1 0 2-.9 2-2V5c0-1.1-.9-2-2-2zM9 17H7v-7h2v7zm4 0h-2V7h2v10zm4 0h-2v-4h2v4z\"/>\n",
              "    </g>\n",
              "</svg>\n",
              "  </button>\n",
              "\n",
              "<style>\n",
              "  .colab-df-quickchart {\n",
              "      --bg-color: #E8F0FE;\n",
              "      --fill-color: #1967D2;\n",
              "      --hover-bg-color: #E2EBFA;\n",
              "      --hover-fill-color: #174EA6;\n",
              "      --disabled-fill-color: #AAA;\n",
              "      --disabled-bg-color: #DDD;\n",
              "  }\n",
              "\n",
              "  [theme=dark] .colab-df-quickchart {\n",
              "      --bg-color: #3B4455;\n",
              "      --fill-color: #D2E3FC;\n",
              "      --hover-bg-color: #434B5C;\n",
              "      --hover-fill-color: #FFFFFF;\n",
              "      --disabled-bg-color: #3B4455;\n",
              "      --disabled-fill-color: #666;\n",
              "  }\n",
              "\n",
              "  .colab-df-quickchart {\n",
              "    background-color: var(--bg-color);\n",
              "    border: none;\n",
              "    border-radius: 50%;\n",
              "    cursor: pointer;\n",
              "    display: none;\n",
              "    fill: var(--fill-color);\n",
              "    height: 32px;\n",
              "    padding: 0;\n",
              "    width: 32px;\n",
              "  }\n",
              "\n",
              "  .colab-df-quickchart:hover {\n",
              "    background-color: var(--hover-bg-color);\n",
              "    box-shadow: 0 1px 2px rgba(60, 64, 67, 0.3), 0 1px 3px 1px rgba(60, 64, 67, 0.15);\n",
              "    fill: var(--button-hover-fill-color);\n",
              "  }\n",
              "\n",
              "  .colab-df-quickchart-complete:disabled,\n",
              "  .colab-df-quickchart-complete:disabled:hover {\n",
              "    background-color: var(--disabled-bg-color);\n",
              "    fill: var(--disabled-fill-color);\n",
              "    box-shadow: none;\n",
              "  }\n",
              "\n",
              "  .colab-df-spinner {\n",
              "    border: 2px solid var(--fill-color);\n",
              "    border-color: transparent;\n",
              "    border-bottom-color: var(--fill-color);\n",
              "    animation:\n",
              "      spin 1s steps(1) infinite;\n",
              "  }\n",
              "\n",
              "  @keyframes spin {\n",
              "    0% {\n",
              "      border-color: transparent;\n",
              "      border-bottom-color: var(--fill-color);\n",
              "      border-left-color: var(--fill-color);\n",
              "    }\n",
              "    20% {\n",
              "      border-color: transparent;\n",
              "      border-left-color: var(--fill-color);\n",
              "      border-top-color: var(--fill-color);\n",
              "    }\n",
              "    30% {\n",
              "      border-color: transparent;\n",
              "      border-left-color: var(--fill-color);\n",
              "      border-top-color: var(--fill-color);\n",
              "      border-right-color: var(--fill-color);\n",
              "    }\n",
              "    40% {\n",
              "      border-color: transparent;\n",
              "      border-right-color: var(--fill-color);\n",
              "      border-top-color: var(--fill-color);\n",
              "    }\n",
              "    60% {\n",
              "      border-color: transparent;\n",
              "      border-right-color: var(--fill-color);\n",
              "    }\n",
              "    80% {\n",
              "      border-color: transparent;\n",
              "      border-right-color: var(--fill-color);\n",
              "      border-bottom-color: var(--fill-color);\n",
              "    }\n",
              "    90% {\n",
              "      border-color: transparent;\n",
              "      border-bottom-color: var(--fill-color);\n",
              "    }\n",
              "  }\n",
              "</style>\n",
              "\n",
              "  <script>\n",
              "    async function quickchart(key) {\n",
              "      const quickchartButtonEl =\n",
              "        document.querySelector('#' + key + ' button');\n",
              "      quickchartButtonEl.disabled = true;  // To prevent multiple clicks.\n",
              "      quickchartButtonEl.classList.add('colab-df-spinner');\n",
              "      try {\n",
              "        const charts = await google.colab.kernel.invokeFunction(\n",
              "            'suggestCharts', [key], {});\n",
              "      } catch (error) {\n",
              "        console.error('Error during call to suggestCharts:', error);\n",
              "      }\n",
              "      quickchartButtonEl.classList.remove('colab-df-spinner');\n",
              "      quickchartButtonEl.classList.add('colab-df-quickchart-complete');\n",
              "    }\n",
              "    (() => {\n",
              "      let quickchartButtonEl =\n",
              "        document.querySelector('#df-af528f31-5bd0-4234-8212-619df897b091 button');\n",
              "      quickchartButtonEl.style.display =\n",
              "        google.colab.kernel.accessAllowed ? 'block' : 'none';\n",
              "    })();\n",
              "  </script>\n",
              "</div>\n",
              "    </div>\n",
              "  </div>\n"
            ]
          },
          "metadata": {},
          "execution_count": 94
        }
      ]
    },
    {
      "cell_type": "code",
      "source": [
        "plt.figure(figsize=(16,8))\n",
        "plt.title(\"Pontos de Fechamento (Histórico)\")\n",
        "plt.plot(data[\"Close\"])\n",
        "plt.xlabel(\"Data\",fontsize=18)\n",
        "plt.ylabel(\"Indice S&P 500\",fontsize=18)\n",
        "plt.show()"
      ],
      "metadata": {
        "id": "GYulY-iyFCcv",
        "colab": {
          "base_uri": "https://localhost:8080/",
          "height": 728
        },
        "outputId": "c82e84f7-a418-4526-97af-1e19b8cf8c52"
      },
      "execution_count": 95,
      "outputs": [
        {
          "output_type": "display_data",
          "data": {
            "text/plain": [
              "<Figure size 1600x800 with 1 Axes>"
            ],
            "image/png": "[encoded data removed]"
          },
          "metadata": {}
        }
      ]
    },
    {
      "cell_type": "code",
      "source": [
        "look_back=6"
      ],
      "metadata": {
        "id": "nXFDPyGFTKEt"
      },
      "execution_count": 96,
      "outputs": []
    },
    {
      "cell_type": "code",
      "source": [
        "last_rows=(len(data['Close'])-look_back)-int((len(data['Close'].values.reshape(-1, 1)[:])-look_back)*0.8)\n",
        "last_rows"
      ],
      "metadata": {
        "colab": {
          "base_uri": "https://localhost:8080/"
        },
        "id": "5C_9e_vOE7k1",
        "outputId": "108d57ce-f2f7-4c95-c115-d5355540d943"
      },
      "execution_count": 97,
      "outputs": [
        {
          "output_type": "execute_result",
          "data": {
            "text/plain": [
              "830"
            ]
          },
          "metadata": {},
          "execution_count": 97
        }
      ]
    },
    {
      "cell_type": "code",
      "source": [
        "size_of_slice=round((len(data['Close'].values.reshape(-1, 1)[:]))*0.8)\n",
        "size_of_slice=size_of_slice+(len(data)-(size_of_slice+last_rows))\n",
        "size_of_slice\n",
        "\n"
      ],
      "metadata": {
        "colab": {
          "base_uri": "https://localhost:8080/"
        },
        "id": "kdnm-dkFEjUo",
        "outputId": "e18f2488-8e3d-4ab2-f905-d309d9823c4c"
      },
      "execution_count": 98,
      "outputs": [
        {
          "output_type": "execute_result",
          "data": {
            "text/plain": [
              "3324"
            ]
          },
          "metadata": {},
          "execution_count": 98
        }
      ]
    },
    {
      "cell_type": "code",
      "source": [
        "data['Close']"
      ],
      "metadata": {
        "colab": {
          "base_uri": "https://localhost:8080/"
        },
        "id": "7N-CtisKT53O",
        "outputId": "0da26d73-250c-4d46-c117-6cd47d18daa1"
      },
      "execution_count": 99,
      "outputs": [
        {
          "output_type": "execute_result",
          "data": {
            "text/plain": [
              "0        45383.0\n",
              "1        44445.0\n",
              "2        44020.0\n",
              "3        42245.0\n",
              "4        42830.0\n",
              "          ...   \n",
              "4149    115156.0\n",
              "4150    116737.0\n",
              "4151    117051.0\n",
              "4152    115754.0\n",
              "4153    116534.0\n",
              "Name: Close, Length: 4154, dtype: float64"
            ]
          },
          "metadata": {},
          "execution_count": 99
        }
      ]
    },
    {
      "cell_type": "code",
      "source": [
        "# Normalize the data\n",
        "scaler = MinMaxScaler()\n",
        "\n",
        "data_train=pd.DataFrame(scaler.fit_transform(data['Close'].values[0:size_of_slice].reshape(-1, 1)),\n",
        "                        columns=['Close'],index=data['Close'].index[0:size_of_slice])#use fit only in training that is wrong\n",
        "data_test=pd.DataFrame(scaler.transform(data['Close'].values[size_of_slice:size_of_slice+last_rows].reshape(-1, 1)),\n",
        "                       columns=['Close'],index=data['Close'].index[size_of_slice:size_of_slice+last_rows])#use fit only in training that is wrong"
      ],
      "metadata": {
        "id": "fWHp4iKVJPQt"
      },
      "execution_count": 100,
      "outputs": []
    },
    {
      "cell_type": "code",
      "source": [
        "train_datanscal = data.iloc[0:size_of_slice]\n",
        "test_datanscal = data.iloc[size_of_slice:size_of_slice+last_rows]"
      ],
      "metadata": {
        "id": "pXuSa-s2DGA2"
      },
      "execution_count": 101,
      "outputs": []
    },
    {
      "cell_type": "code",
      "source": [
        "data.columns"
      ],
      "metadata": {
        "colab": {
          "base_uri": "https://localhost:8080/"
        },
        "id": "BRfe7fw8ELuv",
        "outputId": "32bff231-ec74-4c05-fdc5-ffcc484b254c"
      },
      "execution_count": 102,
      "outputs": [
        {
          "output_type": "execute_result",
          "data": {
            "text/plain": [
              "Index(['Date', 'Open', 'High', 'Low', 'Close', 'Adj Close', 'Volume',\n",
              "       '4_observance', '4_optional', '4_public'],\n",
              "      dtype='object')"
            ]
          },
          "metadata": {},
          "execution_count": 102
        }
      ]
    },
    {
      "cell_type": "code",
      "source": [
        "# Normalize the data\n",
        "scaler = MinMaxScaler()\n",
        "\n",
        "train_datanscal[['Open', 'High', 'Low', 'Close', 'Adj Close', 'Volume',\n",
        "       '4_observance', '4_optional', '4_public']] = scaler.fit_transform(train_datanscal[['Open', 'High', 'Low', 'Close', 'Adj Close', 'Volume',\n",
        "       '4_observance', '4_optional', '4_public']])\n",
        "train_datanscal.head()"
      ],
      "metadata": {
        "colab": {
          "base_uri": "https://localhost:8080/",
          "height": 293
        },
        "id": "jRd2K4zmEAmA",
        "outputId": "cf77ecd4-49cd-4e5e-f3e3-fbfe141cd805"
      },
      "execution_count": 103,
      "outputs": [
        {
          "output_type": "stream",
          "name": "stderr",
          "text": [
            "\n",
            "A value is trying to be set on a copy of a slice from a DataFrame.\n",
            "Try using .loc[row_indexer,col_indexer] = value instead\n",
            "\n",
            "See the caveats in the documentation: https://pandas.pydata.org/pandas-docs/stable/user_guide/indexing.html#returning-a-view-versus-a-copy\n"
          ]
        },
        {
          "output_type": "execute_result",
          "data": {
            "text/plain": [
              "        Date      Open      High       Low     Close  Adj Close    Volume  \\\n",
              "0 2007-01-02  0.166922  0.157843  0.169623  0.177017   0.177017  0.325319   \n",
              "1 2007-01-03  0.176945  0.157741  0.167458  0.166606   0.166606  0.526866   \n",
              "2 2007-01-04  0.166545  0.147107  0.160004  0.161888   0.161888  0.372750   \n",
              "3 2007-01-05  0.161849  0.143010  0.143505  0.142186   0.142186  0.706326   \n",
              "4 2007-01-08  0.142202  0.129901  0.143324  0.148680   0.148680  0.490849   \n",
              "\n",
              "   4_observance  4_optional  4_public  \n",
              "0           0.0         0.0       0.0  \n",
              "1           0.0         0.0       0.0  \n",
              "2           0.0         0.0       0.0  \n",
              "3           0.0         0.0       0.0  \n",
              "4           0.0         0.0       0.0  "
            ],
            "text/html": [
              "\n",
              "  <div id=\"df-97bbf7f6-e4d9-44f3-b86f-a11ec375c2da\" class=\"colab-df-container\">\n",
              "    <div>\n",
              "<style scoped>\n",
              "    .dataframe tbody tr th:only-of-type {\n",
              "        vertical-align: middle;\n",
              "    }\n",
              "\n",
              "    .dataframe tbody tr th {\n",
              "        vertical-align: top;\n",
              "    }\n",
              "\n",
              "    .dataframe thead th {\n",
              "        text-align: right;\n",
              "    }\n",
              "</style>\n",
              "<table border=\"1\" class=\"dataframe\">\n",
              "  <thead>\n",
              "    <tr style=\"text-align: right;\">\n",
              "      <th></th>\n",
              "      <th>Date</th>\n",
              "      <th>Open</th>\n",
              "      <th>High</th>\n",
              "      <th>Low</th>\n",
              "      <th>Close</th>\n",
              "      <th>Adj Close</th>\n",
              "      <th>Volume</th>\n",
              "      <th>4_observance</th>\n",
              "      <th>4_optional</th>\n",
              "      <th>4_public</th>\n",
              "    </tr>\n",
              "  </thead>\n",
              "  <tbody>\n",
              "    <tr>\n",
              "      <th>0</th>\n",
              "      <td>2007-01-02</td>\n",
              "      <td>0.166922</td>\n",
              "      <td>0.157843</td>\n",
              "      <td>0.169623</td>\n",
              "      <td>0.177017</td>\n",
              "      <td>0.177017</td>\n",
              "      <td>0.325319</td>\n",
              "      <td>0.0</td>\n",
              "      <td>0.0</td>\n",
              "      <td>0.0</td>\n",
              "    </tr>\n",
              "    <tr>\n",
              "      <th>1</th>\n",
              "      <td>2007-01-03</td>\n",
              "      <td>0.176945</td>\n",
              "      <td>0.157741</td>\n",
              "      <td>0.167458</td>\n",
              "      <td>0.166606</td>\n",
              "      <td>0.166606</td>\n",
              "      <td>0.526866</td>\n",
              "      <td>0.0</td>\n",
              "      <td>0.0</td>\n",
              "      <td>0.0</td>\n",
              "    </tr>\n",
              "    <tr>\n",
              "      <th>2</th>\n",
              "      <td>2007-01-04</td>\n",
              "      <td>0.166545</td>\n",
              "      <td>0.147107</td>\n",
              "      <td>0.160004</td>\n",
              "      <td>0.161888</td>\n",
              "      <td>0.161888</td>\n",
              "      <td>0.372750</td>\n",
              "      <td>0.0</td>\n",
              "      <td>0.0</td>\n",
              "      <td>0.0</td>\n",
              "    </tr>\n",
              "    <tr>\n",
              "      <th>3</th>\n",
              "      <td>2007-01-05</td>\n",
              "      <td>0.161849</td>\n",
              "      <td>0.143010</td>\n",
              "      <td>0.143505</td>\n",
              "      <td>0.142186</td>\n",
              "      <td>0.142186</td>\n",
              "      <td>0.706326</td>\n",
              "      <td>0.0</td>\n",
              "      <td>0.0</td>\n",
              "      <td>0.0</td>\n",
              "    </tr>\n",
              "    <tr>\n",
              "      <th>4</th>\n",
              "      <td>2007-01-08</td>\n",
              "      <td>0.142202</td>\n",
              "      <td>0.129901</td>\n",
              "      <td>0.143324</td>\n",
              "      <td>0.148680</td>\n",
              "      <td>0.148680</td>\n",
              "      <td>0.490849</td>\n",
              "      <td>0.0</td>\n",
              "      <td>0.0</td>\n",
              "      <td>0.0</td>\n",
              "    </tr>\n",
              "  </tbody>\n",
              "</table>\n",
              "</div>\n",
              "    <div class=\"colab-df-buttons\">\n",
              "\n",
              "  <div class=\"colab-df-container\">\n",
              "    <button class=\"colab-df-convert\" onclick=\"convertToInteractive('df-97bbf7f6-e4d9-44f3-b86f-a11ec375c2da')\"\n",
              "            title=\"Convert this dataframe to an interactive table.\"\n",
              "            style=\"display:none;\">\n",
              "\n",
              "  <svg xmlns=\"http://www.w3.org/2000/svg\" height=\"24px\" viewBox=\"0 -960 960 960\">\n",
              "    <path d=\"M120-120v-720h720v720H120Zm60-500h600v-160H180v160Zm220 220h160v-160H400v160Zm0 220h160v-160H400v160ZM180-400h160v-160H180v160Zm440 0h160v-160H620v160ZM180-180h160v-160H180v160Zm440 0h160v-160H620v160Z\"/>\n",
              "  </svg>\n",
              "    </button>\n",
              "\n",
              "  <style>\n",
              "    .colab-df-container {\n",
              "      display:flex;\n",
              "      gap: 12px;\n",
              "    }\n",
              "\n",
              "    .colab-df-convert {\n",
              "      background-color: #E8F0FE;\n",
              "      border: none;\n",
              "      border-radius: 50%;\n",
              "      cursor: pointer;\n",
              "      display: none;\n",
              "      fill: #1967D2;\n",
              "      height: 32px;\n",
              "      padding: 0 0 0 0;\n",
              "      width: 32px;\n",
              "    }\n",
              "\n",
              "    .colab-df-convert:hover {\n",
              "      background-color: #E2EBFA;\n",
              "      box-shadow: 0px 1px 2px rgba(60, 64, 67, 0.3), 0px 1px 3px 1px rgba(60, 64, 67, 0.15);\n",
              "      fill: #174EA6;\n",
              "    }\n",
              "\n",
              "    .colab-df-buttons div {\n",
              "      margin-bottom: 4px;\n",
              "    }\n",
              "\n",
              "    [theme=dark] .colab-df-convert {\n",
              "      background-color: #3B4455;\n",
              "      fill: #D2E3FC;\n",
              "    }\n",
              "\n",
              "    [theme=dark] .colab-df-convert:hover {\n",
              "      background-color: #434B5C;\n",
              "      box-shadow: 0px 1px 3px 1px rgba(0, 0, 0, 0.15);\n",
              "      filter: drop-shadow(0px 1px 2px rgba(0, 0, 0, 0.3));\n",
              "      fill: #FFFFFF;\n",
              "    }\n",
              "  </style>\n",
              "\n",
              "    <script>\n",
              "      const buttonEl =\n",
              "        document.querySelector('#df-97bbf7f6-e4d9-44f3-b86f-a11ec375c2da button.colab-df-convert');\n",
              "      buttonEl.style.display =\n",
              "        google.colab.kernel.accessAllowed ? 'block' : 'none';\n",
              "\n",
              "      async function convertToInteractive(key) {\n",
              "        const element = document.querySelector('#df-97bbf7f6-e4d9-44f3-b86f-a11ec375c2da');\n",
              "        const dataTable =\n",
              "          await google.colab.kernel.invokeFunction('convertToInteractive',\n",
              "                                                    [key], {});\n",
              "        if (!dataTable) return;\n",
              "\n",
              "        const docLinkHtml = 'Like what you see? Visit the ' +\n",
              "          '<a target=\"_blank\" href=https://colab.research.google.com/notebooks/data_table.ipynb>data table notebook</a>'\n",
              "          + ' to learn more about interactive tables.';\n",
              "        element.innerHTML = '';\n",
              "        dataTable['output_type'] = 'display_data';\n",
              "        await google.colab.output.renderOutput(dataTable, element);\n",
              "        const docLink = document.createElement('div');\n",
              "        docLink.innerHTML = docLinkHtml;\n",
              "        element.appendChild(docLink);\n",
              "      }\n",
              "    </script>\n",
              "  </div>\n",
              "\n",
              "\n",
              "<div id=\"df-a583bcb1-2b90-43dd-84a9-9f3949aec019\">\n",
              "  <button class=\"colab-df-quickchart\" onclick=\"quickchart('df-a583bcb1-2b90-43dd-84a9-9f3949aec019')\"\n",
              "            title=\"Suggest charts\"\n",
              "            style=\"display:none;\">\n",
              "\n",
              "<svg xmlns=\"http://www.w3.org/2000/svg\" height=\"24px\"viewBox=\"0 0 24 24\"\n",
              "     width=\"24px\">\n",
              "    <g>\n",
              "        <path d=\"M19 3H5c-1.1 0-2 .9-2 2v14c0 1.1.9 2 2 2h14c1.1 0 2-.9 2-2V5c0-1.1-.9-2-2-2zM9 17H7v-7h2v7zm4 0h-2V7h2v10zm4 0h-2v-4h2v4z\"/>\n",
              "    </g>\n",
              "</svg>\n",
              "  </button>\n",
              "\n",
              "<style>\n",
              "  .colab-df-quickchart {\n",
              "      --bg-color: #E8F0FE;\n",
              "      --fill-color: #1967D2;\n",
              "      --hover-bg-color: #E2EBFA;\n",
              "      --hover-fill-color: #174EA6;\n",
              "      --disabled-fill-color: #AAA;\n",
              "      --disabled-bg-color: #DDD;\n",
              "  }\n",
              "\n",
              "  [theme=dark] .colab-df-quickchart {\n",
              "      --bg-color: #3B4455;\n",
              "      --fill-color: #D2E3FC;\n",
              "      --hover-bg-color: #434B5C;\n",
              "      --hover-fill-color: #FFFFFF;\n",
              "      --disabled-bg-color: #3B4455;\n",
              "      --disabled-fill-color: #666;\n",
              "  }\n",
              "\n",
              "  .colab-df-quickchart {\n",
              "    background-color: var(--bg-color);\n",
              "    border: none;\n",
              "    border-radius: 50%;\n",
              "    cursor: pointer;\n",
              "    display: none;\n",
              "    fill: var(--fill-color);\n",
              "    height: 32px;\n",
              "    padding: 0;\n",
              "    width: 32px;\n",
              "  }\n",
              "\n",
              "  .colab-df-quickchart:hover {\n",
              "    background-color: var(--hover-bg-color);\n",
              "    box-shadow: 0 1px 2px rgba(60, 64, 67, 0.3), 0 1px 3px 1px rgba(60, 64, 67, 0.15);\n",
              "    fill: var(--button-hover-fill-color);\n",
              "  }\n",
              "\n",
              "  .colab-df-quickchart-complete:disabled,\n",
              "  .colab-df-quickchart-complete:disabled:hover {\n",
              "    background-color: var(--disabled-bg-color);\n",
              "    fill: var(--disabled-fill-color);\n",
              "    box-shadow: none;\n",
              "  }\n",
              "\n",
              "  .colab-df-spinner {\n",
              "    border: 2px solid var(--fill-color);\n",
              "    border-color: transparent;\n",
              "    border-bottom-color: var(--fill-color);\n",
              "    animation:\n",
              "      spin 1s steps(1) infinite;\n",
              "  }\n",
              "\n",
              "  @keyframes spin {\n",
              "    0% {\n",
              "      border-color: transparent;\n",
              "      border-bottom-color: var(--fill-color);\n",
              "      border-left-color: var(--fill-color);\n",
              "    }\n",
              "    20% {\n",
              "      border-color: transparent;\n",
              "      border-left-color: var(--fill-color);\n",
              "      border-top-color: var(--fill-color);\n",
              "    }\n",
              "    30% {\n",
              "      border-color: transparent;\n",
              "      border-left-color: var(--fill-color);\n",
              "      border-top-color: var(--fill-color);\n",
              "      border-right-color: var(--fill-color);\n",
              "    }\n",
              "    40% {\n",
              "      border-color: transparent;\n",
              "      border-right-color: var(--fill-color);\n",
              "      border-top-color: var(--fill-color);\n",
              "    }\n",
              "    60% {\n",
              "      border-color: transparent;\n",
              "      border-right-color: var(--fill-color);\n",
              "    }\n",
              "    80% {\n",
              "      border-color: transparent;\n",
              "      border-right-color: var(--fill-color);\n",
              "      border-bottom-color: var(--fill-color);\n",
              "    }\n",
              "    90% {\n",
              "      border-color: transparent;\n",
              "      border-bottom-color: var(--fill-color);\n",
              "    }\n",
              "  }\n",
              "</style>\n",
              "\n",
              "  <script>\n",
              "    async function quickchart(key) {\n",
              "      const quickchartButtonEl =\n",
              "        document.querySelector('#' + key + ' button');\n",
              "      quickchartButtonEl.disabled = true;  // To prevent multiple clicks.\n",
              "      quickchartButtonEl.classList.add('colab-df-spinner');\n",
              "      try {\n",
              "        const charts = await google.colab.kernel.invokeFunction(\n",
              "            'suggestCharts', [key], {});\n",
              "      } catch (error) {\n",
              "        console.error('Error during call to suggestCharts:', error);\n",
              "      }\n",
              "      quickchartButtonEl.classList.remove('colab-df-spinner');\n",
              "      quickchartButtonEl.classList.add('colab-df-quickchart-complete');\n",
              "    }\n",
              "    (() => {\n",
              "      let quickchartButtonEl =\n",
              "        document.querySelector('#df-a583bcb1-2b90-43dd-84a9-9f3949aec019 button');\n",
              "      quickchartButtonEl.style.display =\n",
              "        google.colab.kernel.accessAllowed ? 'block' : 'none';\n",
              "    })();\n",
              "  </script>\n",
              "</div>\n",
              "    </div>\n",
              "  </div>\n"
            ]
          },
          "metadata": {},
          "execution_count": 103
        }
      ]
    },
    {
      "cell_type": "code",
      "source": [
        "test_datanscal[['Open', 'High', 'Low', 'Close', 'Adj Close', 'Volume',\n",
        "       '4_observance', '4_optional', '4_public']] = scaler.transform(test_datanscal[['Open', 'High', 'Low', 'Close', 'Adj Close', 'Volume',\n",
        "       '4_observance', '4_optional', '4_public']])\n",
        "test_datanscal.head()"
      ],
      "metadata": {
        "colab": {
          "base_uri": "https://localhost:8080/",
          "height": 293
        },
        "id": "pAaRuYUKEX8H",
        "outputId": "6d6f9225-e0b8-4d0b-ed25-4fd18b9a73c0"
      },
      "execution_count": 104,
      "outputs": [
        {
          "output_type": "stream",
          "name": "stderr",
          "text": [
            "\n",
            "A value is trying to be set on a copy of a slice from a DataFrame.\n",
            "Try using .loc[row_indexer,col_indexer] = value instead\n",
            "\n",
            "See the caveats in the documentation: https://pandas.pydata.org/pandas-docs/stable/user_guide/indexing.html#returning-a-view-versus-a-copy\n"
          ]
        },
        {
          "output_type": "execute_result",
          "data": {
            "text/plain": [
              "           Date      Open      High       Low     Close  Adj Close    Volume  \\\n",
              "3324 2020-06-17  0.711433  0.739176  0.722836  0.733819   0.733819  0.047940   \n",
              "3325 2020-06-18  0.733811  0.744839  0.735996  0.740235   0.740235  0.043091   \n",
              "3326 2020-06-19  0.740371  0.749719  0.749259  0.745197   0.745197  0.056549   \n",
              "3327 2020-06-22  0.745188  0.742115  0.737925  0.731477   0.731477  0.035583   \n",
              "3328 2020-06-23  0.731557  0.749106  0.743281  0.738570   0.738570  0.041989   \n",
              "\n",
              "      4_observance  4_optional  4_public  \n",
              "3324           0.0         0.0       0.0  \n",
              "3325           0.0         0.0       0.0  \n",
              "3326           0.0         0.0       0.0  \n",
              "3327           0.0         0.0       0.0  \n",
              "3328           0.0         0.0       0.0  "
            ],
            "text/html": [
              "\n",
              "  <div id=\"df-0fbd2673-2b80-45fd-91a9-07388319a448\" class=\"colab-df-container\">\n",
              "    <div>\n",
              "<style scoped>\n",
              "    .dataframe tbody tr th:only-of-type {\n",
              "        vertical-align: middle;\n",
              "    }\n",
              "\n",
              "    .dataframe tbody tr th {\n",
              "        vertical-align: top;\n",
              "    }\n",
              "\n",
              "    .dataframe thead th {\n",
              "        text-align: right;\n",
              "    }\n",
              "</style>\n",
              "<table border=\"1\" class=\"dataframe\">\n",
              "  <thead>\n",
              "    <tr style=\"text-align: right;\">\n",
              "      <th></th>\n",
              "      <th>Date</th>\n",
              "      <th>Open</th>\n",
              "      <th>High</th>\n",
              "      <th>Low</th>\n",
              "      <th>Close</th>\n",
              "      <th>Adj Close</th>\n",
              "      <th>Volume</th>\n",
              "      <th>4_observance</th>\n",
              "      <th>4_optional</th>\n",
              "      <th>4_public</th>\n",
              "    </tr>\n",
              "  </thead>\n",
              "  <tbody>\n",
              "    <tr>\n",
              "      <th>3324</th>\n",
              "      <td>2020-06-17</td>\n",
              "      <td>0.711433</td>\n",
              "      <td>0.739176</td>\n",
              "      <td>0.722836</td>\n",
              "      <td>0.733819</td>\n",
              "      <td>0.733819</td>\n",
              "      <td>0.047940</td>\n",
              "      <td>0.0</td>\n",
              "      <td>0.0</td>\n",
              "      <td>0.0</td>\n",
              "    </tr>\n",
              "    <tr>\n",
              "      <th>3325</th>\n",
              "      <td>2020-06-18</td>\n",
              "      <td>0.733811</td>\n",
              "      <td>0.744839</td>\n",
              "      <td>0.735996</td>\n",
              "      <td>0.740235</td>\n",
              "      <td>0.740235</td>\n",
              "      <td>0.043091</td>\n",
              "      <td>0.0</td>\n",
              "      <td>0.0</td>\n",
              "      <td>0.0</td>\n",
              "    </tr>\n",
              "    <tr>\n",
              "      <th>3326</th>\n",
              "      <td>2020-06-19</td>\n",
              "      <td>0.740371</td>\n",
              "      <td>0.749719</td>\n",
              "      <td>0.749259</td>\n",
              "      <td>0.745197</td>\n",
              "      <td>0.745197</td>\n",
              "      <td>0.056549</td>\n",
              "      <td>0.0</td>\n",
              "      <td>0.0</td>\n",
              "      <td>0.0</td>\n",
              "    </tr>\n",
              "    <tr>\n",
              "      <th>3327</th>\n",
              "      <td>2020-06-22</td>\n",
              "      <td>0.745188</td>\n",
              "      <td>0.742115</td>\n",
              "      <td>0.737925</td>\n",
              "      <td>0.731477</td>\n",
              "      <td>0.731477</td>\n",
              "      <td>0.035583</td>\n",
              "      <td>0.0</td>\n",
              "      <td>0.0</td>\n",
              "      <td>0.0</td>\n",
              "    </tr>\n",
              "    <tr>\n",
              "      <th>3328</th>\n",
              "      <td>2020-06-23</td>\n",
              "      <td>0.731557</td>\n",
              "      <td>0.749106</td>\n",
              "      <td>0.743281</td>\n",
              "      <td>0.738570</td>\n",
              "      <td>0.738570</td>\n",
              "      <td>0.041989</td>\n",
              "      <td>0.0</td>\n",
              "      <td>0.0</td>\n",
              "      <td>0.0</td>\n",
              "    </tr>\n",
              "  </tbody>\n",
              "</table>\n",
              "</div>\n",
              "    <div class=\"colab-df-buttons\">\n",
              "\n",
              "  <div class=\"colab-df-container\">\n",
              "    <button class=\"colab-df-convert\" onclick=\"convertToInteractive('df-0fbd2673-2b80-45fd-91a9-07388319a448')\"\n",
              "            title=\"Convert this dataframe to an interactive table.\"\n",
              "            style=\"display:none;\">\n",
              "\n",
              "  <svg xmlns=\"http://www.w3.org/2000/svg\" height=\"24px\" viewBox=\"0 -960 960 960\">\n",
              "    <path d=\"M120-120v-720h720v720H120Zm60-500h600v-160H180v160Zm220 220h160v-160H400v160Zm0 220h160v-160H400v160ZM180-400h160v-160H180v160Zm440 0h160v-160H620v160ZM180-180h160v-160H180v160Zm440 0h160v-160H620v160Z\"/>\n",
              "  </svg>\n",
              "    </button>\n",
              "\n",
              "  <style>\n",
              "    .colab-df-container {\n",
              "      display:flex;\n",
              "      gap: 12px;\n",
              "    }\n",
              "\n",
              "    .colab-df-convert {\n",
              "      background-color: #E8F0FE;\n",
              "      border: none;\n",
              "      border-radius: 50%;\n",
              "      cursor: pointer;\n",
              "      display: none;\n",
              "      fill: #1967D2;\n",
              "      height: 32px;\n",
              "      padding: 0 0 0 0;\n",
              "      width: 32px;\n",
              "    }\n",
              "\n",
              "    .colab-df-convert:hover {\n",
              "      background-color: #E2EBFA;\n",
              "      box-shadow: 0px 1px 2px rgba(60, 64, 67, 0.3), 0px 1px 3px 1px rgba(60, 64, 67, 0.15);\n",
              "      fill: #174EA6;\n",
              "    }\n",
              "\n",
              "    .colab-df-buttons div {\n",
              "      margin-bottom: 4px;\n",
              "    }\n",
              "\n",
              "    [theme=dark] .colab-df-convert {\n",
              "      background-color: #3B4455;\n",
              "      fill: #D2E3FC;\n",
              "    }\n",
              "\n",
              "    [theme=dark] .colab-df-convert:hover {\n",
              "      background-color: #434B5C;\n",
              "      box-shadow: 0px 1px 3px 1px rgba(0, 0, 0, 0.15);\n",
              "      filter: drop-shadow(0px 1px 2px rgba(0, 0, 0, 0.3));\n",
              "      fill: #FFFFFF;\n",
              "    }\n",
              "  </style>\n",
              "\n",
              "    <script>\n",
              "      const buttonEl =\n",
              "        document.querySelector('#df-0fbd2673-2b80-45fd-91a9-07388319a448 button.colab-df-convert');\n",
              "      buttonEl.style.display =\n",
              "        google.colab.kernel.accessAllowed ? 'block' : 'none';\n",
              "\n",
              "      async function convertToInteractive(key) {\n",
              "        const element = document.querySelector('#df-0fbd2673-2b80-45fd-91a9-07388319a448');\n",
              "        const dataTable =\n",
              "          await google.colab.kernel.invokeFunction('convertToInteractive',\n",
              "                                                    [key], {});\n",
              "        if (!dataTable) return;\n",
              "\n",
              "        const docLinkHtml = 'Like what you see? Visit the ' +\n",
              "          '<a target=\"_blank\" href=https://colab.research.google.com/notebooks/data_table.ipynb>data table notebook</a>'\n",
              "          + ' to learn more about interactive tables.';\n",
              "        element.innerHTML = '';\n",
              "        dataTable['output_type'] = 'display_data';\n",
              "        await google.colab.output.renderOutput(dataTable, element);\n",
              "        const docLink = document.createElement('div');\n",
              "        docLink.innerHTML = docLinkHtml;\n",
              "        element.appendChild(docLink);\n",
              "      }\n",
              "    </script>\n",
              "  </div>\n",
              "\n",
              "\n",
              "<div id=\"df-1da46dde-d7c7-409c-8430-adba04614e06\">\n",
              "  <button class=\"colab-df-quickchart\" onclick=\"quickchart('df-1da46dde-d7c7-409c-8430-adba04614e06')\"\n",
              "            title=\"Suggest charts\"\n",
              "            style=\"display:none;\">\n",
              "\n",
              "<svg xmlns=\"http://www.w3.org/2000/svg\" height=\"24px\"viewBox=\"0 0 24 24\"\n",
              "     width=\"24px\">\n",
              "    <g>\n",
              "        <path d=\"M19 3H5c-1.1 0-2 .9-2 2v14c0 1.1.9 2 2 2h14c1.1 0 2-.9 2-2V5c0-1.1-.9-2-2-2zM9 17H7v-7h2v7zm4 0h-2V7h2v10zm4 0h-2v-4h2v4z\"/>\n",
              "    </g>\n",
              "</svg>\n",
              "  </button>\n",
              "\n",
              "<style>\n",
              "  .colab-df-quickchart {\n",
              "      --bg-color: #E8F0FE;\n",
              "      --fill-color: #1967D2;\n",
              "      --hover-bg-color: #E2EBFA;\n",
              "      --hover-fill-color: #174EA6;\n",
              "      --disabled-fill-color: #AAA;\n",
              "      --disabled-bg-color: #DDD;\n",
              "  }\n",
              "\n",
              "  [theme=dark] .colab-df-quickchart {\n",
              "      --bg-color: #3B4455;\n",
              "      --fill-color: #D2E3FC;\n",
              "      --hover-bg-color: #434B5C;\n",
              "      --hover-fill-color: #FFFFFF;\n",
              "      --disabled-bg-color: #3B4455;\n",
              "      --disabled-fill-color: #666;\n",
              "  }\n",
              "\n",
              "  .colab-df-quickchart {\n",
              "    background-color: var(--bg-color);\n",
              "    border: none;\n",
              "    border-radius: 50%;\n",
              "    cursor: pointer;\n",
              "    display: none;\n",
              "    fill: var(--fill-color);\n",
              "    height: 32px;\n",
              "    padding: 0;\n",
              "    width: 32px;\n",
              "  }\n",
              "\n",
              "  .colab-df-quickchart:hover {\n",
              "    background-color: var(--hover-bg-color);\n",
              "    box-shadow: 0 1px 2px rgba(60, 64, 67, 0.3), 0 1px 3px 1px rgba(60, 64, 67, 0.15);\n",
              "    fill: var(--button-hover-fill-color);\n",
              "  }\n",
              "\n",
              "  .colab-df-quickchart-complete:disabled,\n",
              "  .colab-df-quickchart-complete:disabled:hover {\n",
              "    background-color: var(--disabled-bg-color);\n",
              "    fill: var(--disabled-fill-color);\n",
              "    box-shadow: none;\n",
              "  }\n",
              "\n",
              "  .colab-df-spinner {\n",
              "    border: 2px solid var(--fill-color);\n",
              "    border-color: transparent;\n",
              "    border-bottom-color: var(--fill-color);\n",
              "    animation:\n",
              "      spin 1s steps(1) infinite;\n",
              "  }\n",
              "\n",
              "  @keyframes spin {\n",
              "    0% {\n",
              "      border-color: transparent;\n",
              "      border-bottom-color: var(--fill-color);\n",
              "      border-left-color: var(--fill-color);\n",
              "    }\n",
              "    20% {\n",
              "      border-color: transparent;\n",
              "      border-left-color: var(--fill-color);\n",
              "      border-top-color: var(--fill-color);\n",
              "    }\n",
              "    30% {\n",
              "      border-color: transparent;\n",
              "      border-left-color: var(--fill-color);\n",
              "      border-top-color: var(--fill-color);\n",
              "      border-right-color: var(--fill-color);\n",
              "    }\n",
              "    40% {\n",
              "      border-color: transparent;\n",
              "      border-right-color: var(--fill-color);\n",
              "      border-top-color: var(--fill-color);\n",
              "    }\n",
              "    60% {\n",
              "      border-color: transparent;\n",
              "      border-right-color: var(--fill-color);\n",
              "    }\n",
              "    80% {\n",
              "      border-color: transparent;\n",
              "      border-right-color: var(--fill-color);\n",
              "      border-bottom-color: var(--fill-color);\n",
              "    }\n",
              "    90% {\n",
              "      border-color: transparent;\n",
              "      border-bottom-color: var(--fill-color);\n",
              "    }\n",
              "  }\n",
              "</style>\n",
              "\n",
              "  <script>\n",
              "    async function quickchart(key) {\n",
              "      const quickchartButtonEl =\n",
              "        document.querySelector('#' + key + ' button');\n",
              "      quickchartButtonEl.disabled = true;  // To prevent multiple clicks.\n",
              "      quickchartButtonEl.classList.add('colab-df-spinner');\n",
              "      try {\n",
              "        const charts = await google.colab.kernel.invokeFunction(\n",
              "            'suggestCharts', [key], {});\n",
              "      } catch (error) {\n",
              "        console.error('Error during call to suggestCharts:', error);\n",
              "      }\n",
              "      quickchartButtonEl.classList.remove('colab-df-spinner');\n",
              "      quickchartButtonEl.classList.add('colab-df-quickchart-complete');\n",
              "    }\n",
              "    (() => {\n",
              "      let quickchartButtonEl =\n",
              "        document.querySelector('#df-1da46dde-d7c7-409c-8430-adba04614e06 button');\n",
              "      quickchartButtonEl.style.display =\n",
              "        google.colab.kernel.accessAllowed ? 'block' : 'none';\n",
              "    })();\n",
              "  </script>\n",
              "</div>\n",
              "    </div>\n",
              "  </div>\n"
            ]
          },
          "metadata": {},
          "execution_count": 104
        }
      ]
    },
    {
      "cell_type": "code",
      "source": [
        "data_train=train_datanscal.append(test_datanscal)"
      ],
      "metadata": {
        "colab": {
          "base_uri": "https://localhost:8080/"
        },
        "id": "j8fPi-cxFzDk",
        "outputId": "aa443f50-1d69-45b1-a3af-e3e82e07419a"
      },
      "execution_count": 105,
      "outputs": [
        {
          "output_type": "stream",
          "name": "stderr",
          "text": [
            "The frame.append method is deprecated and will be removed from pandas in a future version. Use pandas.concat instead.\n"
          ]
        }
      ]
    },
    {
      "cell_type": "code",
      "source": [
        "data_train.shape"
      ],
      "metadata": {
        "colab": {
          "base_uri": "https://localhost:8080/"
        },
        "id": "D7ztIbaGUjQh",
        "outputId": "80bc849a-875e-4263-cf0a-14a10d95840e"
      },
      "execution_count": 106,
      "outputs": [
        {
          "output_type": "execute_result",
          "data": {
            "text/plain": [
              "(4154, 10)"
            ]
          },
          "metadata": {},
          "execution_count": 106
        }
      ]
    },
    {
      "cell_type": "code",
      "source": [
        "len(data_train)==len(data)"
      ],
      "metadata": {
        "colab": {
          "base_uri": "https://localhost:8080/"
        },
        "id": "n0Or4Bs4LlhO",
        "outputId": "13dfa496-7ffd-42c9-df13-f965ef07148d"
      },
      "execution_count": 107,
      "outputs": [
        {
          "output_type": "execute_result",
          "data": {
            "text/plain": [
              "True"
            ]
          },
          "metadata": {},
          "execution_count": 107
        }
      ]
    },
    {
      "cell_type": "code",
      "source": [
        "data_train.shape"
      ],
      "metadata": {
        "colab": {
          "base_uri": "https://localhost:8080/"
        },
        "id": "i00AhPnPNEOl",
        "outputId": "ddff3e2c-c0d1-4dfa-91ec-439ac668479b"
      },
      "execution_count": 108,
      "outputs": [
        {
          "output_type": "execute_result",
          "data": {
            "text/plain": [
              "(4154, 10)"
            ]
          },
          "metadata": {},
          "execution_count": 108
        }
      ]
    },
    {
      "cell_type": "code",
      "source": [
        "# Normalize the data\n",
        "#scaler = MinMaxScaler()\n",
        "#data['Close'] = scaler.fit_transform(data['Close'].values.reshape(-1, 1))#use fit only in training that is wrong\n",
        "\n",
        "\n",
        "def create_lagged_dataframe(data, lags, include_lag0=False):\n",
        "    lagged_data = data.copy()\n",
        "\n",
        "    if include_lag0:\n",
        "        lagged_data['lag0'] = lagged_data['Close']\n",
        "\n",
        "    for lag in range(1, lags + 1):\n",
        "        lagged_data[f'lag{lag}'] = lagged_data['Close'].shift(lag)\n",
        "\n",
        "    return lagged_data\n",
        "# Split the data into train and test sets\n",
        "\n",
        "\n",
        "# Create lag features for the entire dataset\n",
        "include_lag0 = False  # You can set this to True if you want to include lag0\n",
        "\n",
        "lagged_data = create_lagged_dataframe(data_train, look_back, include_lag0)\n",
        "lagged_data = lagged_data.dropna()  # Drop rows with NaN values\n",
        "\n",
        "train_size = int(len(lagged_data) * 0.8)\n",
        "test_size = len(lagged_data) - train_size\n",
        "train, test = lagged_data[0:train_size], lagged_data[train_size:len(data)]"
      ],
      "metadata": {
        "id": "FmcKTQ2VmlCK"
      },
      "execution_count": 109,
      "outputs": []
    },
    {
      "cell_type": "code",
      "source": [
        "lagged_data.head()"
      ],
      "metadata": {
        "id": "L7i9DLwKFxCP",
        "outputId": "f11b6720-b765-493c-fa34-efa23308fa73",
        "colab": {
          "base_uri": "https://localhost:8080/",
          "height": 206
        }
      },
      "execution_count": 110,
      "outputs": [
        {
          "output_type": "execute_result",
          "data": {
            "text/plain": [
              "         Date      Open      High       Low     Close  Adj Close    Volume  \\\n",
              "6  2007-01-10  0.139449  0.123205  0.133423  0.143196   0.143196  0.476851   \n",
              "7  2007-01-11  0.143168  0.132194  0.141024  0.146904   0.146904  0.362369   \n",
              "8  2007-01-12  0.146864  0.132875  0.147632  0.151621   0.151621  0.416947   \n",
              "9  2007-01-15  0.151593  0.136109  0.151568  0.149668   0.149668  0.193864   \n",
              "10 2007-01-16  0.149606  0.129788  0.146381  0.146393   0.146393  0.400785   \n",
              "\n",
              "    4_observance  4_optional  4_public      lag1      lag2      lag3  \\\n",
              "6            0.0         0.0       0.0  0.139545  0.148680  0.142186   \n",
              "7            0.0         0.0       0.0  0.143196  0.139545  0.148680   \n",
              "8            0.0         0.0       0.0  0.146904  0.143196  0.139545   \n",
              "9            0.0         0.0       0.0  0.151621  0.146904  0.143196   \n",
              "10           0.0         0.0       0.0  0.149668  0.151621  0.146904   \n",
              "\n",
              "        lag4      lag5      lag6  \n",
              "6   0.161888  0.166606  0.177017  \n",
              "7   0.142186  0.161888  0.166606  \n",
              "8   0.148680  0.142186  0.161888  \n",
              "9   0.139545  0.148680  0.142186  \n",
              "10  0.143196  0.139545  0.148680  "
            ],
            "text/html": [
              "\n",
              "  <div id=\"df-4c787863-f7f2-4b27-ae8f-beabcb54cf07\" class=\"colab-df-container\">\n",
              "    <div>\n",
              "<style scoped>\n",
              "    .dataframe tbody tr th:only-of-type {\n",
              "        vertical-align: middle;\n",
              "    }\n",
              "\n",
              "    .dataframe tbody tr th {\n",
              "        vertical-align: top;\n",
              "    }\n",
              "\n",
              "    .dataframe thead th {\n",
              "        text-align: right;\n",
              "    }\n",
              "</style>\n",
              "<table border=\"1\" class=\"dataframe\">\n",
              "  <thead>\n",
              "    <tr style=\"text-align: right;\">\n",
              "      <th></th>\n",
              "      <th>Date</th>\n",
              "      <th>Open</th>\n",
              "      <th>High</th>\n",
              "      <th>Low</th>\n",
              "      <th>Close</th>\n",
              "      <th>Adj Close</th>\n",
              "      <th>Volume</th>\n",
              "      <th>4_observance</th>\n",
              "      <th>4_optional</th>\n",
              "      <th>4_public</th>\n",
              "      <th>lag1</th>\n",
              "      <th>lag2</th>\n",
              "      <th>lag3</th>\n",
              "      <th>lag4</th>\n",
              "      <th>lag5</th>\n",
              "      <th>lag6</th>\n",
              "    </tr>\n",
              "  </thead>\n",
              "  <tbody>\n",
              "    <tr>\n",
              "      <th>6</th>\n",
              "      <td>2007-01-10</td>\n",
              "      <td>0.139449</td>\n",
              "      <td>0.123205</td>\n",
              "      <td>0.133423</td>\n",
              "      <td>0.143196</td>\n",
              "      <td>0.143196</td>\n",
              "      <td>0.476851</td>\n",
              "      <td>0.0</td>\n",
              "      <td>0.0</td>\n",
              "      <td>0.0</td>\n",
              "      <td>0.139545</td>\n",
              "      <td>0.148680</td>\n",
              "      <td>0.142186</td>\n",
              "      <td>0.161888</td>\n",
              "      <td>0.166606</td>\n",
              "      <td>0.177017</td>\n",
              "    </tr>\n",
              "    <tr>\n",
              "      <th>7</th>\n",
              "      <td>2007-01-11</td>\n",
              "      <td>0.143168</td>\n",
              "      <td>0.132194</td>\n",
              "      <td>0.141024</td>\n",
              "      <td>0.146904</td>\n",
              "      <td>0.146904</td>\n",
              "      <td>0.362369</td>\n",
              "      <td>0.0</td>\n",
              "      <td>0.0</td>\n",
              "      <td>0.0</td>\n",
              "      <td>0.143196</td>\n",
              "      <td>0.139545</td>\n",
              "      <td>0.148680</td>\n",
              "      <td>0.142186</td>\n",
              "      <td>0.161888</td>\n",
              "      <td>0.166606</td>\n",
              "    </tr>\n",
              "    <tr>\n",
              "      <th>8</th>\n",
              "      <td>2007-01-12</td>\n",
              "      <td>0.146864</td>\n",
              "      <td>0.132875</td>\n",
              "      <td>0.147632</td>\n",
              "      <td>0.151621</td>\n",
              "      <td>0.151621</td>\n",
              "      <td>0.416947</td>\n",
              "      <td>0.0</td>\n",
              "      <td>0.0</td>\n",
              "      <td>0.0</td>\n",
              "      <td>0.146904</td>\n",
              "      <td>0.143196</td>\n",
              "      <td>0.139545</td>\n",
              "      <td>0.148680</td>\n",
              "      <td>0.142186</td>\n",
              "      <td>0.161888</td>\n",
              "    </tr>\n",
              "    <tr>\n",
              "      <th>9</th>\n",
              "      <td>2007-01-15</td>\n",
              "      <td>0.151593</td>\n",
              "      <td>0.136109</td>\n",
              "      <td>0.151568</td>\n",
              "      <td>0.149668</td>\n",
              "      <td>0.149668</td>\n",
              "      <td>0.193864</td>\n",
              "      <td>0.0</td>\n",
              "      <td>0.0</td>\n",
              "      <td>0.0</td>\n",
              "      <td>0.151621</td>\n",
              "      <td>0.146904</td>\n",
              "      <td>0.143196</td>\n",
              "      <td>0.139545</td>\n",
              "      <td>0.148680</td>\n",
              "      <td>0.142186</td>\n",
              "    </tr>\n",
              "    <tr>\n",
              "      <th>10</th>\n",
              "      <td>2007-01-16</td>\n",
              "      <td>0.149606</td>\n",
              "      <td>0.129788</td>\n",
              "      <td>0.146381</td>\n",
              "      <td>0.146393</td>\n",
              "      <td>0.146393</td>\n",
              "      <td>0.400785</td>\n",
              "      <td>0.0</td>\n",
              "      <td>0.0</td>\n",
              "      <td>0.0</td>\n",
              "      <td>0.149668</td>\n",
              "      <td>0.151621</td>\n",
              "      <td>0.146904</td>\n",
              "      <td>0.143196</td>\n",
              "      <td>0.139545</td>\n",
              "      <td>0.148680</td>\n",
              "    </tr>\n",
              "  </tbody>\n",
              "</table>\n",
              "</div>\n",
              "    <div class=\"colab-df-buttons\">\n",
              "\n",
              "  <div class=\"colab-df-container\">\n",
              "    <button class=\"colab-df-convert\" onclick=\"convertToInteractive('df-4c787863-f7f2-4b27-ae8f-beabcb54cf07')\"\n",
              "            title=\"Convert this dataframe to an interactive table.\"\n",
              "            style=\"display:none;\">\n",
              "\n",
              "  <svg xmlns=\"http://www.w3.org/2000/svg\" height=\"24px\" viewBox=\"0 -960 960 960\">\n",
              "    <path d=\"M120-120v-720h720v720H120Zm60-500h600v-160H180v160Zm220 220h160v-160H400v160Zm0 220h160v-160H400v160ZM180-400h160v-160H180v160Zm440 0h160v-160H620v160ZM180-180h160v-160H180v160Zm440 0h160v-160H620v160Z\"/>\n",
              "  </svg>\n",
              "    </button>\n",
              "\n",
              "  <style>\n",
              "    .colab-df-container {\n",
              "      display:flex;\n",
              "      gap: 12px;\n",
              "    }\n",
              "\n",
              "    .colab-df-convert {\n",
              "      background-color: #E8F0FE;\n",
              "      border: none;\n",
              "      border-radius: 50%;\n",
              "      cursor: pointer;\n",
              "      display: none;\n",
              "      fill: #1967D2;\n",
              "      height: 32px;\n",
              "      padding: 0 0 0 0;\n",
              "      width: 32px;\n",
              "    }\n",
              "\n",
              "    .colab-df-convert:hover {\n",
              "      background-color: #E2EBFA;\n",
              "      box-shadow: 0px 1px 2px rgba(60, 64, 67, 0.3), 0px 1px 3px 1px rgba(60, 64, 67, 0.15);\n",
              "      fill: #174EA6;\n",
              "    }\n",
              "\n",
              "    .colab-df-buttons div {\n",
              "      margin-bottom: 4px;\n",
              "    }\n",
              "\n",
              "    [theme=dark] .colab-df-convert {\n",
              "      background-color: #3B4455;\n",
              "      fill: #D2E3FC;\n",
              "    }\n",
              "\n",
              "    [theme=dark] .colab-df-convert:hover {\n",
              "      background-color: #434B5C;\n",
              "      box-shadow: 0px 1px 3px 1px rgba(0, 0, 0, 0.15);\n",
              "      filter: drop-shadow(0px 1px 2px rgba(0, 0, 0, 0.3));\n",
              "      fill: #FFFFFF;\n",
              "    }\n",
              "  </style>\n",
              "\n",
              "    <script>\n",
              "      const buttonEl =\n",
              "        document.querySelector('#df-4c787863-f7f2-4b27-ae8f-beabcb54cf07 button.colab-df-convert');\n",
              "      buttonEl.style.display =\n",
              "        google.colab.kernel.accessAllowed ? 'block' : 'none';\n",
              "\n",
              "      async function convertToInteractive(key) {\n",
              "        const element = document.querySelector('#df-4c787863-f7f2-4b27-ae8f-beabcb54cf07');\n",
              "        const dataTable =\n",
              "          await google.colab.kernel.invokeFunction('convertToInteractive',\n",
              "                                                    [key], {});\n",
              "        if (!dataTable) return;\n",
              "\n",
              "        const docLinkHtml = 'Like what you see? Visit the ' +\n",
              "          '<a target=\"_blank\" href=https://colab.research.google.com/notebooks/data_table.ipynb>data table notebook</a>'\n",
              "          + ' to learn more about interactive tables.';\n",
              "        element.innerHTML = '';\n",
              "        dataTable['output_type'] = 'display_data';\n",
              "        await google.colab.output.renderOutput(dataTable, element);\n",
              "        const docLink = document.createElement('div');\n",
              "        docLink.innerHTML = docLinkHtml;\n",
              "        element.appendChild(docLink);\n",
              "      }\n",
              "    </script>\n",
              "  </div>\n",
              "\n",
              "\n",
              "<div id=\"df-b6596723-4e52-40cd-9e22-08bb1bf96cfc\">\n",
              "  <button class=\"colab-df-quickchart\" onclick=\"quickchart('df-b6596723-4e52-40cd-9e22-08bb1bf96cfc')\"\n",
              "            title=\"Suggest charts\"\n",
              "            style=\"display:none;\">\n",
              "\n",
              "<svg xmlns=\"http://www.w3.org/2000/svg\" height=\"24px\"viewBox=\"0 0 24 24\"\n",
              "     width=\"24px\">\n",
              "    <g>\n",
              "        <path d=\"M19 3H5c-1.1 0-2 .9-2 2v14c0 1.1.9 2 2 2h14c1.1 0 2-.9 2-2V5c0-1.1-.9-2-2-2zM9 17H7v-7h2v7zm4 0h-2V7h2v10zm4 0h-2v-4h2v4z\"/>\n",
              "    </g>\n",
              "</svg>\n",
              "  </button>\n",
              "\n",
              "<style>\n",
              "  .colab-df-quickchart {\n",
              "      --bg-color: #E8F0FE;\n",
              "      --fill-color: #1967D2;\n",
              "      --hover-bg-color: #E2EBFA;\n",
              "      --hover-fill-color: #174EA6;\n",
              "      --disabled-fill-color: #AAA;\n",
              "      --disabled-bg-color: #DDD;\n",
              "  }\n",
              "\n",
              "  [theme=dark] .colab-df-quickchart {\n",
              "      --bg-color: #3B4455;\n",
              "      --fill-color: #D2E3FC;\n",
              "      --hover-bg-color: #434B5C;\n",
              "      --hover-fill-color: #FFFFFF;\n",
              "      --disabled-bg-color: #3B4455;\n",
              "      --disabled-fill-color: #666;\n",
              "  }\n",
              "\n",
              "  .colab-df-quickchart {\n",
              "    background-color: var(--bg-color);\n",
              "    border: none;\n",
              "    border-radius: 50%;\n",
              "    cursor: pointer;\n",
              "    display: none;\n",
              "    fill: var(--fill-color);\n",
              "    height: 32px;\n",
              "    padding: 0;\n",
              "    width: 32px;\n",
              "  }\n",
              "\n",
              "  .colab-df-quickchart:hover {\n",
              "    background-color: var(--hover-bg-color);\n",
              "    box-shadow: 0 1px 2px rgba(60, 64, 67, 0.3), 0 1px 3px 1px rgba(60, 64, 67, 0.15);\n",
              "    fill: var(--button-hover-fill-color);\n",
              "  }\n",
              "\n",
              "  .colab-df-quickchart-complete:disabled,\n",
              "  .colab-df-quickchart-complete:disabled:hover {\n",
              "    background-color: var(--disabled-bg-color);\n",
              "    fill: var(--disabled-fill-color);\n",
              "    box-shadow: none;\n",
              "  }\n",
              "\n",
              "  .colab-df-spinner {\n",
              "    border: 2px solid var(--fill-color);\n",
              "    border-color: transparent;\n",
              "    border-bottom-color: var(--fill-color);\n",
              "    animation:\n",
              "      spin 1s steps(1) infinite;\n",
              "  }\n",
              "\n",
              "  @keyframes spin {\n",
              "    0% {\n",
              "      border-color: transparent;\n",
              "      border-bottom-color: var(--fill-color);\n",
              "      border-left-color: var(--fill-color);\n",
              "    }\n",
              "    20% {\n",
              "      border-color: transparent;\n",
              "      border-left-color: var(--fill-color);\n",
              "      border-top-color: var(--fill-color);\n",
              "    }\n",
              "    30% {\n",
              "      border-color: transparent;\n",
              "      border-left-color: var(--fill-color);\n",
              "      border-top-color: var(--fill-color);\n",
              "      border-right-color: var(--fill-color);\n",
              "    }\n",
              "    40% {\n",
              "      border-color: transparent;\n",
              "      border-right-color: var(--fill-color);\n",
              "      border-top-color: var(--fill-color);\n",
              "    }\n",
              "    60% {\n",
              "      border-color: transparent;\n",
              "      border-right-color: var(--fill-color);\n",
              "    }\n",
              "    80% {\n",
              "      border-color: transparent;\n",
              "      border-right-color: var(--fill-color);\n",
              "      border-bottom-color: var(--fill-color);\n",
              "    }\n",
              "    90% {\n",
              "      border-color: transparent;\n",
              "      border-bottom-color: var(--fill-color);\n",
              "    }\n",
              "  }\n",
              "</style>\n",
              "\n",
              "  <script>\n",
              "    async function quickchart(key) {\n",
              "      const quickchartButtonEl =\n",
              "        document.querySelector('#' + key + ' button');\n",
              "      quickchartButtonEl.disabled = true;  // To prevent multiple clicks.\n",
              "      quickchartButtonEl.classList.add('colab-df-spinner');\n",
              "      try {\n",
              "        const charts = await google.colab.kernel.invokeFunction(\n",
              "            'suggestCharts', [key], {});\n",
              "      } catch (error) {\n",
              "        console.error('Error during call to suggestCharts:', error);\n",
              "      }\n",
              "      quickchartButtonEl.classList.remove('colab-df-spinner');\n",
              "      quickchartButtonEl.classList.add('colab-df-quickchart-complete');\n",
              "    }\n",
              "    (() => {\n",
              "      let quickchartButtonEl =\n",
              "        document.querySelector('#df-b6596723-4e52-40cd-9e22-08bb1bf96cfc button');\n",
              "      quickchartButtonEl.style.display =\n",
              "        google.colab.kernel.accessAllowed ? 'block' : 'none';\n",
              "    })();\n",
              "  </script>\n",
              "</div>\n",
              "    </div>\n",
              "  </div>\n"
            ]
          },
          "metadata": {},
          "execution_count": 110
        }
      ]
    },
    {
      "cell_type": "code",
      "source": [
        "trainX= train.drop(columns=['Close','Date']).values\n",
        "testX = test.drop(columns=['Close','Date']).values\n",
        "trainY= train['Close'].values\n",
        "testY= test['Close'].values\n",
        "\n",
        "print(\"TrainX shape:\", trainX.shape)\n",
        "print(\"TrainY shape:\", trainY.shape)\n",
        "print(\"TestX shape:\", testX.shape)\n",
        "print(\"TestY shape:\", testY.shape)"
      ],
      "metadata": {
        "colab": {
          "base_uri": "https://localhost:8080/"
        },
        "id": "kkM9H0zVU9wO",
        "outputId": "865457cd-6c11-4e09-ab54-d24e7488fc5f"
      },
      "execution_count": 111,
      "outputs": [
        {
          "output_type": "stream",
          "name": "stdout",
          "text": [
            "TrainX shape: (3318, 14)\n",
            "TrainY shape: (3318,)\n",
            "TestX shape: (830, 14)\n",
            "TestY shape: (830,)\n"
          ]
        }
      ]
    },
    {
      "cell_type": "code",
      "source": [
        "trainX"
      ],
      "metadata": {
        "colab": {
          "base_uri": "https://localhost:8080/"
        },
        "id": "rf9NaP4WrQ4Z",
        "outputId": "64800ced-4b97-4372-fdb7-a44e6e465cbd"
      },
      "execution_count": 112,
      "outputs": [
        {
          "output_type": "execute_result",
          "data": {
            "text/plain": [
              "array([[0.13944944, 0.12320543, 0.1334228 , ..., 0.16188827, 0.16660562,\n",
              "        0.17701708],\n",
              "       [0.14316794, 0.13219389, 0.14102376, ..., 0.14218641, 0.16188827,\n",
              "        0.16660562],\n",
              "       [0.14686425, 0.13287483, 0.14763231, ..., 0.1486797 , 0.14218641,\n",
              "        0.16188827],\n",
              "       ...,\n",
              "       [0.72415362, 0.71752182, 0.69216109, ..., 0.72371882, 0.71475031,\n",
              "        0.70557091],\n",
              "       [0.7030969 , 0.69946546, 0.68468418, ..., 0.75710655, 0.72371882,\n",
              "        0.71475031],\n",
              "       [0.6987346 , 0.72334389, 0.70993425, ..., 0.74713907, 0.75710655,\n",
              "        0.72371882]])"
            ]
          },
          "metadata": {},
          "execution_count": 112
        }
      ]
    },
    {
      "cell_type": "code",
      "source": [
        "trainX = trainX.reshape(3318,1,-1)"
      ],
      "metadata": {
        "id": "Vl7dGS8qnoMI"
      },
      "execution_count": 113,
      "outputs": []
    },
    {
      "cell_type": "code",
      "source": [
        "trainX.shape"
      ],
      "metadata": {
        "colab": {
          "base_uri": "https://localhost:8080/"
        },
        "id": "MHtYOWVwSr8c",
        "outputId": "d3e127e2-2942-433d-b60c-7a108126f75b"
      },
      "execution_count": 114,
      "outputs": [
        {
          "output_type": "execute_result",
          "data": {
            "text/plain": [
              "(3318, 1, 14)"
            ]
          },
          "metadata": {},
          "execution_count": 114
        }
      ]
    },
    {
      "cell_type": "code",
      "source": [
        "trainX = np.array(trainX)\n",
        "testX = np.array(testX)"
      ],
      "metadata": {
        "id": "LAJFzd9HubBa"
      },
      "execution_count": 115,
      "outputs": []
    },
    {
      "cell_type": "code",
      "source": [
        "np.reshape(trainX, (1,-1)).shape"
      ],
      "metadata": {
        "colab": {
          "base_uri": "https://localhost:8080/"
        },
        "id": "0GfK9iBQFIgQ",
        "outputId": "6e4e524b-3f92-4e19-ace3-fcb86d6e337c"
      },
      "execution_count": 116,
      "outputs": [
        {
          "output_type": "execute_result",
          "data": {
            "text/plain": [
              "(1, 46452)"
            ]
          },
          "metadata": {},
          "execution_count": 116
        }
      ]
    },
    {
      "cell_type": "code",
      "source": [
        "import tensorflow as tf\n",
        "\n",
        "tf.random.set_seed(22)\n",
        "\n",
        "# Reshape the input data for LSTM and GRU models\n",
        "#trainX = np.reshape(trainX, (trainX.shape[0], 1, trainX.shape[1]))\n",
        "#testX = np.reshape(testX, (testX.shape[0], 1, testX.shape[1]))\n",
        "\n",
        "# Define the GRU model\n",
        "def GRU_Model(output_window,look_back):\n",
        "    model = Sequential([\n",
        "            tf.keras.layers.Reshape((1, -1)),\n",
        "            tf.keras.layers.GRU(128, return_sequences=False, input_shape=(trainX.shape[0], 1, trainX.shape[1])),\n",
        "            tf.keras.layers.Dense(output_window)\n",
        "        ])\n",
        "#    model.add(GRU(128, return_sequences=False, input_shape=(1, look_back)))\n",
        " #   model.add(Dense(output_window))\n",
        "    model.compile(optimizer='adam', loss='mean_squared_error')\n",
        "    return model\n",
        "\n",
        "# Define the LSTM model\n",
        "def LSTM_Model(output_window,look_back):\n",
        "    model = Sequential([\n",
        "        tf.keras.layers.Reshape((1, -1)),\n",
        "\n",
        "          tf.keras.layers.LSTM(128, activation='relu', input_shape=(trainX.shape[0], 1, trainX.shape[1]), return_sequences=True),\n",
        "        tf.keras.layers.Flatten(),\n",
        "    tf.keras.layers.Dense(output_window)])\n",
        "    #model.add(LSTM(128, return_sequences=False, input_shape=(1, look_back)))\n",
        "    #model.add(Dense(output_window))\n",
        "    model.compile(optimizer='adam', loss='mean_squared_error')\n",
        "    return model\n",
        "\n",
        "# Define the LSTM model\n",
        "def biLSTM_Model(output_window,look_back):\n",
        "    # n_steps = x_train.shape[-2]\n",
        "    # n_features = x_train.shape[-1]\n",
        "    model = Sequential([\n",
        "        tf.keras.layers.Reshape((1, -1)),\n",
        "        tf.keras.layers.Bidirectional(\n",
        "          tf.keras.layers.LSTM(128, activation='relu', input_shape=(trainX.shape[0], 1, trainX.shape[1]), return_sequences=True)),\n",
        "        tf.keras.layers.Flatten(),\n",
        "        tf.keras.layers.Dense(output_window)]\n",
        "                       )\n",
        "    # model.add(tf.keras.layers.Embedding(1, 6, mask_zero=True))\n",
        "\n",
        "\n",
        "    ##model.add(Bidirectional(LSTM(128, activation='relu', input_shape=(1, look_back), return_sequences=False)))\n",
        "    #model.add(Bidirectional(LSTM(32, activation='relu', return_sequences=False)))\n",
        "    #model.add(Bidirectional(LSTM(16, activation='relu')))\n",
        "    # model.add(LSTM(128, return_sequences=False, input_shape=(1, look_back)))\n",
        "    #model.add(Dense(output_window))\n",
        "    model.compile(optimizer='adam', loss='mean_squared_error')\n",
        "    return model\n",
        "\n",
        "\n",
        "# Define the baseline model\n",
        "def baseline_model(output_window):\n",
        "    last_known_value = trainY[-1]\n",
        "    return np.full((len(testY), output_window), last_known_value)\n",
        "\n",
        "# Train and evaluate the models\n",
        "output_window = 1\n",
        "bilstm_model = biLSTM_Model(output_window,6)\n",
        "gru_model = GRU_Model(output_window,6)\n",
        "lstm_model = LSTM_Model(output_window,6)\n",
        "\n",
        "bilstm_model.fit(trainX, trainY, epochs=30, batch_size=64)\n",
        "gru_model.fit(trainX, trainY, epochs=30, batch_size=64)\n",
        "lstm_model.fit(trainX, trainY, epochs=30, batch_size=64)\n",
        "\n",
        "\n",
        "bilstm_predictions = bilstm_model.predict(testX)\n",
        "gru_predictions = gru_model.predict(testX)\n",
        "lstm_predictions = lstm_model.predict(testX)\n",
        "baseline_predictions = baseline_model(output_window)\n",
        "\n"
      ],
      "metadata": {
        "colab": {
          "base_uri": "https://localhost:8080/"
        },
        "id": "o7zvRt63shH2",
        "outputId": "99320467-75a9-4011-a0ea-0578a29f2175"
      },
      "execution_count": 117,
      "outputs": [
        {
          "output_type": "stream",
          "name": "stderr",
          "text": [
            "WARNING:tensorflow:Layer lstm_15 will not use cuDNN kernels since it doesn't meet the criteria. It will use a generic GPU kernel as fallback when running on GPU.\n",
            "WARNING:tensorflow:Layer lstm_15 will not use cuDNN kernels since it doesn't meet the criteria. It will use a generic GPU kernel as fallback when running on GPU.\n",
            "WARNING:tensorflow:Layer lstm_15 will not use cuDNN kernels since it doesn't meet the criteria. It will use a generic GPU kernel as fallback when running on GPU.\n",
            "WARNING:tensorflow:Layer gru_8 will not use cuDNN kernels since it doesn't meet the criteria. It will use a generic GPU kernel as fallback when running on GPU.\n",
            "WARNING:tensorflow:Layer lstm_16 will not use cuDNN kernels since it doesn't meet the criteria. It will use a generic GPU kernel as fallback when running on GPU.\n"
          ]
        },
        {
          "output_type": "stream",
          "name": "stdout",
          "text": [
            "Train on 3318 samples\n",
            "Epoch 1/30\n",
            "3318/3318 [==============================] - 1s 354us/sample - loss: 0.0400\n",
            "Epoch 2/30\n",
            "3318/3318 [==============================] - 0s 56us/sample - loss: 4.5592e-04\n",
            "Epoch 3/30\n",
            "3318/3318 [==============================] - 0s 55us/sample - loss: 2.5776e-04\n",
            "Epoch 4/30\n",
            "3318/3318 [==============================] - 0s 56us/sample - loss: 1.9579e-04\n",
            "Epoch 5/30\n",
            "3318/3318 [==============================] - 0s 61us/sample - loss: 1.6774e-04\n",
            "Epoch 6/30\n",
            "3318/3318 [==============================] - 0s 56us/sample - loss: 1.5133e-04\n",
            "Epoch 7/30\n",
            "3318/3318 [==============================] - 0s 57us/sample - loss: 1.3726e-04\n",
            "Epoch 8/30\n",
            "3318/3318 [==============================] - 0s 55us/sample - loss: 1.1382e-04\n",
            "Epoch 9/30\n",
            "3318/3318 [==============================] - 0s 55us/sample - loss: 9.3304e-05\n",
            "Epoch 10/30\n",
            "3318/3318 [==============================] - 0s 56us/sample - loss: 7.5415e-05\n",
            "Epoch 11/30\n",
            "3318/3318 [==============================] - 0s 60us/sample - loss: 6.4671e-05\n",
            "Epoch 12/30\n",
            "3318/3318 [==============================] - 0s 55us/sample - loss: 5.7076e-05\n",
            "Epoch 13/30\n",
            "3318/3318 [==============================] - 0s 56us/sample - loss: 4.5820e-05\n",
            "Epoch 14/30\n",
            "3318/3318 [==============================] - 0s 56us/sample - loss: 4.3960e-05\n",
            "Epoch 15/30\n",
            "3318/3318 [==============================] - 0s 54us/sample - loss: 3.8456e-05\n",
            "Epoch 16/30\n",
            "3318/3318 [==============================] - 0s 62us/sample - loss: 3.8005e-05\n",
            "Epoch 17/30\n",
            "3318/3318 [==============================] - 0s 56us/sample - loss: 3.8946e-05\n",
            "Epoch 18/30\n",
            "3318/3318 [==============================] - 0s 59us/sample - loss: 3.5845e-05\n",
            "Epoch 19/30\n",
            "3318/3318 [==============================] - 0s 58us/sample - loss: 3.5760e-05\n",
            "Epoch 20/30\n",
            "3318/3318 [==============================] - 0s 62us/sample - loss: 3.0326e-05\n",
            "Epoch 21/30\n",
            "3318/3318 [==============================] - 0s 68us/sample - loss: 2.8383e-05\n",
            "Epoch 22/30\n",
            "3318/3318 [==============================] - 0s 57us/sample - loss: 2.9096e-05\n",
            "Epoch 23/30\n",
            "3318/3318 [==============================] - 0s 62us/sample - loss: 3.3178e-05\n",
            "Epoch 24/30\n",
            "3318/3318 [==============================] - 0s 57us/sample - loss: 2.6252e-05\n",
            "Epoch 25/30\n",
            "3318/3318 [==============================] - 0s 58us/sample - loss: 2.4646e-05\n",
            "Epoch 26/30\n",
            "3318/3318 [==============================] - 0s 62us/sample - loss: 2.4320e-05\n",
            "Epoch 27/30\n",
            "3318/3318 [==============================] - 0s 57us/sample - loss: 2.2625e-05\n",
            "Epoch 28/30\n",
            "3318/3318 [==============================] - 0s 58us/sample - loss: 2.0582e-05\n",
            "Epoch 29/30\n",
            "3318/3318 [==============================] - 0s 56us/sample - loss: 2.0729e-05\n",
            "Epoch 30/30\n",
            "3318/3318 [==============================] - 0s 59us/sample - loss: 2.1059e-05\n",
            "Train on 3318 samples\n",
            "Epoch 1/30\n",
            "3318/3318 [==============================] - 1s 238us/sample - loss: 0.0118\n",
            "Epoch 2/30\n",
            "3318/3318 [==============================] - 0s 49us/sample - loss: 3.5405e-04\n",
            "Epoch 3/30\n",
            "3318/3318 [==============================] - 0s 46us/sample - loss: 2.1500e-04\n",
            "Epoch 4/30\n",
            "3318/3318 [==============================] - 0s 46us/sample - loss: 2.0314e-04\n",
            "Epoch 5/30\n",
            "3318/3318 [==============================] - 0s 45us/sample - loss: 1.9549e-04\n",
            "Epoch 6/30\n",
            "3318/3318 [==============================] - 0s 45us/sample - loss: 1.8712e-04\n",
            "Epoch 7/30\n",
            "3318/3318 [==============================] - 0s 47us/sample - loss: 1.7853e-04\n",
            "Epoch 8/30\n",
            "3318/3318 [==============================] - 0s 50us/sample - loss: 1.6922e-04\n",
            "Epoch 9/30\n",
            "3318/3318 [==============================] - 0s 49us/sample - loss: 1.6312e-04\n",
            "Epoch 10/30\n",
            "3318/3318 [==============================] - 0s 47us/sample - loss: 1.5447e-04\n",
            "Epoch 11/30\n",
            "3318/3318 [==============================] - 0s 47us/sample - loss: 1.4353e-04\n",
            "Epoch 12/30\n",
            "3318/3318 [==============================] - 0s 46us/sample - loss: 1.3766e-04\n",
            "Epoch 13/30\n",
            "3318/3318 [==============================] - 0s 44us/sample - loss: 1.2676e-04\n",
            "Epoch 14/30\n",
            "3318/3318 [==============================] - 0s 44us/sample - loss: 1.1702e-04\n",
            "Epoch 15/30\n",
            "3318/3318 [==============================] - 0s 48us/sample - loss: 1.0980e-04\n",
            "Epoch 16/30\n",
            "3318/3318 [==============================] - 0s 46us/sample - loss: 1.0152e-04\n",
            "Epoch 17/30\n",
            "3318/3318 [==============================] - 0s 46us/sample - loss: 9.4713e-05\n",
            "Epoch 18/30\n",
            "3318/3318 [==============================] - 0s 46us/sample - loss: 8.7138e-05\n",
            "Epoch 19/30\n",
            "3318/3318 [==============================] - 0s 44us/sample - loss: 8.0686e-05\n",
            "Epoch 20/30\n",
            "3318/3318 [==============================] - 0s 64us/sample - loss: 7.5258e-05\n",
            "Epoch 21/30\n",
            "3318/3318 [==============================] - 0s 71us/sample - loss: 6.9385e-05\n",
            "Epoch 22/30\n",
            "3318/3318 [==============================] - 0s 68us/sample - loss: 6.3134e-05\n",
            "Epoch 23/30\n",
            "3318/3318 [==============================] - 0s 63us/sample - loss: 6.0059e-05\n",
            "Epoch 24/30\n",
            "3318/3318 [==============================] - 0s 64us/sample - loss: 5.4804e-05\n",
            "Epoch 25/30\n",
            "3318/3318 [==============================] - 0s 67us/sample - loss: 4.9918e-05\n",
            "Epoch 26/30\n",
            "3318/3318 [==============================] - 0s 71us/sample - loss: 4.7692e-05\n",
            "Epoch 27/30\n",
            "3318/3318 [==============================] - 0s 66us/sample - loss: 4.3551e-05\n",
            "Epoch 28/30\n",
            "3318/3318 [==============================] - 0s 62us/sample - loss: 4.0597e-05\n",
            "Epoch 29/30\n",
            "3318/3318 [==============================] - 0s 65us/sample - loss: 3.7895e-05\n",
            "Epoch 30/30\n",
            "3318/3318 [==============================] - 0s 67us/sample - loss: 3.6930e-05\n",
            "Train on 3318 samples\n",
            "Epoch 1/30\n",
            "3318/3318 [==============================] - 1s 279us/sample - loss: 0.0596\n",
            "Epoch 2/30\n",
            "3318/3318 [==============================] - 0s 48us/sample - loss: 7.6064e-04\n",
            "Epoch 3/30\n",
            "3318/3318 [==============================] - 0s 46us/sample - loss: 3.7154e-04\n",
            "Epoch 4/30\n",
            "3318/3318 [==============================] - 0s 45us/sample - loss: 2.8795e-04\n",
            "Epoch 5/30\n",
            "3318/3318 [==============================] - 0s 48us/sample - loss: 2.1923e-04\n",
            "Epoch 6/30\n",
            "3318/3318 [==============================] - 0s 46us/sample - loss: 1.8369e-04\n",
            "Epoch 7/30\n",
            "3318/3318 [==============================] - 0s 45us/sample - loss: 1.6051e-04\n",
            "Epoch 8/30\n",
            "3318/3318 [==============================] - 0s 46us/sample - loss: 1.4831e-04\n",
            "Epoch 9/30\n",
            "3318/3318 [==============================] - 0s 46us/sample - loss: 1.3992e-04\n",
            "Epoch 10/30\n",
            "3318/3318 [==============================] - 0s 45us/sample - loss: 1.3182e-04\n",
            "Epoch 11/30\n",
            "3318/3318 [==============================] - 0s 47us/sample - loss: 1.2390e-04\n",
            "Epoch 12/30\n",
            "3318/3318 [==============================] - 0s 47us/sample - loss: 1.1661e-04\n",
            "Epoch 13/30\n",
            "3318/3318 [==============================] - 0s 44us/sample - loss: 1.1246e-04\n",
            "Epoch 14/30\n",
            "3318/3318 [==============================] - 0s 44us/sample - loss: 1.0395e-04\n",
            "Epoch 15/30\n",
            "3318/3318 [==============================] - 0s 50us/sample - loss: 9.7111e-05\n",
            "Epoch 16/30\n",
            "3318/3318 [==============================] - 0s 46us/sample - loss: 8.6672e-05\n",
            "Epoch 17/30\n",
            "3318/3318 [==============================] - 0s 46us/sample - loss: 7.9470e-05\n",
            "Epoch 18/30\n",
            "3318/3318 [==============================] - 0s 45us/sample - loss: 7.2426e-05\n",
            "Epoch 19/30\n",
            "3318/3318 [==============================] - 0s 47us/sample - loss: 6.6801e-05\n",
            "Epoch 20/30\n",
            "3318/3318 [==============================] - 0s 43us/sample - loss: 6.5153e-05\n",
            "Epoch 21/30\n",
            "3318/3318 [==============================] - 0s 43us/sample - loss: 5.4389e-05\n",
            "Epoch 22/30\n",
            "3318/3318 [==============================] - 0s 45us/sample - loss: 5.3137e-05\n",
            "Epoch 23/30\n",
            "3318/3318 [==============================] - 0s 44us/sample - loss: 4.7949e-05\n",
            "Epoch 24/30\n",
            "3318/3318 [==============================] - 0s 43us/sample - loss: 4.7942e-05\n",
            "Epoch 25/30\n",
            "3318/3318 [==============================] - 0s 44us/sample - loss: 4.4352e-05\n",
            "Epoch 26/30\n",
            "3318/3318 [==============================] - 0s 52us/sample - loss: 4.3529e-05\n",
            "Epoch 27/30\n",
            "3318/3318 [==============================] - 0s 46us/sample - loss: 4.1159e-05\n",
            "Epoch 28/30\n",
            "3318/3318 [==============================] - 0s 44us/sample - loss: 3.8800e-05\n",
            "Epoch 29/30\n",
            "3318/3318 [==============================] - 0s 44us/sample - loss: 4.1430e-05\n",
            "Epoch 30/30\n",
            "3318/3318 [==============================] - 0s 46us/sample - loss: 3.6917e-05\n"
          ]
        },
        {
          "output_type": "stream",
          "name": "stderr",
          "text": [
            "`Model.state_updates` will be removed in a future version. This property should not be used in TensorFlow 2.0, as `updates` are applied automatically.\n"
          ]
        }
      ]
    },
    {
      "cell_type": "code",
      "source": [
        "\n",
        "# Inverse transform the predictions\n",
        "gru_predictions = scaler.inverse_transform(gru_predictions.reshape(-1,1))\n",
        "lstm_predictions = scaler.inverse_transform(lstm_predictions.reshape(-1,1))\n",
        "baseline_predictions = scaler.inverse_transform(baseline_predictions)\n",
        "# Inverse transform the predictions\n",
        "bilstm_predictions = scaler.inverse_transform(bilstm_predictions.reshape(-1,1))\n"
      ],
      "metadata": {
        "id": "1wKS_h_-sSgn"
      },
      "execution_count": null,
      "outputs": []
    },
    {
      "cell_type": "code",
      "source": [
        " #Inverse transform both train and test data\n",
        "trainY = scaler.inverse_transform(trainY.reshape(-1, 1))\n",
        "testY = scaler.inverse_transform(testY.reshape(-1, 1))\n",
        "\n",
        "# Create a time index for plotting\n",
        "time_index_train = range(len(data) - len(testY) - len(trainY), len(data) - len(testY))\n",
        "time_index_test = range(len(data) - len(testY), len(data))\n",
        "\n",
        "# Plot all true values and the predictions with different colors\n",
        "plt.figure(figsize=(12, 6))\n",
        "plt.plot(time_index_train, trainY, label='Actual Train Close', color='blue', linestyle='dotted')\n",
        "plt.plot(time_index_test, testY, label='Actual Test Close', color='blue')\n",
        "plt.plot(time_index_test, gru_predictions, label='GRU Predictions', color='green')\n",
        "plt.plot(time_index_test, lstm_predictions, label='LSTM Predictions', color='red')\n",
        "plt.plot(time_index_test, bilstm_predictions, label='biLSTM Predictions', color='purple')\n",
        "plt.plot(time_index_test, baseline_predictions, label='Baseline Predictions', color='orange')\n",
        "plt.legend()\n",
        "plt.show()"
      ],
      "metadata": {
        "colab": {
          "base_uri": "https://localhost:8080/",
          "height": 522
        },
        "id": "bJaPXOtA6q6i",
        "outputId": "bb778b11-400c-4707-c50f-824d607b4a77"
      },
      "execution_count": 118,
      "outputs": [
        {
          "output_type": "display_data",
          "data": {
            "text/plain": [
              "<Figure size 1200x600 with 1 Axes>"
            ],
            "image/png": "[encoded data removed]"
          },
          "metadata": {}
        }
      ]
    },
    {
      "cell_type": "code",
      "source": [
        "# Calculate the mean squared error for each model\n",
        "gru_mse = mean_squared_error(testY, gru_predictions)\n",
        "lstm_mse = mean_squared_error(testY, lstm_predictions)\n",
        "bilstm_mse = mean_squared_error(testY, bilstm_predictions)\n",
        "baseline_mse = mean_squared_error(testY, baseline_predictions)\n",
        "\n",
        "# Compare the models using Mean Squared Error\n",
        "print(\"GRU Model RMSE: \", np.sqrt(gru_mse))\n",
        "print(\"LSTM Model RMSE: \", np.sqrt(lstm_mse))\n",
        "print(\"biLSTM Model RMSE: \", np.sqrt(bilstm_mse))\n",
        "print(\"Baseline Model RMSE: \", np.sqrt(baseline_mse))\n"
      ],
      "metadata": {
        "colab": {
          "base_uri": "https://localhost:8080/"
        },
        "id": "ccMJGR3B8545",
        "outputId": "817ee124-1fc3-4ca5-df3f-135b7a3a2ce2"
      },
      "execution_count": 119,
      "outputs": [
        {
          "output_type": "stream",
          "name": "stdout",
          "text": [
            "GRU Model RMSE:  0.007355786657238309\n",
            "LSTM Model RMSE:  0.00984201380650008\n",
            "biLSTM Model RMSE:  0.0077056947961278\n",
            "Baseline Model RMSE:  0.21553148772703748\n"
          ]
        }
      ]
    },
    {
      "cell_type": "code",
      "source": [
        "# Calculate the Mean Absolute Percentage Error (MAPE) for each model\n",
        "def calculate_mape(true_values, predicted_values):\n",
        "    abs_percentage_errors = np.abs((true_values - predicted_values) / true_values)\n",
        "    mape = np.mean(abs_percentage_errors) * 100  # Convert to percentage\n",
        "    return mape\n",
        "\n",
        "gru_mape = calculate_mape(testY, gru_predictions)\n",
        "lstm_mape = calculate_mape(testY, lstm_predictions)\n",
        "bilstm_mape = calculate_mape(testY, bilstm_predictions)\n",
        "baseline_mape = calculate_mape(testY, baseline_predictions)\n",
        "\n",
        "# Compare the models using Mean Absolute Percentage Error\n",
        "print(\"GRU Model MAPE: {:.2f}%\".format(gru_mape))\n",
        "print(\"LSTM Model MAPE: {:.2f}%\".format(lstm_mape))\n",
        "print(\"biLSTM Model MAPE: {:.2f}%\".format(bilstm_mape))\n",
        "print(\"Baseline Model MAPE: {:.2f}%\".format(baseline_mape))\n"
      ],
      "metadata": {
        "colab": {
          "base_uri": "https://localhost:8080/"
        },
        "id": "4GUBmUd0SfUt",
        "outputId": "2fc1e8a4-18e6-4f19-b8d6-c323b4da0b70"
      },
      "execution_count": 120,
      "outputs": [
        {
          "output_type": "stream",
          "name": "stdout",
          "text": [
            "GRU Model MAPE: 11.37%\n",
            "LSTM Model MAPE: 11.47%\n",
            "biLSTM Model MAPE: 11.59%\n",
            "Baseline Model MAPE: 20.81%\n"
          ]
        }
      ]
    },
    {
      "cell_type": "code",
      "source": [
        "def calculate_mae(true_values, predicted_values):\n",
        "    abs_errors = np.abs(true_values - predicted_values)\n",
        "    mae = np.mean(abs_errors)\n",
        "    return mae\n",
        "\n",
        "gru_mae = calculate_mae(testY, gru_predictions)\n",
        "lstm_mae = calculate_mae(testY, lstm_predictions)\n",
        "bilstm_mae = calculate_mae(testY, bilstm_predictions)\n",
        "baseline_mae = calculate_mae(testY, baseline_predictions)\n",
        "\n",
        "# Compare the models using Mean Absolute Percentage Error\n",
        "print(\"GRU Model MAE: {:.2f}\".format(gru_mae))\n",
        "print(\"LSTM Model MAE: {:.2f}\".format(lstm_mae))\n",
        "print(\"biLSTM Model MAE: {:.2f}\".format(bilstm_mae))\n",
        "print(\"Baseline Model MAE: {:.2f}\".format(baseline_mae))"
      ],
      "metadata": {
        "colab": {
          "base_uri": "https://localhost:8080/"
        },
        "id": "KQZIaXU2zQTP",
        "outputId": "42064ef6-c3c1-47e0-d4f0-23729afb0d4c"
      },
      "execution_count": 121,
      "outputs": [
        {
          "output_type": "stream",
          "name": "stdout",
          "text": [
            "GRU Model MAE: 0.10\n",
            "LSTM Model MAE: 0.10\n",
            "biLSTM Model MAE: 0.10\n",
            "Baseline Model MAE: 0.20\n"
          ]
        }
      ]
    },
    {
      "cell_type": "code",
      "source": [
        "# Calculate the MASE for each model\n",
        "def calculate_mase(model_mae, baseline_mae):\n",
        "    mase = model_mae / baseline_mae\n",
        "    return mase\n",
        "\n",
        "gru_mase = calculate_mase(gru_mae, baseline_mae)\n",
        "lstm_mase = calculate_mase(lstm_mae, baseline_mae)\n",
        "bilstm_mase = calculate_mase(bilstm_mae, baseline_mae)\n",
        "\n",
        "# Compare the models using Mean Absolute Scaled Error\n",
        "print(\"GRU Model MASE: {:.2f}\".format(gru_mase))\n",
        "print(\"LSTM Model MASE: {:.2f}\".format(lstm_mase))\n",
        "print(\"biLSTM Model MASE: {:.2f}\".format(bilstm_mase))"
      ],
      "metadata": {
        "colab": {
          "base_uri": "https://localhost:8080/"
        },
        "id": "mcYpyCp2T-Cs",
        "outputId": "31144534-ad21-45ff-9f9e-1fc5d6040c3c"
      },
      "execution_count": 122,
      "outputs": [
        {
          "output_type": "stream",
          "name": "stdout",
          "text": [
            "GRU Model MASE: 0.52\n",
            "LSTM Model MASE: 0.53\n",
            "biLSTM Model MASE: 0.53\n"
          ]
        }
      ]
    },
    {
      "cell_type": "markdown",
      "source": [
        "# Shap"
      ],
      "metadata": {
        "id": "97Fffpm20Caa"
      }
    },
    {
      "cell_type": "code",
      "source": [
        "sample_train = trainX.copy()\n",
        "gru_explainer = shap.DeepExplainer(lstm_model, data=sample_train)  # Substitua 10 pelo número desejado de exemplos para a baseline"
      ],
      "metadata": {
        "colab": {
          "base_uri": "https://localhost:8080/"
        },
        "id": "Ayy3RrY6-kqy",
        "outputId": "a7159142-782b-4c2f-9b74-790f7d7d2039"
      },
      "execution_count": 123,
      "outputs": [
        {
          "output_type": "stream",
          "name": "stderr",
          "text": [
            "Your TensorFlow version is newer than 2.4.0 and so graph support has been removed in eager mode and some static graphs may not be supported. See PR #1483 for discussion.\n"
          ]
        }
      ]
    },
    {
      "cell_type": "code",
      "source": [
        "# Calcular os valores SHAP\n",
        "sample = testX.copy()\n"
      ],
      "metadata": {
        "id": "yZWQ4ZXU_NYt"
      },
      "execution_count": 124,
      "outputs": []
    },
    {
      "cell_type": "code",
      "source": [
        "sample = sample.reshape(830,1,14)"
      ],
      "metadata": {
        "id": "rApmjtN-tep3"
      },
      "execution_count": 135,
      "outputs": []
    },
    {
      "cell_type": "code",
      "source": [
        "shap_values = gru_explainer.shap_values(sample)\n",
        "\n"
      ],
      "metadata": {
        "id": "iTgcNtvVtdaf"
      },
      "execution_count": 138,
      "outputs": []
    },
    {
      "cell_type": "code",
      "source": [
        "print(shap_values[0].shape)\n",
        "shap_values[0]"
      ],
      "metadata": {
        "colab": {
          "base_uri": "https://localhost:8080/"
        },
        "id": "s9HF8cuMvmP5",
        "outputId": "3ecaacee-cb7c-4d99-b89c-fbdddcab9632"
      },
      "execution_count": 159,
      "outputs": [
        {
          "output_type": "stream",
          "name": "stdout",
          "text": [
            "(830, 1, 14)\n"
          ]
        },
        {
          "output_type": "execute_result",
          "data": {
            "text/plain": [
              "array([[[ 0.03314716,  0.09003601,  0.07389687, ..., -0.00219939,\n",
              "         -0.0162612 , -0.00743895]],\n",
              "\n",
              "       [[ 0.03492149,  0.08941161,  0.07440135, ...,  0.00077751,\n",
              "         -0.01247741, -0.00639504]],\n",
              "\n",
              "       [[ 0.03529559,  0.0894911 ,  0.07583763, ...,  0.0022587 ,\n",
              "         -0.01042164, -0.00557125]],\n",
              "\n",
              "       ...,\n",
              "\n",
              "       [[ 0.05786488,  0.1396289 ,  0.11960305, ...,  0.01455082,\n",
              "         -0.00903037, -0.00633608]],\n",
              "\n",
              "       [[ 0.05823475,  0.13994305,  0.11883149, ...,  0.01406409,\n",
              "         -0.00970968, -0.00659784]],\n",
              "\n",
              "       [[ 0.05685546,  0.13968867,  0.11926608, ...,  0.01410991,\n",
              "         -0.01011408, -0.0066346 ]]])"
            ]
          },
          "metadata": {},
          "execution_count": 159
        }
      ]
    },
    {
      "cell_type": "code",
      "source": [
        "sample"
      ],
      "metadata": {
        "colab": {
          "base_uri": "https://localhost:8080/"
        },
        "id": "buthCALJwuNP",
        "outputId": "b1d92e3b-7b79-4ba8-837c-12d5430b0166"
      },
      "execution_count": 155,
      "outputs": [
        {
          "output_type": "execute_result",
          "data": {
            "text/plain": [
              "array([[[0.71143301, 0.73917583, 0.72283559, ..., 0.72426271,\n",
              "         0.74713907, 0.75710655]],\n",
              "\n",
              "       [[0.73381063, 0.74483901, 0.7359963 , ..., 0.70327328,\n",
              "         0.72426271, 0.74713907]],\n",
              "\n",
              "       [[0.74037074, 0.74971911, 0.74925851, ..., 0.69862253,\n",
              "         0.70327328, 0.72426271]],\n",
              "\n",
              "       ...,\n",
              "\n",
              "       [[0.96901987, 0.97169544, 0.97883234, ..., 0.93069384,\n",
              "         0.93427902, 0.93219229]],\n",
              "\n",
              "       [[0.97249417, 0.97136631, 0.97237039, ..., 0.94052812,\n",
              "         0.93069384, 0.93427902]],\n",
              "\n",
              "       [[0.95817516, 0.96949372, 0.97352069, ..., 0.95147237,\n",
              "         0.94052812, 0.93069384]]])"
            ]
          },
          "metadata": {},
          "execution_count": 155
        }
      ]
    },
    {
      "cell_type": "code",
      "source": [
        "columnnames = lagged_data.columns[1:].values"
      ],
      "metadata": {
        "id": "UTDhuVqIvwN6"
      },
      "execution_count": 145,
      "outputs": []
    },
    {
      "cell_type": "code",
      "source": [
        "columnnames = np.delete(columnnames, 3)\n",
        "columnnames"
      ],
      "metadata": {
        "colab": {
          "base_uri": "https://localhost:8080/"
        },
        "id": "tbeqzwh8wAF-",
        "outputId": "68ab90a1-1244-456b-df41-d8ee153b5f69"
      },
      "execution_count": 150,
      "outputs": [
        {
          "output_type": "execute_result",
          "data": {
            "text/plain": [
              "array(['Open', 'High', 'Low', 'Adj Close', 'Volume', '4_observance',\n",
              "       '4_optional', '4_public', 'lag1', 'lag2', 'lag3', 'lag4', 'lag5',\n",
              "       'lag6'], dtype=object)"
            ]
          },
          "metadata": {},
          "execution_count": 150
        }
      ]
    },
    {
      "cell_type": "code",
      "source": [
        "# Visualizar as contribuições\n",
        "shap.summary_plot(\n",
        "  shap_values[0],\n",
        "  sample,\n",
        "  feature_names=columnnames\n",
        ")"
      ],
      "metadata": {
        "colab": {
          "base_uri": "https://localhost:8080/",
          "height": 940
        },
        "id": "RYIdOKJFvlGj",
        "outputId": "c75f4ebf-d6f0-430b-f927-b81daf1fe900"
      },
      "execution_count": 152,
      "outputs": [
        {
          "output_type": "error",
          "ename": "IndexError",
          "evalue": "index 3 is out of bounds for axis 1 with size 1",
          "traceback": [
            "\u001b[0;31m---------------------------------------------------------------------------\u001b[0m",
            "\u001b[0;31mIndexError\u001b[0m                                Traceback (most recent call last)",
            "\u001b[0;32m<ipython-input-152-fb0686df8570>\u001b[0m in \u001b[0;36m<cell line: 2>\u001b[0;34m()\u001b[0m\n\u001b[1;32m      1\u001b[0m \u001b[0;31m# Visualizar as contribuições\u001b[0m\u001b[0;34m\u001b[0m\u001b[0;34m\u001b[0m\u001b[0m\n\u001b[0;32m----> 2\u001b[0;31m shap.summary_plot(\n\u001b[0m\u001b[1;32m      3\u001b[0m   \u001b[0mshap_values\u001b[0m\u001b[0;34m[\u001b[0m\u001b[0;36m0\u001b[0m\u001b[0;34m]\u001b[0m\u001b[0;34m,\u001b[0m\u001b[0;34m\u001b[0m\u001b[0;34m\u001b[0m\u001b[0m\n\u001b[1;32m      4\u001b[0m   \u001b[0msample\u001b[0m\u001b[0;34m,\u001b[0m\u001b[0;34m\u001b[0m\u001b[0;34m\u001b[0m\u001b[0m\n\u001b[1;32m      5\u001b[0m   \u001b[0mfeature_names\u001b[0m\u001b[0;34m=\u001b[0m\u001b[0mcolumnnames\u001b[0m\u001b[0;34m\u001b[0m\u001b[0;34m\u001b[0m\u001b[0m\n",
            "\u001b[0;32m/usr/local/lib/python3.10/dist-packages/shap/plots/_beeswarm.py\u001b[0m in \u001b[0;36msummary_legacy\u001b[0;34m(shap_values, features, feature_names, max_display, plot_type, color, axis_color, title, alpha, show, sort, color_bar, plot_size, layered_violin_max_num_bins, class_names, class_inds, color_bar_label, cmap, show_values_in_legend, auto_size_plot, use_log_scale)\u001b[0m\n\u001b[1;32m    599\u001b[0m         \u001b[0mpl\u001b[0m\u001b[0;34m.\u001b[0m\u001b[0mfigure\u001b[0m\u001b[0;34m(\u001b[0m\u001b[0mfigsize\u001b[0m\u001b[0;34m=\u001b[0m\u001b[0;34m(\u001b[0m\u001b[0;36m1.5\u001b[0m \u001b[0;34m*\u001b[0m \u001b[0mmax_display\u001b[0m \u001b[0;34m+\u001b[0m \u001b[0;36m1\u001b[0m\u001b[0;34m,\u001b[0m \u001b[0;36m0.8\u001b[0m \u001b[0;34m*\u001b[0m \u001b[0mmax_display\u001b[0m \u001b[0;34m+\u001b[0m \u001b[0;36m1\u001b[0m\u001b[0;34m)\u001b[0m\u001b[0;34m)\u001b[0m\u001b[0;34m\u001b[0m\u001b[0;34m\u001b[0m\u001b[0m\n\u001b[1;32m    600\u001b[0m         \u001b[0mpl\u001b[0m\u001b[0;34m.\u001b[0m\u001b[0msubplot\u001b[0m\u001b[0;34m(\u001b[0m\u001b[0;36m1\u001b[0m\u001b[0;34m,\u001b[0m \u001b[0mmax_display\u001b[0m\u001b[0;34m,\u001b[0m \u001b[0;36m1\u001b[0m\u001b[0;34m)\u001b[0m\u001b[0;34m\u001b[0m\u001b[0;34m\u001b[0m\u001b[0m\n\u001b[0;32m--> 601\u001b[0;31m         \u001b[0mproj_shap_values\u001b[0m \u001b[0;34m=\u001b[0m \u001b[0mshap_values\u001b[0m\u001b[0;34m[\u001b[0m\u001b[0;34m:\u001b[0m\u001b[0;34m,\u001b[0m \u001b[0msort_inds\u001b[0m\u001b[0;34m[\u001b[0m\u001b[0;36m0\u001b[0m\u001b[0;34m]\u001b[0m\u001b[0;34m,\u001b[0m \u001b[0msort_inds\u001b[0m\u001b[0;34m]\u001b[0m\u001b[0;34m\u001b[0m\u001b[0;34m\u001b[0m\u001b[0m\n\u001b[0m\u001b[1;32m    602\u001b[0m         \u001b[0mproj_shap_values\u001b[0m\u001b[0;34m[\u001b[0m\u001b[0;34m:\u001b[0m\u001b[0;34m,\u001b[0m \u001b[0;36m1\u001b[0m\u001b[0;34m:\u001b[0m\u001b[0;34m]\u001b[0m \u001b[0;34m*=\u001b[0m \u001b[0;36m2\u001b[0m  \u001b[0;31m# because off diag effects are split in half\u001b[0m\u001b[0;34m\u001b[0m\u001b[0;34m\u001b[0m\u001b[0m\n\u001b[1;32m    603\u001b[0m         summary_legacy(\n",
            "\u001b[0;31mIndexError\u001b[0m: index 3 is out of bounds for axis 1 with size 1"
          ]
        },
        {
          "output_type": "display_data",
          "data": {
            "text/plain": [
              "<Figure size 1150x660 with 1 Axes>"
            ],
            "image/png": "[encoded data removed]"
          },
          "metadata": {}
        }
      ]
    },
    {
      "cell_type": "code",
      "source": [
        "trainX.reshape(trainX.shape[0],-1)[0]"
      ],
      "metadata": {
        "colab": {
          "base_uri": "https://localhost:8080/"
        },
        "id": "gOkiaHi5yOGe",
        "outputId": "4a7f9b22-8a30-4270-9375-449c07a2ec0c"
      },
      "execution_count": 170,
      "outputs": [
        {
          "output_type": "execute_result",
          "data": {
            "text/plain": [
              "array([0.13944944, 0.12320543, 0.1334228 , 0.14319647, 0.47685083,\n",
              "       0.        , 0.        , 0.        , 0.13954469, 0.1486797 ,\n",
              "       0.14218641, 0.16188827, 0.16660562, 0.17701708])"
            ]
          },
          "metadata": {},
          "execution_count": 170
        }
      ]
    },
    {
      "cell_type": "code",
      "source": [
        "from lime.lime_tabular import LimeTabularExplainer\n",
        "\n",
        "# Criando um explainer do Lime\n",
        "explainer = LimeTabularExplainer(trainX.reshape(trainX.shape[0],-1),\n",
        "                                 mode=\"regression\",\n",
        "                                 feature_names=columnnames,\n",
        "                                 class_names=['ibv'],\n",
        "                                 categorical_features=[[5,6,7]],\n",
        "                                 discretize_continuous=True)"
      ],
      "metadata": {
        "id": "vggWaUDDWc40"
      },
      "execution_count": 171,
      "outputs": []
    },
    {
      "cell_type": "code",
      "source": [
        "sample_idx = np.random.choice(range(len(testX)), size=(1,))[0]\n",
        "print(sample_idx)\n",
        "X_sample = testX[sample_idx]\n",
        "\n",
        "# Explicação do modelo usando o explainer do Lime\n",
        "explanation = explainer.explain_instance(X_sample,\n",
        "                                         gru_model.predict,\n",
        "                                         num_features=(14))\n",
        "\n",
        "# Visualizando a explicação\n",
        "fig = explanation.as_pyplot_figure()\n",
        "plt.show()"
      ],
      "metadata": {
        "colab": {
          "base_uri": "https://localhost:8080/",
          "height": 469
        },
        "id": "G0_3RkwwWtqm",
        "outputId": "47ed154b-695b-49eb-f908-9e6e99d67859"
      },
      "execution_count": 174,
      "outputs": [
        {
          "output_type": "stream",
          "name": "stdout",
          "text": [
            "130\n"
          ]
        },
        {
          "output_type": "display_data",
          "data": {
            "text/plain": [
              "<Figure size 640x480 with 1 Axes>"
            ],
            "image/png": "[encoded data removed]"
          },
          "metadata": {}
        }
      ]
    },
    {
      "cell_type": "code",
      "source": [
        "# Assuming gru_predictions is your NumPy array\n",
        "baseline_predictions = baseline_predictions.reshape(-1, 1)  # Reshape the array to have one column\n",
        "\n",
        "# Create a DataFrame\n",
        "df = pd.DataFrame(data=baseline_predictions, columns=['BASELINE_Predictions'])\n",
        "\n",
        "# Save the DataFrame to a CSV file\n",
        "df.to_csv('baseline_predictions.csv', index=False)"
      ],
      "metadata": {
        "id": "eHblQovVaQfU"
      },
      "execution_count": 165,
      "outputs": []
    },
    {
      "cell_type": "code",
      "source": [
        "# Assuming gru_predictions is your NumPy array\n",
        "gru_predictions = gru_predictions.reshape(-1, 1)  # Reshape the array to have one column\n",
        "\n",
        "# Create a DataFrame\n",
        "df = pd.DataFrame(data=gru_predictions, columns=['GRU_Predictions'])\n",
        "\n",
        "# Save the DataFrame to a CSV file\n",
        "df.to_csv('gru_predictions.csv', index=False)"
      ],
      "metadata": {
        "id": "mOu8csbFUGqw"
      },
      "execution_count": null,
      "outputs": []
    },
    {
      "cell_type": "code",
      "source": [
        "# Assuming gru_predictions is your NumPy array\n",
        "lstm_predictions = lstm_predictions.reshape(-1, 1)  # Reshape the array to have one column\n",
        "\n",
        "# Create a DataFrame\n",
        "df = pd.DataFrame(data=lstm_predictions, columns=['LSTM_Predictions'])\n",
        "\n",
        "# Save the DataFrame to a CSV file\n",
        "df.to_csv('lstm_predictions.csv', index=False)"
      ],
      "metadata": {
        "id": "KB8ESDIQX-LO"
      },
      "execution_count": null,
      "outputs": []
    },
    {
      "cell_type": "code",
      "source": [
        "# Assuming gru_predictions is your NumPy array\n",
        "trainY_predictions = trainY\n",
        "\n",
        "# Create a DataFrame\n",
        "df = pd.DataFrame(data=trainY_predictions, columns=['trainY_predictions'])\n",
        "\n",
        "# Save the DataFrame to a CSV file\n",
        "df.to_csv('trainY_predictions.csv', index=False)"
      ],
      "metadata": {
        "id": "RsnLNJE9aaG0"
      },
      "execution_count": null,
      "outputs": []
    },
    {
      "cell_type": "code",
      "source": [
        "# Assuming gru_predictions is your NumPy array\n",
        "testY_predictions = testY\n",
        "\n",
        "# Create a DataFrame\n",
        "df = pd.DataFrame(data=testY_predictions, columns=['testY_predictions'])\n",
        "\n",
        "# Save the DataFrame to a CSV file\n",
        "df.to_csv('testY_predictions.csv', index=False)"
      ],
      "metadata": {
        "id": "RDG507T6alQO"
      },
      "execution_count": null,
      "outputs": []
    },
    {
      "cell_type": "code",
      "source": [
        "from statsmodels.tsa.seasonal import seasonal_decompose\n",
        "result = seasonal_decompose(data['Close'], model='additive',period=365)\n",
        "result.plot()\n",
        "plt.show()"
      ],
      "metadata": {
        "colab": {
          "base_uri": "https://localhost:8080/",
          "height": 487
        },
        "id": "C1nK5pXUgcxk",
        "outputId": "5c487206-c918-4594-cbce-2b31e8b73182"
      },
      "execution_count": null,
      "outputs": [
        {
          "output_type": "display_data",
          "data": {
            "text/plain": [
              "<Figure size 640x480 with 4 Axes>"
            ],
            "image/png": "[encoded data removed]"
          },
          "metadata": {}
        }
      ]
    },
    {
      "cell_type": "code",
      "source": [
        "from statsmodels.graphics.tsaplots import plot_acf\n",
        "plot_acf(data['Close'], lags=60)\n",
        "plt.show()"
      ],
      "metadata": {
        "colab": {
          "base_uri": "https://localhost:8080/",
          "height": 452
        },
        "id": "W_d7S9CBczy3",
        "outputId": "ff164a28-2cad-4646-8d46-ef9baa3bba06"
      },
      "execution_count": null,
      "outputs": [
        {
          "output_type": "display_data",
          "data": {
            "text/plain": [
              "<Figure size 640x480 with 1 Axes>"
            ],
            "image/png": "[encoded data removed]"
          },
          "metadata": {}
        }
      ]
    },
    {
      "cell_type": "code",
      "source": [
        "from statsmodels.tsa.seasonal import STL\n",
        "stl = STL(data['Close'], period=365,robust=True)#looking for pattern that repeats annualy\n",
        "res = stl.fit()\n",
        "fig = res.plot()"
      ],
      "metadata": {
        "colab": {
          "base_uri": "https://localhost:8080/",
          "height": 487
        },
        "id": "wVSNKd4dn1z_",
        "outputId": "5890dfcb-e623-4dc5-9e01-161868de2739"
      },
      "execution_count": null,
      "outputs": [
        {
          "output_type": "display_data",
          "data": {
            "text/plain": [
              "<Figure size 640x480 with 4 Axes>"
            ],
            "image/png": "[encoded data removed]"
          },
          "metadata": {}
        }
      ]
    },
    {
      "cell_type": "markdown",
      "source": [
        "Amplitudes d Decomposição de Fourier, interpretações:\n",
        "\n",
        " - https://pressbooks.pub/sound/chapter/frequency-domain-graphs-2/\n",
        " - https://medium.com/intuition/quantamental-approach-to-stock-trading-using-the-fourier-analysis-58f64792290\n",
        " - https://www.marketinout.com/technical_analysis.php?t=Fourier_Transform&id=51"
      ],
      "metadata": {
        "id": "mkvpLdasqR2d"
      }
    },
    {
      "cell_type": "code",
      "source": [
        "import scipy.fft\n",
        "Fs = 300 # Sampling rate\n",
        "t  = np.arange(0,1,1/Fs)\n",
        "\n",
        "A_signal_fft = scipy.fft.fft((data[['Close']][len(data[[ 'Close']])-300:]))\n",
        "frequencies = scipy.fft.fftfreq(np.size(t), 1/Fs)\n",
        "\n",
        "fig=plt.figure(2, figsize=(15,6))\n",
        "plt.clf()\n",
        "plt.plot(frequencies, np.abs(A_signal_fft), lw=1.0, c='paleturquoise')\n",
        "plt.stem(frequencies, np.abs(A_signal_fft))\n",
        "plt.xlabel(\"frequency [Days]\")\n",
        "plt.ylabel(\"amplitude [a.u.]\")\n",
        "plt.title(r\"$|\\mathcal{F}(A_{signal})|$\")\n",
        "\n",
        "# Set x-axis limit to values greater than or equal to 0\n",
        "plt.xlim(0, None)"
      ],
      "metadata": {
        "colab": {
          "base_uri": "https://localhost:8080/",
          "height": 583
        },
        "id": "W5uhaZ9ZS1J8",
        "outputId": "6fd95fef-d0ff-4920-d40a-3fa3d99c1afa"
      },
      "execution_count": null,
      "outputs": [
        {
          "output_type": "execute_result",
          "data": {
            "text/plain": [
              "(0.0, 163.95)"
            ]
          },
          "metadata": {},
          "execution_count": 60
        },
        {
          "output_type": "display_data",
          "data": {
            "text/plain": [
              "<Figure size 1500x600 with 1 Axes>"
            ],
            "image/png": "[encoded data removed]"
          },
          "metadata": {}
        }
      ]
    },
    {
      "cell_type": "markdown",
      "source": [
        "Forecasting value 1 and 2"
      ],
      "metadata": {
        "id": "DQCUpgZpisyD"
      }
    },
    {
      "cell_type": "code",
      "source": [
        "import yfinance as yf\n",
        "# Download data for the stock (I'm using the Bovespa index as an example)\n",
        "data3 = yf.download('^BVSP', '2007-01-01', '2023-10-17')\n",
        "data3 = data3[['Close']]\n",
        "\n",
        "# Create lag features for the entire dataset\n",
        "look_back = 6\n",
        "include_lag0 = False  # You can set this to True if you want to include lag0\n",
        "\n",
        "lagged_data2 = create_lagged_dataframe(data3, look_back, include_lag0)\n",
        "#lagged_data2 = lagged_data.dropna()  # Drop rows with NaN values\n",
        "lagged_data2"
      ],
      "metadata": {
        "colab": {
          "base_uri": "https://localhost:8080/",
          "height": 472
        },
        "id": "n4U977oIAWJh",
        "outputId": "bdf6eb88-3689-4947-f375-000ce27cf095"
      },
      "execution_count": null,
      "outputs": [
        {
          "output_type": "stream",
          "name": "stdout",
          "text": [
            "\r[*********************100%%**********************]  1 of 1 completed\n"
          ]
        },
        {
          "output_type": "execute_result",
          "data": {
            "text/plain": [
              "               Close      lag1      lag2      lag3      lag4      lag5  \\\n",
              "Date                                                                     \n",
              "2007-01-02   45383.0       NaN       NaN       NaN       NaN       NaN   \n",
              "2007-01-03   44445.0   45383.0       NaN       NaN       NaN       NaN   \n",
              "2007-01-04   44020.0   44445.0   45383.0       NaN       NaN       NaN   \n",
              "2007-01-05   42245.0   44020.0   44445.0   45383.0       NaN       NaN   \n",
              "2007-01-08   42830.0   42245.0   44020.0   44445.0   45383.0       NaN   \n",
              "...              ...       ...       ...       ...       ...       ...   \n",
              "2023-10-09  115156.0  114170.0  113284.0  113607.0  113419.0  115057.0   \n",
              "2023-10-10  116737.0  115156.0  114170.0  113284.0  113607.0  113419.0   \n",
              "2023-10-11  117051.0  116737.0  115156.0  114170.0  113284.0  113607.0   \n",
              "2023-10-13  115754.0  117051.0  116737.0  115156.0  114170.0  113284.0   \n",
              "2023-10-16  116534.0  115754.0  117051.0  116737.0  115156.0  114170.0   \n",
              "\n",
              "                lag6  \n",
              "Date                  \n",
              "2007-01-02       NaN  \n",
              "2007-01-03       NaN  \n",
              "2007-01-04       NaN  \n",
              "2007-01-05       NaN  \n",
              "2007-01-08       NaN  \n",
              "...              ...  \n",
              "2023-10-09  116565.0  \n",
              "2023-10-10  115057.0  \n",
              "2023-10-11  113419.0  \n",
              "2023-10-13  113607.0  \n",
              "2023-10-16  113284.0  \n",
              "\n",
              "[4154 rows x 7 columns]"
            ],
            "text/html": [
              "\n",
              "  <div id=\"df-72bf2b96-8432-49f1-9b46-a0cf2a8433e8\" class=\"colab-df-container\">\n",
              "    <div>\n",
              "<style scoped>\n",
              "    .dataframe tbody tr th:only-of-type {\n",
              "        vertical-align: middle;\n",
              "    }\n",
              "\n",
              "    .dataframe tbody tr th {\n",
              "        vertical-align: top;\n",
              "    }\n",
              "\n",
              "    .dataframe thead th {\n",
              "        text-align: right;\n",
              "    }\n",
              "</style>\n",
              "<table border=\"1\" class=\"dataframe\">\n",
              "  <thead>\n",
              "    <tr style=\"text-align: right;\">\n",
              "      <th></th>\n",
              "      <th>Close</th>\n",
              "      <th>lag1</th>\n",
              "      <th>lag2</th>\n",
              "      <th>lag3</th>\n",
              "      <th>lag4</th>\n",
              "      <th>lag5</th>\n",
              "      <th>lag6</th>\n",
              "    </tr>\n",
              "    <tr>\n",
              "      <th>Date</th>\n",
              "      <th></th>\n",
              "      <th></th>\n",
              "      <th></th>\n",
              "      <th></th>\n",
              "      <th></th>\n",
              "      <th></th>\n",
              "      <th></th>\n",
              "    </tr>\n",
              "  </thead>\n",
              "  <tbody>\n",
              "    <tr>\n",
              "      <th>2007-01-02</th>\n",
              "      <td>45383.0</td>\n",
              "      <td>NaN</td>\n",
              "      <td>NaN</td>\n",
              "      <td>NaN</td>\n",
              "      <td>NaN</td>\n",
              "      <td>NaN</td>\n",
              "      <td>NaN</td>\n",
              "    </tr>\n",
              "    <tr>\n",
              "      <th>2007-01-03</th>\n",
              "      <td>44445.0</td>\n",
              "      <td>45383.0</td>\n",
              "      <td>NaN</td>\n",
              "      <td>NaN</td>\n",
              "      <td>NaN</td>\n",
              "      <td>NaN</td>\n",
              "      <td>NaN</td>\n",
              "    </tr>\n",
              "    <tr>\n",
              "      <th>2007-01-04</th>\n",
              "      <td>44020.0</td>\n",
              "      <td>44445.0</td>\n",
              "      <td>45383.0</td>\n",
              "      <td>NaN</td>\n",
              "      <td>NaN</td>\n",
              "      <td>NaN</td>\n",
              "      <td>NaN</td>\n",
              "    </tr>\n",
              "    <tr>\n",
              "      <th>2007-01-05</th>\n",
              "      <td>42245.0</td>\n",
              "      <td>44020.0</td>\n",
              "      <td>44445.0</td>\n",
              "      <td>45383.0</td>\n",
              "      <td>NaN</td>\n",
              "      <td>NaN</td>\n",
              "      <td>NaN</td>\n",
              "    </tr>\n",
              "    <tr>\n",
              "      <th>2007-01-08</th>\n",
              "      <td>42830.0</td>\n",
              "      <td>42245.0</td>\n",
              "      <td>44020.0</td>\n",
              "      <td>44445.0</td>\n",
              "      <td>45383.0</td>\n",
              "      <td>NaN</td>\n",
              "      <td>NaN</td>\n",
              "    </tr>\n",
              "    <tr>\n",
              "      <th>...</th>\n",
              "      <td>...</td>\n",
              "      <td>...</td>\n",
              "      <td>...</td>\n",
              "      <td>...</td>\n",
              "      <td>...</td>\n",
              "      <td>...</td>\n",
              "      <td>...</td>\n",
              "    </tr>\n",
              "    <tr>\n",
              "      <th>2023-10-09</th>\n",
              "      <td>115156.0</td>\n",
              "      <td>114170.0</td>\n",
              "      <td>113284.0</td>\n",
              "      <td>113607.0</td>\n",
              "      <td>113419.0</td>\n",
              "      <td>115057.0</td>\n",
              "      <td>116565.0</td>\n",
              "    </tr>\n",
              "    <tr>\n",
              "      <th>2023-10-10</th>\n",
              "      <td>116737.0</td>\n",
              "      <td>115156.0</td>\n",
              "      <td>114170.0</td>\n",
              "      <td>113284.0</td>\n",
              "      <td>113607.0</td>\n",
              "      <td>113419.0</td>\n",
              "      <td>115057.0</td>\n",
              "    </tr>\n",
              "    <tr>\n",
              "      <th>2023-10-11</th>\n",
              "      <td>117051.0</td>\n",
              "      <td>116737.0</td>\n",
              "      <td>115156.0</td>\n",
              "      <td>114170.0</td>\n",
              "      <td>113284.0</td>\n",
              "      <td>113607.0</td>\n",
              "      <td>113419.0</td>\n",
              "    </tr>\n",
              "    <tr>\n",
              "      <th>2023-10-13</th>\n",
              "      <td>115754.0</td>\n",
              "      <td>117051.0</td>\n",
              "      <td>116737.0</td>\n",
              "      <td>115156.0</td>\n",
              "      <td>114170.0</td>\n",
              "      <td>113284.0</td>\n",
              "      <td>113607.0</td>\n",
              "    </tr>\n",
              "    <tr>\n",
              "      <th>2023-10-16</th>\n",
              "      <td>116534.0</td>\n",
              "      <td>115754.0</td>\n",
              "      <td>117051.0</td>\n",
              "      <td>116737.0</td>\n",
              "      <td>115156.0</td>\n",
              "      <td>114170.0</td>\n",
              "      <td>113284.0</td>\n",
              "    </tr>\n",
              "  </tbody>\n",
              "</table>\n",
              "<p>4154 rows × 7 columns</p>\n",
              "</div>\n",
              "    <div class=\"colab-df-buttons\">\n",
              "\n",
              "  <div class=\"colab-df-container\">\n",
              "    <button class=\"colab-df-convert\" onclick=\"convertToInteractive('df-72bf2b96-8432-49f1-9b46-a0cf2a8433e8')\"\n",
              "            title=\"Convert this dataframe to an interactive table.\"\n",
              "            style=\"display:none;\">\n",
              "\n",
              "  <svg xmlns=\"http://www.w3.org/2000/svg\" height=\"24px\" viewBox=\"0 -960 960 960\">\n",
              "    <path d=\"M120-120v-720h720v720H120Zm60-500h600v-160H180v160Zm220 220h160v-160H400v160Zm0 220h160v-160H400v160ZM180-400h160v-160H180v160Zm440 0h160v-160H620v160ZM180-180h160v-160H180v160Zm440 0h160v-160H620v160Z\"/>\n",
              "  </svg>\n",
              "    </button>\n",
              "\n",
              "  <style>\n",
              "    .colab-df-container {\n",
              "      display:flex;\n",
              "      gap: 12px;\n",
              "    }\n",
              "\n",
              "    .colab-df-convert {\n",
              "      background-color: #E8F0FE;\n",
              "      border: none;\n",
              "      border-radius: 50%;\n",
              "      cursor: pointer;\n",
              "      display: none;\n",
              "      fill: #1967D2;\n",
              "      height: 32px;\n",
              "      padding: 0 0 0 0;\n",
              "      width: 32px;\n",
              "    }\n",
              "\n",
              "    .colab-df-convert:hover {\n",
              "      background-color: #E2EBFA;\n",
              "      box-shadow: 0px 1px 2px rgba(60, 64, 67, 0.3), 0px 1px 3px 1px rgba(60, 64, 67, 0.15);\n",
              "      fill: #174EA6;\n",
              "    }\n",
              "\n",
              "    .colab-df-buttons div {\n",
              "      margin-bottom: 4px;\n",
              "    }\n",
              "\n",
              "    [theme=dark] .colab-df-convert {\n",
              "      background-color: #3B4455;\n",
              "      fill: #D2E3FC;\n",
              "    }\n",
              "\n",
              "    [theme=dark] .colab-df-convert:hover {\n",
              "      background-color: #434B5C;\n",
              "      box-shadow: 0px 1px 3px 1px rgba(0, 0, 0, 0.15);\n",
              "      filter: drop-shadow(0px 1px 2px rgba(0, 0, 0, 0.3));\n",
              "      fill: #FFFFFF;\n",
              "    }\n",
              "  </style>\n",
              "\n",
              "    <script>\n",
              "      const buttonEl =\n",
              "        document.querySelector('#df-72bf2b96-8432-49f1-9b46-a0cf2a8433e8 button.colab-df-convert');\n",
              "      buttonEl.style.display =\n",
              "        google.colab.kernel.accessAllowed ? 'block' : 'none';\n",
              "\n",
              "      async function convertToInteractive(key) {\n",
              "        const element = document.querySelector('#df-72bf2b96-8432-49f1-9b46-a0cf2a8433e8');\n",
              "        const dataTable =\n",
              "          await google.colab.kernel.invokeFunction('convertToInteractive',\n",
              "                                                    [key], {});\n",
              "        if (!dataTable) return;\n",
              "\n",
              "        const docLinkHtml = 'Like what you see? Visit the ' +\n",
              "          '<a target=\"_blank\" href=https://colab.research.google.com/notebooks/data_table.ipynb>data table notebook</a>'\n",
              "          + ' to learn more about interactive tables.';\n",
              "        element.innerHTML = '';\n",
              "        dataTable['output_type'] = 'display_data';\n",
              "        await google.colab.output.renderOutput(dataTable, element);\n",
              "        const docLink = document.createElement('div');\n",
              "        docLink.innerHTML = docLinkHtml;\n",
              "        element.appendChild(docLink);\n",
              "      }\n",
              "    </script>\n",
              "  </div>\n",
              "\n",
              "\n",
              "<div id=\"df-721b68ac-16d7-46a1-9efd-0812fa7d4eb9\">\n",
              "  <button class=\"colab-df-quickchart\" onclick=\"quickchart('df-721b68ac-16d7-46a1-9efd-0812fa7d4eb9')\"\n",
              "            title=\"Suggest charts\"\n",
              "            style=\"display:none;\">\n",
              "\n",
              "<svg xmlns=\"http://www.w3.org/2000/svg\" height=\"24px\"viewBox=\"0 0 24 24\"\n",
              "     width=\"24px\">\n",
              "    <g>\n",
              "        <path d=\"M19 3H5c-1.1 0-2 .9-2 2v14c0 1.1.9 2 2 2h14c1.1 0 2-.9 2-2V5c0-1.1-.9-2-2-2zM9 17H7v-7h2v7zm4 0h-2V7h2v10zm4 0h-2v-4h2v4z\"/>\n",
              "    </g>\n",
              "</svg>\n",
              "  </button>\n",
              "\n",
              "<style>\n",
              "  .colab-df-quickchart {\n",
              "      --bg-color: #E8F0FE;\n",
              "      --fill-color: #1967D2;\n",
              "      --hover-bg-color: #E2EBFA;\n",
              "      --hover-fill-color: #174EA6;\n",
              "      --disabled-fill-color: #AAA;\n",
              "      --disabled-bg-color: #DDD;\n",
              "  }\n",
              "\n",
              "  [theme=dark] .colab-df-quickchart {\n",
              "      --bg-color: #3B4455;\n",
              "      --fill-color: #D2E3FC;\n",
              "      --hover-bg-color: #434B5C;\n",
              "      --hover-fill-color: #FFFFFF;\n",
              "      --disabled-bg-color: #3B4455;\n",
              "      --disabled-fill-color: #666;\n",
              "  }\n",
              "\n",
              "  .colab-df-quickchart {\n",
              "    background-color: var(--bg-color);\n",
              "    border: none;\n",
              "    border-radius: 50%;\n",
              "    cursor: pointer;\n",
              "    display: none;\n",
              "    fill: var(--fill-color);\n",
              "    height: 32px;\n",
              "    padding: 0;\n",
              "    width: 32px;\n",
              "  }\n",
              "\n",
              "  .colab-df-quickchart:hover {\n",
              "    background-color: var(--hover-bg-color);\n",
              "    box-shadow: 0 1px 2px rgba(60, 64, 67, 0.3), 0 1px 3px 1px rgba(60, 64, 67, 0.15);\n",
              "    fill: var(--button-hover-fill-color);\n",
              "  }\n",
              "\n",
              "  .colab-df-quickchart-complete:disabled,\n",
              "  .colab-df-quickchart-complete:disabled:hover {\n",
              "    background-color: var(--disabled-bg-color);\n",
              "    fill: var(--disabled-fill-color);\n",
              "    box-shadow: none;\n",
              "  }\n",
              "\n",
              "  .colab-df-spinner {\n",
              "    border: 2px solid var(--fill-color);\n",
              "    border-color: transparent;\n",
              "    border-bottom-color: var(--fill-color);\n",
              "    animation:\n",
              "      spin 1s steps(1) infinite;\n",
              "  }\n",
              "\n",
              "  @keyframes spin {\n",
              "    0% {\n",
              "      border-color: transparent;\n",
              "      border-bottom-color: var(--fill-color);\n",
              "      border-left-color: var(--fill-color);\n",
              "    }\n",
              "    20% {\n",
              "      border-color: transparent;\n",
              "      border-left-color: var(--fill-color);\n",
              "      border-top-color: var(--fill-color);\n",
              "    }\n",
              "    30% {\n",
              "      border-color: transparent;\n",
              "      border-left-color: var(--fill-color);\n",
              "      border-top-color: var(--fill-color);\n",
              "      border-right-color: var(--fill-color);\n",
              "    }\n",
              "    40% {\n",
              "      border-color: transparent;\n",
              "      border-right-color: var(--fill-color);\n",
              "      border-top-color: var(--fill-color);\n",
              "    }\n",
              "    60% {\n",
              "      border-color: transparent;\n",
              "      border-right-color: var(--fill-color);\n",
              "    }\n",
              "    80% {\n",
              "      border-color: transparent;\n",
              "      border-right-color: var(--fill-color);\n",
              "      border-bottom-color: var(--fill-color);\n",
              "    }\n",
              "    90% {\n",
              "      border-color: transparent;\n",
              "      border-bottom-color: var(--fill-color);\n",
              "    }\n",
              "  }\n",
              "</style>\n",
              "\n",
              "  <script>\n",
              "    async function quickchart(key) {\n",
              "      const quickchartButtonEl =\n",
              "        document.querySelector('#' + key + ' button');\n",
              "      quickchartButtonEl.disabled = true;  // To prevent multiple clicks.\n",
              "      quickchartButtonEl.classList.add('colab-df-spinner');\n",
              "      try {\n",
              "        const charts = await google.colab.kernel.invokeFunction(\n",
              "            'suggestCharts', [key], {});\n",
              "      } catch (error) {\n",
              "        console.error('Error during call to suggestCharts:', error);\n",
              "      }\n",
              "      quickchartButtonEl.classList.remove('colab-df-spinner');\n",
              "      quickchartButtonEl.classList.add('colab-df-quickchart-complete');\n",
              "    }\n",
              "    (() => {\n",
              "      let quickchartButtonEl =\n",
              "        document.querySelector('#df-721b68ac-16d7-46a1-9efd-0812fa7d4eb9 button');\n",
              "      quickchartButtonEl.style.display =\n",
              "        google.colab.kernel.accessAllowed ? 'block' : 'none';\n",
              "    })();\n",
              "  </script>\n",
              "</div>\n",
              "    </div>\n",
              "  </div>\n"
            ]
          },
          "metadata": {},
          "execution_count": 61
        }
      ]
    },
    {
      "cell_type": "code",
      "source": [
        "# Save the final dataframe to a CSV file\n",
        "lagged_data2.to_csv('final_data.csv', index=False)  # Setting index=False to exclude the index column\n",
        "\n",
        "# Print the first few rows of the final dataframe\n",
        "print(lagged_data2.head(7))"
      ],
      "metadata": {
        "colab": {
          "base_uri": "https://localhost:8080/"
        },
        "id": "aSVNh3nGFEvq",
        "outputId": "715f56c1-aa15-481e-a846-ed708ea7fca5"
      },
      "execution_count": null,
      "outputs": [
        {
          "output_type": "stream",
          "name": "stdout",
          "text": [
            "              Close     lag1     lag2     lag3     lag4     lag5     lag6\n",
            "Date                                                                     \n",
            "2007-01-02  45383.0      NaN      NaN      NaN      NaN      NaN      NaN\n",
            "2007-01-03  44445.0  45383.0      NaN      NaN      NaN      NaN      NaN\n",
            "2007-01-04  44020.0  44445.0  45383.0      NaN      NaN      NaN      NaN\n",
            "2007-01-05  42245.0  44020.0  44445.0  45383.0      NaN      NaN      NaN\n",
            "2007-01-08  42830.0  42245.0  44020.0  44445.0  45383.0      NaN      NaN\n",
            "2007-01-09  42007.0  42830.0  42245.0  44020.0  44445.0  45383.0      NaN\n",
            "2007-01-10  42336.0  42007.0  42830.0  42245.0  44020.0  44445.0  45383.0\n"
          ]
        }
      ]
    },
    {
      "cell_type": "code",
      "source": [
        "from sklearn.tree import DecisionTreeRegressor\n",
        "import matplotlib.pyplot as plt\n",
        "\n",
        "# Download data for the stock (I'm using the Bovespa index as an example)\n",
        "data3 = yf.download('^BVSP', '2007-01-01', '2023-10-17')\n",
        "data3 = data3[['Close']]\n",
        "\n",
        "# Create lag features for the entire dataset\n",
        "look_back = 60\n",
        "include_lag0 = False  # You can set this to True if you want to include lag0\n",
        "\n",
        "lagged_data = create_lagged_dataframe(data3, look_back, include_lag0)\n",
        "lagged_data = lagged_data.dropna()  # Drop rows with NaN values\n",
        "lagged_data\n",
        "\n",
        "# Split the data into features (X) and the target variable (Y)\n",
        "X = lagged_data.drop(columns='Close')\n",
        "Y = lagged_data['Close']\n",
        "\n",
        "# Create and fit the Decision Tree model\n",
        "regression_tree = DecisionTreeRegressor()\n",
        "regression_tree.fit(X, Y)\n",
        "\n",
        "# Calculate feature importances\n",
        "feature_importances = regression_tree.feature_importances_\n",
        "\n",
        "# Create a DataFrame to display feature importances\n",
        "importance_df = pd.DataFrame({'Feature': X.columns, 'Importance': feature_importances})\n",
        "\n",
        "# Sort the features by importance in descending order\n",
        "importance_df = importance_df.sort_values(by='Importance', ascending=False)\n",
        "\n",
        "# Display the top N most important features (adjust N as needed)\n",
        "top_n = 10\n",
        "print(importance_df.head(top_n))\n",
        "\n",
        "# Plot feature importances\n",
        "plt.figure(figsize=(10, 6))\n",
        "plt.barh(importance_df['Feature'][:top_n], importance_df['Importance'][:top_n])\n",
        "plt.xlabel('Importance')\n",
        "plt.title('Top Feature Importances')\n",
        "plt.show()\n",
        "#lag1 is way more important than others"
      ],
      "metadata": {
        "colab": {
          "base_uri": "https://localhost:8080/",
          "height": 772
        },
        "id": "Q67Lrz8EbtAN",
        "outputId": "97581a73-acfc-4503-ff5b-f8c3c75a6c2e"
      },
      "execution_count": null,
      "outputs": [
        {
          "output_type": "stream",
          "name": "stdout",
          "text": [
            "\r[*********************100%%**********************]  1 of 1 completed\n",
            "   Feature  Importance\n",
            "0     lag1    0.997551\n",
            "1     lag2    0.000477\n",
            "14   lag15    0.000092\n",
            "2     lag3    0.000082\n",
            "7     lag8    0.000078\n",
            "23   lag24    0.000066\n",
            "4     lag5    0.000063\n",
            "37   lag38    0.000061\n",
            "16   lag17    0.000057\n",
            "5     lag6    0.000057\n"
          ]
        },
        {
          "output_type": "display_data",
          "data": {
            "text/plain": [
              "<Figure size 1000x600 with 1 Axes>"
            ],
            "image/png": "[encoded data removed]"
          },
          "metadata": {}
        }
      ]
    },
    {
      "cell_type": "code",
      "source": [
        "testX.shape"
      ],
      "metadata": {
        "colab": {
          "base_uri": "https://localhost:8080/"
        },
        "id": "l5fQl7cKNBsu",
        "outputId": "cf176a25-164d-418b-b185-e7ee8488c898"
      },
      "execution_count": null,
      "outputs": [
        {
          "output_type": "execute_result",
          "data": {
            "text/plain": [
              "(844, 6)"
            ]
          },
          "metadata": {},
          "execution_count": 64
        }
      ]
    },
    {
      "cell_type": "markdown",
      "source": [
        "# Proximos 3 dias"
      ],
      "metadata": {
        "id": "M3spn7-ZiH1N"
      }
    },
    {
      "cell_type": "code",
      "source": [
        "look_back=6"
      ],
      "metadata": {
        "id": "9CCw1ylskqm_"
      },
      "execution_count": null,
      "outputs": []
    },
    {
      "cell_type": "code",
      "source": [
        "# Download data for the stock (I'm using the Bovespa index as an example)\n",
        "data2 = yf.download('^GSPC', '2007-01-01', '2023-10-17')\n",
        "\n",
        "\n",
        "datacheck = yf.download('^GSPC', '2007-01-01', '2023-10-17')\n",
        "datacheck= datacheck[['Close']]\n",
        "\n",
        "# Define the baseline model\n",
        "def baseline_model(output_window):\n",
        "    last_known_value = np.array(datacheck)[-1]\n",
        "    return np.full((3, output_window), last_known_value)\n",
        "\n",
        "# Train and evaluate the models\n",
        "output_window = 1\n",
        "\n",
        "baseline_predictions = baseline_model(output_window)\n",
        "\n",
        "data2['Close'] = scaler.fit_transform(data2['Close'].values.reshape(-1, 1))\n",
        "data2= data2[['Close']]\n",
        "\n",
        "last_60_days = data2[-look_back:].values\n",
        "last_60_days_scaled = last_60_days\n",
        "X_test = []\n",
        "X_test.append(last_60_days_scaled)\n",
        "X_test = np.array(X_test)\n",
        "X_test = X_test.reshape(-1,1,X_test.shape[1])\n",
        "X_test\n",
        "#pred_price = lstm_model.predict(X_test)\n",
        "#pred_price = scaler.inverse_transform(pred_price)\n",
        "#print(pred_price)"
      ],
      "metadata": {
        "colab": {
          "base_uri": "https://localhost:8080/"
        },
        "outputId": "41198d90-f67f-46fb-bfff-822c8f5e7356",
        "id": "_WzLM8HWkqnM"
      },
      "execution_count": null,
      "outputs": [
        {
          "output_type": "stream",
          "name": "stdout",
          "text": [
            "[*********************100%%**********************]  1 of 1 completed\n",
            "[*********************100%%**********************]  1 of 1 completed\n"
          ]
        },
        {
          "output_type": "execute_result",
          "data": {
            "text/plain": [
              "array([[[0.88813191, 0.89361247, 0.89815369, 0.89151773, 0.88621921,\n",
              "         0.89734779]]])"
            ]
          },
          "metadata": {},
          "execution_count": 69
        }
      ]
    },
    {
      "cell_type": "code",
      "source": [
        "# Use the last available data in the test set for initial prediction\n",
        "current_input = X_test\n",
        "# Use the last available data in the test set for initial prediction\n",
        "current_input_GRU = X_test\n",
        "# Use the last available data in the test set for initial prediction\n",
        "current_input_bilstm = X_test\n",
        "\n",
        "num_steps=3\n",
        "# List to store multi-step predictions\n",
        "multi_step_preds = []\n",
        "multi_step_preds_GRU = []\n",
        "multi_step_preds_bilstm = []\n",
        "\n",
        "for step in range(num_steps):\n",
        "    # Reshape current input for prediction\n",
        "\n",
        "    # Make prediction for the next step\n",
        "    next_step_pred = lstm_model.predict(current_input)\n",
        "    # Make prediction for the next step\n",
        "    next_step_pred_GRU = gru_model.predict(current_input_GRU)\n",
        "    # Make prediction for the next step\n",
        "    next_step_pred_bilstm = bilstm_model.predict(current_input_bilstm)\n",
        "\n",
        "\n",
        "    # Append prediction to the list\n",
        "    multi_step_preds.append(next_step_pred[0, 0])\n",
        "    # Append prediction to the list\n",
        "    multi_step_preds_GRU.append(next_step_pred_GRU[0, 0])\n",
        "    # Append prediction to the list\n",
        "    multi_step_preds_bilstm.append(next_step_pred_bilstm[0, 0])\n",
        "\n",
        "     # Update current input for the next iteration\n",
        "    current_input = np.concatenate([current_input[:, 0:, :], next_step_pred.reshape(1, 1, 1)], axis=2)[:,:,1:]\n",
        "     # Update current input for the next iteration\n",
        "    current_input_GRU = np.concatenate([current_input_GRU[:, 0:, :], next_step_pred_GRU.reshape(1, 1, 1)], axis=2)[:,:,1:]\n",
        "# Update current input for the next iteration\n",
        "    current_input_bilstm = np.concatenate([current_input_bilstm[:, 0:, :], next_step_pred_bilstm.reshape(1, 1, 1)], axis=2)[:,:,1:]\n",
        "\n",
        "\n",
        "    #print(current_input)\n",
        "\n",
        "# Inverse transform the predictions\n",
        "multi_step_preds = scaler.inverse_transform(np.array(multi_step_preds).reshape(-1, 1))\n",
        "multi_step_preds\n",
        "\n",
        "multi_step_preds_GRU = scaler.inverse_transform(np.array(multi_step_preds_GRU).reshape(-1, 1))\n",
        "multi_step_preds_GRU\n",
        "\n",
        "multi_step_preds_bilstm = scaler.inverse_transform(np.array(multi_step_preds_bilstm).reshape(-1, 1))\n",
        "multi_step_preds_bilstm"
      ],
      "metadata": {
        "colab": {
          "base_uri": "https://localhost:8080/"
        },
        "outputId": "9827d49f-34a0-408c-9410-c52a1621038f",
        "id": "ZdXTIyCgkqnN"
      },
      "execution_count": null,
      "outputs": [
        {
          "output_type": "execute_result",
          "data": {
            "text/plain": [
              "array([[4342.7974],\n",
              "       [4372.6426],\n",
              "       [4370.9717]], dtype=float32)"
            ]
          },
          "metadata": {},
          "execution_count": 70
        }
      ]
    },
    {
      "cell_type": "code",
      "source": [
        "# Download data for the stock (I'm using the Bovespa index as an example)\n",
        "data2test = yf.download('^GSPC', '2023-10-18', '2023-10-21')\n",
        "data2test= data2test[['Close']]\n",
        "len(data2test)"
      ],
      "metadata": {
        "colab": {
          "base_uri": "https://localhost:8080/"
        },
        "outputId": "c3a75349-8d1c-42cd-f092-da387e1f9694",
        "id": "HZ2G6iK5kqnO"
      },
      "execution_count": null,
      "outputs": [
        {
          "output_type": "stream",
          "name": "stdout",
          "text": [
            "\r[*********************100%%**********************]  1 of 1 completed\n"
          ]
        },
        {
          "output_type": "execute_result",
          "data": {
            "text/plain": [
              "3"
            ]
          },
          "metadata": {},
          "execution_count": 71
        }
      ]
    },
    {
      "cell_type": "code",
      "source": [
        "# Generate future dates for the multi-step prediction\n",
        "#last_date = lagged_data.index[-1]\n",
        "#future_dates = pd.date_range(start=last_date + pd.Timedelta(days=1), periods=num_steps)\n",
        "\n",
        "\n",
        "#Inverse transform both train and test data\n",
        "#trainY = scaler.inverse_transform(trainY.reshape(-1, 1))\n",
        "#testY = scaler.inverse_transform(testY.reshape(-1, 1))\n",
        "\n",
        "# Create a time index for plotting\n",
        "time_index_train = data2.index\n",
        "time_index_test = data2test.index\n",
        "\n",
        "# Plot all true values and the predictions with different colors\n",
        "plt.figure(figsize=(12, 6))\n",
        "plt.plot(time_index_train, datacheck, label='Actual Train Close', color='blue', linestyle='dotted')\n",
        "plt.plot(time_index_test, data2test, label='Actual Test Close', color='orange')\n",
        "\n",
        "# Plot the multi-step predictions\n",
        "#plt.figure(figsize=(12, 6))\n",
        "#plt.plot(data.index, data['Close'], label='Historical Data')\n",
        "plt.plot(time_index_test, multi_step_preds, label='Multi-Step Prediction LSTM', linestyle='dashed',color='pink')\n",
        "plt.plot(time_index_test, multi_step_preds_GRU, label='Multi-Step Prediction GRU', linestyle='dashed',color='red')\n",
        "plt.plot(time_index_test, multi_step_preds_bilstm, label='Multi-Step Prediction BiLSTM', linestyle='dashed',color='purple')\n",
        "\n",
        "plt.title('Multi-Step LSTM Model - Stock Price Prediction')\n",
        "plt.xlabel('Date')\n",
        "plt.ylabel('Stock Price')\n",
        "plt.legend()\n",
        "plt.show()\n"
      ],
      "metadata": {
        "colab": {
          "base_uri": "https://localhost:8080/",
          "height": 564
        },
        "outputId": "c4032254-456e-4d8d-908c-c6a12788145c",
        "id": "dY0i3cHpkqnP"
      },
      "execution_count": null,
      "outputs": [
        {
          "output_type": "display_data",
          "data": {
            "text/plain": [
              "<Figure size 1200x600 with 1 Axes>"
            ],
            "image/png": "[encoded data removed]"
          },
          "metadata": {}
        }
      ]
    },
    {
      "cell_type": "code",
      "source": [
        "test_to_errors=np.array(data2test[['Close']])\n",
        "\n",
        "baseline_mae = calculate_mae(test_to_errors, baseline_predictions)\n",
        "\n",
        "lstm_mape15 = calculate_mape(test_to_errors, multi_step_preds)\n",
        "lstm_mae15 = calculate_mae(test_to_errors, multi_step_preds)\n",
        "lstm_mase15 = calculate_mase(lstm_mae15,baseline_mae)\n",
        "lstm_rmse15 = np.sqrt(mean_squared_error(test_to_errors, multi_step_preds))\n",
        "\n",
        "gru_mape15 = calculate_mape(test_to_errors, multi_step_preds_GRU)\n",
        "gru_mae15 = calculate_mae(test_to_errors, multi_step_preds_GRU)\n",
        "gru_mase15 = calculate_mase(gru_mae15,baseline_mae)\n",
        "gru_rmse15 = np.sqrt(mean_squared_error(test_to_errors, multi_step_preds_GRU))\n",
        "\n",
        "\n",
        "bilstm_mape15 = calculate_mape(test_to_errors, multi_step_preds_bilstm)\n",
        "bilstm_mae15 = calculate_mae(test_to_errors, multi_step_preds_bilstm)\n",
        "bilstm_mase15 = calculate_mase(bilstm_mae15,baseline_mae)\n",
        "bilstm_rmse15 = np.sqrt(mean_squared_error(test_to_errors, multi_step_preds_bilstm))\n",
        "\n",
        "\n",
        "\n",
        "\n",
        "print(\"LSTM Model MAPE: {:.2f}%\".format(lstm_mape15))\n",
        "print(\"LSTM Model MASE: {:.2f}\".format(lstm_mase15))\n",
        "print(\"LSTM Model RMSE: {:.2f}\".format(lstm_rmse15))\n",
        "\n",
        "print(\"GRU Model MAPE: {:.2f}%\".format(gru_mape15))\n",
        "print(\"GRU Model MASE: {:.2f}\".format(gru_mase15))\n",
        "print(\"GRU Model RMSE: {:.2f}\".format(gru_rmse15))\n",
        "\n",
        "print(\"biLSTM Model MAPE: {:.2f}%\".format(bilstm_mape15))\n",
        "print(\"biLSTM Model MASE: {:.2f}\".format(bilstm_mase15))\n",
        "print(\"biLSTM Model RMSE: {:.2f}\".format(bilstm_rmse15))\n",
        "\n",
        "print(\"baseline Model MAE: {:.2f}\".format(baseline_mae))\n"
      ],
      "metadata": {
        "colab": {
          "base_uri": "https://localhost:8080/"
        },
        "outputId": "604c7274-06d2-436f-b9e8-cfd8f6dce8a7",
        "id": "pbMw_oIYkqnQ"
      },
      "execution_count": null,
      "outputs": [
        {
          "output_type": "stream",
          "name": "stdout",
          "text": [
            "LSTM Model MAPE: 2.42%\n",
            "LSTM Model MASE: 1.02\n",
            "LSTM Model RMSE: 113.18\n",
            "GRU Model MAPE: 1.78%\n",
            "GRU Model MASE: 0.75\n",
            "GRU Model RMSE: 89.98\n",
            "biLSTM Model MAPE: 2.11%\n",
            "biLSTM Model MASE: 0.89\n",
            "biLSTM Model RMSE: 102.15\n",
            "baseline Model MAE: 101.38\n"
          ]
        }
      ]
    },
    {
      "cell_type": "markdown",
      "source": [
        "# Proximos 7 dias"
      ],
      "metadata": {
        "id": "oFt5DXz9lhn6"
      }
    },
    {
      "cell_type": "code",
      "source": [
        "look_back=6"
      ],
      "metadata": {
        "id": "SvXM4wMylhn7"
      },
      "execution_count": null,
      "outputs": []
    },
    {
      "cell_type": "code",
      "source": [
        "# Download data for the stock (I'm using the Bovespa index as an example)\n",
        "data2 = yf.download('^GSPC', '2007-01-01', '2023-10-17')\n",
        "datacheck = yf.download('^GSPC', '2007-01-01', '2023-10-17')\n",
        "datacheck= datacheck[['Close']]\n",
        "\n",
        "# Define the baseline model\n",
        "def baseline_model(output_window):\n",
        "    last_known_value = np.array(datacheck)[-1]\n",
        "    return np.full((7, output_window), last_known_value)\n",
        "\n",
        "# Train and evaluate the models\n",
        "output_window = 1\n",
        "\n",
        "baseline_predictions = baseline_model(output_window)\n",
        "\n",
        "data2['Close'] = scaler.fit_transform(data2['Close'].values.reshape(-1, 1))\n",
        "data2= data2[['Close']]\n",
        "\n",
        "last_60_days = data2[-look_back:].values\n",
        "last_60_days_scaled = last_60_days\n",
        "X_test = []\n",
        "X_test.append(last_60_days_scaled)\n",
        "X_test = np.array(X_test)\n",
        "X_test = X_test.reshape(-1,1,X_test.shape[1])\n",
        "X_test\n",
        "#pred_price = lstm_model.predict(X_test)\n",
        "#pred_price = scaler.inverse_transform(pred_price)\n",
        "#print(pred_price)"
      ],
      "metadata": {
        "colab": {
          "base_uri": "https://localhost:8080/"
        },
        "outputId": "292d096c-8cc6-4241-eff6-a72a80749834",
        "id": "4auh_7uzlhn7"
      },
      "execution_count": null,
      "outputs": [
        {
          "output_type": "stream",
          "name": "stdout",
          "text": [
            "[*********************100%%**********************]  1 of 1 completed\n",
            "[*********************100%%**********************]  1 of 1 completed\n"
          ]
        },
        {
          "output_type": "execute_result",
          "data": {
            "text/plain": [
              "array([[[0.88813191, 0.89361247, 0.89815369, 0.89151773, 0.88621921,\n",
              "         0.89734779]]])"
            ]
          },
          "metadata": {},
          "execution_count": 75
        }
      ]
    },
    {
      "cell_type": "code",
      "source": [
        "# Use the last available data in the test set for initial prediction\n",
        "current_input = X_test\n",
        "# Use the last available data in the test set for initial prediction\n",
        "current_input_GRU = X_test\n",
        "# Use the last available data in the test set for initial prediction\n",
        "current_input_bilstm = X_test\n",
        "\n",
        "num_steps=7\n",
        "# List to store multi-step predictions\n",
        "multi_step_preds = []\n",
        "multi_step_preds_GRU = []\n",
        "multi_step_preds_bilstm = []\n",
        "\n",
        "for step in range(num_steps):\n",
        "    # Reshape current input for prediction\n",
        "\n",
        "    # Make prediction for the next step\n",
        "    next_step_pred = lstm_model.predict(current_input)\n",
        "    # Make prediction for the next step\n",
        "    next_step_pred_GRU = gru_model.predict(current_input_GRU)\n",
        "    # Make prediction for the next step\n",
        "    next_step_pred_bilstm = bilstm_model.predict(current_input_bilstm)\n",
        "\n",
        "\n",
        "    # Append prediction to the list\n",
        "    multi_step_preds.append(next_step_pred[0, 0])\n",
        "    # Append prediction to the list\n",
        "    multi_step_preds_GRU.append(next_step_pred_GRU[0, 0])\n",
        "    # Append prediction to the list\n",
        "    multi_step_preds_bilstm.append(next_step_pred_bilstm[0, 0])\n",
        "\n",
        "     # Update current input for the next iteration\n",
        "    current_input = np.concatenate([current_input[:, 0:, :], next_step_pred.reshape(1, 1, 1)], axis=2)[:,:,1:]\n",
        "     # Update current input for the next iteration\n",
        "    current_input_GRU = np.concatenate([current_input_GRU[:, 0:, :], next_step_pred_GRU.reshape(1, 1, 1)], axis=2)[:,:,1:]\n",
        "# Update current input for the next iteration\n",
        "    current_input_bilstm = np.concatenate([current_input_bilstm[:, 0:, :], next_step_pred_bilstm.reshape(1, 1, 1)], axis=2)[:,:,1:]\n",
        "\n",
        "\n",
        "    #print(current_input)\n",
        "\n",
        "# Inverse transform the predictions\n",
        "multi_step_preds = scaler.inverse_transform(np.array(multi_step_preds).reshape(-1, 1))\n",
        "multi_step_preds\n",
        "\n",
        "multi_step_preds_GRU = scaler.inverse_transform(np.array(multi_step_preds_GRU).reshape(-1, 1))\n",
        "multi_step_preds_GRU\n",
        "\n",
        "multi_step_preds_bilstm = scaler.inverse_transform(np.array(multi_step_preds_bilstm).reshape(-1, 1))\n",
        "multi_step_preds_bilstm"
      ],
      "metadata": {
        "colab": {
          "base_uri": "https://localhost:8080/"
        },
        "outputId": "8ac0e52e-8159-492e-fe52-481d5339c8f4",
        "id": "_ScexqlQlhn8"
      },
      "execution_count": null,
      "outputs": [
        {
          "output_type": "execute_result",
          "data": {
            "text/plain": [
              "array([[4342.7974],\n",
              "       [4372.6426],\n",
              "       [4370.9717],\n",
              "       [4347.602 ],\n",
              "       [4341.9634],\n",
              "       [4367.5083],\n",
              "       [4354.1753]], dtype=float32)"
            ]
          },
          "metadata": {},
          "execution_count": 76
        }
      ]
    },
    {
      "cell_type": "code",
      "source": [
        "# Download data for the stock (I'm using the Bovespa index as an example)\n",
        "data2test = yf.download('^GSPC', '2023-10-18', '2023-10-27')\n",
        "data2test= data2test[['Close']]\n",
        "len(data2test)"
      ],
      "metadata": {
        "colab": {
          "base_uri": "https://localhost:8080/"
        },
        "outputId": "85275571-0b1e-493d-aead-9d50f70c000c",
        "id": "8j0w4D3alhn9"
      },
      "execution_count": null,
      "outputs": [
        {
          "output_type": "stream",
          "name": "stdout",
          "text": [
            "\r[*********************100%%**********************]  1 of 1 completed\n"
          ]
        },
        {
          "output_type": "execute_result",
          "data": {
            "text/plain": [
              "7"
            ]
          },
          "metadata": {},
          "execution_count": 79
        }
      ]
    },
    {
      "cell_type": "code",
      "source": [
        "# Generate future dates for the multi-step prediction\n",
        "#last_date = lagged_data.index[-1]\n",
        "#future_dates = pd.date_range(start=last_date + pd.Timedelta(days=1), periods=num_steps)\n",
        "\n",
        "\n",
        "#Inverse transform both train and test data\n",
        "#trainY = scaler.inverse_transform(trainY.reshape(-1, 1))\n",
        "#testY = scaler.inverse_transform(testY.reshape(-1, 1))\n",
        "\n",
        "# Create a time index for plotting\n",
        "time_index_train = data2.index\n",
        "time_index_test = data2test.index\n",
        "\n",
        "# Plot all true values and the predictions with different colors\n",
        "plt.figure(figsize=(12, 6))\n",
        "plt.plot(time_index_train, datacheck, label='Actual Train Close', color='blue', linestyle='dotted')\n",
        "plt.plot(time_index_test, data2test, label='Actual Test Close', color='orange')\n",
        "\n",
        "# Plot the multi-step predictions\n",
        "#plt.figure(figsize=(12, 6))\n",
        "#plt.plot(data.index, data['Close'], label='Historical Data')\n",
        "plt.plot(time_index_test, multi_step_preds, label='Multi-Step Prediction LSTM', linestyle='dashed',color='pink')\n",
        "plt.plot(time_index_test, multi_step_preds_GRU, label='Multi-Step Prediction GRU', linestyle='dashed',color='red')\n",
        "plt.plot(time_index_test, multi_step_preds_bilstm, label='Multi-Step Prediction BiLSTM', linestyle='dashed',color='purple')\n",
        "\n",
        "plt.title('Multi-Step LSTM Model - Stock Price Prediction')\n",
        "plt.xlabel('Date')\n",
        "plt.ylabel('Stock Price')\n",
        "plt.legend()\n",
        "plt.show()\n"
      ],
      "metadata": {
        "colab": {
          "base_uri": "https://localhost:8080/",
          "height": 564
        },
        "outputId": "7cacd727-5ca5-4ec2-e3b4-e20c1d227a87",
        "id": "ur41-Sxelhn9"
      },
      "execution_count": null,
      "outputs": [
        {
          "output_type": "display_data",
          "data": {
            "text/plain": [
              "<Figure size 1200x600 with 1 Axes>"
            ],
            "image/png": "[encoded data removed]"
          },
          "metadata": {}
        }
      ]
    },
    {
      "cell_type": "code",
      "source": [
        "test_to_errors=np.array(data2test[['Close']])\n",
        "\n",
        "baseline_mae = calculate_mae(test_to_errors, baseline_predictions)\n",
        "lstm_mape15 = calculate_mape(test_to_errors, multi_step_preds)\n",
        "lstm_mae15 = calculate_mae(test_to_errors, multi_step_preds)\n",
        "lstm_mase15 = calculate_mase(lstm_mae15,baseline_mae)\n",
        "lstm_rmse15 = np.sqrt(mean_squared_error(test_to_errors, multi_step_preds))\n",
        "\n",
        "gru_mape15 = calculate_mape(test_to_errors, multi_step_preds_GRU)\n",
        "gru_mae15 = calculate_mae(test_to_errors, multi_step_preds_GRU)\n",
        "gru_mase15 = calculate_mase(gru_mae15,baseline_mae)\n",
        "gru_rmse15 = np.sqrt(mean_squared_error(test_to_errors, multi_step_preds_GRU))\n",
        "\n",
        "\n",
        "\n",
        "bilstm_mape15 = calculate_mape(test_to_errors, multi_step_preds_bilstm)\n",
        "bilstm_mae15 = calculate_mae(test_to_errors, multi_step_preds_bilstm)\n",
        "bilstm_mase15 = calculate_mase(bilstm_mae15,baseline_mae)\n",
        "bilstm_rmse15 = np.sqrt(mean_squared_error(test_to_errors, multi_step_preds_bilstm))\n",
        "\n",
        "\n",
        "\n",
        "\n",
        "print(\"LSTM Model MAPE: {:.2f}%\".format(lstm_mape15))\n",
        "print(\"LSTM Model MASE: {:.2f}\".format(lstm_mase15))\n",
        "print(\"LSTM Model RMSE: {:.2f}\".format(lstm_rmse15))\n",
        "\n",
        "print(\"GRU Model MAPE: {:.2f}%\".format(gru_mape15))\n",
        "print(\"GRU Model MASE: {:.2f}\".format(gru_mase15))\n",
        "print(\"GRU Model RMSE: {:.2f}\".format(gru_rmse15))\n",
        "\n",
        "print(\"biLSTM Model MAPE: {:.2f}%\".format(bilstm_mape15))\n",
        "print(\"biLSTM Model MASE: {:.2f}\".format(bilstm_mase15))\n",
        "print(\"biLSTM Model RMSE: {:.2f}\".format(bilstm_rmse15))\n",
        "\n",
        "print(\"baseline Model MAE: {:.2f}\".format(baseline_mae))"
      ],
      "metadata": {
        "colab": {
          "base_uri": "https://localhost:8080/"
        },
        "outputId": "995fe72b-a5cd-4753-80a3-32f4dcea23dc",
        "id": "9O2g0a2Ylhn-"
      },
      "execution_count": null,
      "outputs": [
        {
          "output_type": "stream",
          "name": "stdout",
          "text": [
            "LSTM Model MAPE: 3.40%\n",
            "LSTM Model MASE: 0.99\n",
            "LSTM Model RMSE: 155.89\n",
            "GRU Model MAPE: 2.65%\n",
            "GRU Model MASE: 0.77\n",
            "GRU Model RMSE: 123.94\n",
            "biLSTM Model MAPE: 3.03%\n",
            "biLSTM Model MASE: 0.88\n",
            "biLSTM Model RMSE: 139.88\n",
            "baseline Model MAE: 144.28\n"
          ]
        }
      ]
    },
    {
      "cell_type": "markdown",
      "source": [
        "# Proximos 15 dias (LSTM)"
      ],
      "metadata": {
        "id": "96QE-7qJTl9l"
      }
    },
    {
      "cell_type": "code",
      "source": [
        "look_back=6"
      ],
      "metadata": {
        "id": "-focovrEeB_1"
      },
      "execution_count": null,
      "outputs": []
    },
    {
      "cell_type": "code",
      "source": [
        "# Download data for the stock (I'm using the Bovespa index as an example)\n",
        "data2 = yf.download('^GSPC', '2007-01-01', '2023-10-17')\n",
        "datacheck = yf.download('^GSPC', '2007-01-01', '2023-10-17')\n",
        "datacheck= datacheck[['Close']]\n",
        "# Define the baseline model\n",
        "def baseline_model(output_window):\n",
        "    last_known_value = np.array(datacheck)[-1]\n",
        "    return np.full((15, output_window), last_known_value)\n",
        "\n",
        "# Train and evaluate the models\n",
        "output_window = 1\n",
        "\n",
        "baseline_predictions = baseline_model(output_window)\n",
        "\n",
        "data2['Close'] = scaler.fit_transform(data2['Close'].values.reshape(-1, 1))\n",
        "data2= data2[['Close']]\n",
        "\n",
        "last_60_days = data2[-look_back:].values\n",
        "last_60_days_scaled = last_60_days\n",
        "X_test = []\n",
        "X_test.append(last_60_days_scaled)\n",
        "X_test = np.array(X_test)\n",
        "X_test = X_test.reshape(-1,1,X_test.shape[1])\n",
        "X_test\n",
        "#pred_price = lstm_model.predict(X_test)\n",
        "#pred_price = scaler.inverse_transform(pred_price)\n",
        "#print(pred_price)"
      ],
      "metadata": {
        "colab": {
          "base_uri": "https://localhost:8080/"
        },
        "id": "nT0hOs9_TneW",
        "outputId": "c8b7e302-39ff-4561-f53c-1bc69d1f9ee2"
      },
      "execution_count": null,
      "outputs": [
        {
          "output_type": "stream",
          "name": "stdout",
          "text": [
            "[*********************100%%**********************]  1 of 1 completed\n",
            "[*********************100%%**********************]  1 of 1 completed\n"
          ]
        },
        {
          "output_type": "execute_result",
          "data": {
            "text/plain": [
              "array([[[0.88813191, 0.89361247, 0.89815369, 0.89151773, 0.88621921,\n",
              "         0.89734779]]])"
            ]
          },
          "metadata": {},
          "execution_count": 83
        }
      ]
    },
    {
      "cell_type": "code",
      "source": [
        "# Use the last available data in the test set for initial prediction\n",
        "current_input = X_test\n",
        "# Use the last available data in the test set for initial prediction\n",
        "current_input_GRU = X_test\n",
        "# Use the last available data in the test set for initial prediction\n",
        "current_input_bilstm = X_test\n",
        "\n",
        "num_steps=15\n",
        "# List to store multi-step predictions\n",
        "multi_step_preds = []\n",
        "multi_step_preds_GRU = []\n",
        "multi_step_preds_bilstm = []\n",
        "\n",
        "for step in range(num_steps):\n",
        "    # Reshape current input for prediction\n",
        "\n",
        "    # Make prediction for the next step\n",
        "    next_step_pred = lstm_model.predict(current_input)\n",
        "    # Make prediction for the next step\n",
        "    next_step_pred_GRU = gru_model.predict(current_input_GRU)\n",
        "    # Make prediction for the next step\n",
        "    next_step_pred_bilstm = bilstm_model.predict(current_input_bilstm)\n",
        "\n",
        "\n",
        "    # Append prediction to the list\n",
        "    multi_step_preds.append(next_step_pred[0, 0])\n",
        "    # Append prediction to the list\n",
        "    multi_step_preds_GRU.append(next_step_pred_GRU[0, 0])\n",
        "    # Append prediction to the list\n",
        "    multi_step_preds_bilstm.append(next_step_pred_bilstm[0, 0])\n",
        "\n",
        "     # Update current input for the next iteration\n",
        "    current_input = np.concatenate([current_input[:, 0:, :], next_step_pred.reshape(1, 1, 1)], axis=2)[:,:,1:]\n",
        "     # Update current input for the next iteration\n",
        "    current_input_GRU = np.concatenate([current_input_GRU[:, 0:, :], next_step_pred_GRU.reshape(1, 1, 1)], axis=2)[:,:,1:]\n",
        "# Update current input for the next iteration\n",
        "    current_input_bilstm = np.concatenate([current_input_bilstm[:, 0:, :], next_step_pred_bilstm.reshape(1, 1, 1)], axis=2)[:,:,1:]\n",
        "\n",
        "\n",
        "    #print(current_input)\n",
        "\n",
        "# Inverse transform the predictions\n",
        "multi_step_preds = scaler.inverse_transform(np.array(multi_step_preds).reshape(-1, 1))\n",
        "multi_step_preds\n",
        "\n",
        "multi_step_preds_GRU = scaler.inverse_transform(np.array(multi_step_preds_GRU).reshape(-1, 1))\n",
        "multi_step_preds_GRU\n",
        "\n",
        "multi_step_preds_bilstm = scaler.inverse_transform(np.array(multi_step_preds_bilstm).reshape(-1, 1))\n",
        "multi_step_preds_bilstm"
      ],
      "metadata": {
        "colab": {
          "base_uri": "https://localhost:8080/"
        },
        "id": "-kcGQWGKVCan",
        "outputId": "6c668e45-cafd-498a-d9b2-a6fbe68421ba"
      },
      "execution_count": null,
      "outputs": [
        {
          "output_type": "execute_result",
          "data": {
            "text/plain": [
              "array([[4342.7974],\n",
              "       [4372.6426],\n",
              "       [4370.9717],\n",
              "       [4347.602 ],\n",
              "       [4341.9634],\n",
              "       [4367.5083],\n",
              "       [4354.1753],\n",
              "       [4379.8145],\n",
              "       [4366.6714],\n",
              "       [4349.662 ],\n",
              "       [4350.059 ],\n",
              "       [4366.5767],\n",
              "       [4365.6655],\n",
              "       [4382.775 ],\n",
              "       [4364.5186]], dtype=float32)"
            ]
          },
          "metadata": {},
          "execution_count": 84
        }
      ]
    },
    {
      "cell_type": "code",
      "source": [
        "# Download data for the stock (I'm using the Bovespa index as an example)\n",
        "data2test = yf.download('^GSPC', '2023-10-19', '2023-11-09')\n",
        "data2test= data2test[['Close']]\n",
        "len(data2test)"
      ],
      "metadata": {
        "colab": {
          "base_uri": "https://localhost:8080/"
        },
        "id": "E17d-MssVa_j",
        "outputId": "d2f8c7a8-7d27-491a-b3aa-5b319e813c78"
      },
      "execution_count": null,
      "outputs": [
        {
          "output_type": "stream",
          "name": "stdout",
          "text": [
            "\r[*********************100%%**********************]  1 of 1 completed\n"
          ]
        },
        {
          "output_type": "execute_result",
          "data": {
            "text/plain": [
              "15"
            ]
          },
          "metadata": {},
          "execution_count": 88
        }
      ]
    },
    {
      "cell_type": "code",
      "source": [
        "# Generate future dates for the multi-step prediction\n",
        "#last_date = lagged_data.index[-1]\n",
        "#future_dates = pd.date_range(start=last_date + pd.Timedelta(days=1), periods=num_steps)\n",
        "\n",
        "\n",
        "#Inverse transform both train and test data\n",
        "#trainY = scaler.inverse_transform(trainY.reshape(-1, 1))\n",
        "#testY = scaler.inverse_transform(testY.reshape(-1, 1))\n",
        "\n",
        "# Create a time index for plotting\n",
        "time_index_train = data2.index\n",
        "time_index_test = data2test.index\n",
        "\n",
        "# Plot all true values and the predictions with different colors\n",
        "plt.figure(figsize=(12, 6))\n",
        "plt.plot(time_index_train, datacheck, label='Actual Train Close', color='blue', linestyle='dotted')\n",
        "plt.plot(time_index_test, data2test, label='Actual Test Close', color='orange')\n",
        "\n",
        "# Plot the multi-step predictions\n",
        "#plt.figure(figsize=(12, 6))\n",
        "#plt.plot(data.index, data['Close'], label='Historical Data')\n",
        "plt.plot(time_index_test, multi_step_preds, label='Multi-Step Prediction LSTM', linestyle='dashed',color='pink')\n",
        "plt.plot(time_index_test, multi_step_preds_GRU, label='Multi-Step Prediction GRU', linestyle='dashed',color='red')\n",
        "plt.plot(time_index_test, multi_step_preds_bilstm, label='Multi-Step Prediction BiLSTM', linestyle='dashed',color='purple')\n",
        "\n",
        "plt.title('Multi-Step LSTM Model - Stock Price Prediction')\n",
        "plt.xlabel('Date')\n",
        "plt.ylabel('Stock Price')\n",
        "plt.legend()\n",
        "plt.show()\n"
      ],
      "metadata": {
        "colab": {
          "base_uri": "https://localhost:8080/",
          "height": 564
        },
        "id": "-RGOX5TUVYZt",
        "outputId": "f625d365-537e-4b33-9ebf-a3e6cf836d03"
      },
      "execution_count": null,
      "outputs": [
        {
          "output_type": "display_data",
          "data": {
            "text/plain": [
              "<Figure size 1200x600 with 1 Axes>"
            ],
            "image/png": "[encoded data removed]"
          },
          "metadata": {}
        }
      ]
    },
    {
      "cell_type": "code",
      "source": [
        "test_to_errors=np.array(data2test[['Close']])\n",
        "\n",
        "baseline_mae = calculate_mae(test_to_errors, baseline_predictions)\n",
        "\n",
        "lstm_mape15 = calculate_mape(test_to_errors, multi_step_preds)\n",
        "lstm_mae15 = calculate_mae(test_to_errors, multi_step_preds)\n",
        "lstm_mase15 = calculate_mase(lstm_mae15,baseline_mae)\n",
        "lstm_rmse15 = np.sqrt(mean_squared_error(test_to_errors, multi_step_preds))\n",
        "\n",
        "gru_mape15 = calculate_mape(test_to_errors, multi_step_preds_GRU)\n",
        "gru_mae15 = calculate_mae(test_to_errors, multi_step_preds_GRU)\n",
        "gru_mase15 = calculate_mase(gru_mae15,baseline_mae)\n",
        "gru_rmse15 = np.sqrt(mean_squared_error(test_to_errors, multi_step_preds_GRU))\n",
        "\n",
        "\n",
        "bilstm_mape15 = calculate_mape(test_to_errors, multi_step_preds_bilstm)\n",
        "bilstm_mae15 = calculate_mae(test_to_errors, multi_step_preds_bilstm)\n",
        "bilstm_mase15 = calculate_mase(bilstm_mae15,baseline_mae)\n",
        "bilstm_rmse15 = np.sqrt(mean_squared_error(test_to_errors, multi_step_preds_bilstm))\n",
        "\n",
        "\n",
        "\n",
        "\n",
        "print(\"LSTM Model MAPE: {:.2f}%\".format(lstm_mape15))\n",
        "print(\"LSTM Model MASE: {:.2f}\".format(lstm_mase15))\n",
        "print(\"LSTM Model RMSE: {:.2f}\".format(lstm_rmse15))\n",
        "\n",
        "print(\"GRU Model MAPE: {:.2f}%\".format(gru_mape15))\n",
        "print(\"GRU Model MASE: {:.2f}\".format(gru_mase15))\n",
        "print(\"GRU Model RMSE: {:.2f}\".format(gru_rmse15))\n",
        "\n",
        "print(\"biLSTM Model MAPE: {:.2f}%\".format(bilstm_mape15))\n",
        "print(\"biLSTM Model MASE: {:.2f}\".format(bilstm_mase15))\n",
        "print(\"biLSTM Model RMSE: {:.2f}\".format(bilstm_rmse15))\n",
        "\n",
        "print(\"baseline Model MAE: {:.2f}\".format(baseline_mae))"
      ],
      "metadata": {
        "colab": {
          "base_uri": "https://localhost:8080/"
        },
        "id": "3F4WdSuFXaUF",
        "outputId": "2f688d90-e94e-4b5c-c276-29757aece3f9"
      },
      "execution_count": null,
      "outputs": [
        {
          "output_type": "stream",
          "name": "stdout",
          "text": [
            "LSTM Model MAPE: 3.12%\n",
            "LSTM Model MASE: 1.08\n",
            "LSTM Model RMSE: 153.64\n",
            "GRU Model MAPE: 2.48%\n",
            "GRU Model MASE: 0.86\n",
            "GRU Model RMSE: 123.13\n",
            "biLSTM Model MAPE: 2.63%\n",
            "biLSTM Model MASE: 0.91\n",
            "biLSTM Model RMSE: 137.19\n",
            "baseline Model MAE: 121.48\n"
          ]
        }
      ]
    }
  ]
}