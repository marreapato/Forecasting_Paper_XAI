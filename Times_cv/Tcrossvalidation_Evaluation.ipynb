{
  "nbformat": 4,
  "nbformat_minor": 0,
  "metadata": {
    "colab": {
      "provenance": [],
      "authorship_tag": "ABX9TyMaDhFXWR+jRdzvTO4xEJqb",
      "include_colab_link": true
    },
    "kernelspec": {
      "name": "python3",
      "display_name": "Python 3"
    },
    "language_info": {
      "name": "python"
    }
  },
  "cells": [
    {
      "cell_type": "markdown",
      "metadata": {
        "id": "view-in-github",
        "colab_type": "text"
      },
      "source": [
        "<a href=\"https://colab.research.google.com/github/marreapato/Forecasting_Paper_XAI/blob/main/Times_cv/Tcrossvalidation_Evaluation.ipynb\" target=\"_parent\"><img src=\"https://colab.research.google.com/assets/colab-badge.svg\" alt=\"Open In Colab\"/></a>"
      ]
    },
    {
      "cell_type": "code",
      "execution_count": 28,
      "metadata": {
        "id": "qI_UMEsS0aug"
      },
      "outputs": [],
      "source": [
        "import numpy as np\n",
        "import pandas as pd\n",
        "from sklearn.model_selection import TimeSeriesSplit\n",
        "from sklearn.preprocessing import MinMaxScaler\n",
        "import tensorflow as tf\n",
        "from tensorflow.keras.models import Sequential\n",
        "from tensorflow.keras.layers import LSTM, Dense, Flatten\n",
        "import math\n",
        "# Assuming you have loaded your time series data from Yahoo Finance\n",
        "# For demonstration purposes, let's create a dummy time series\n",
        "# Replace this with loading your actual data\n",
        "# bvsp_data = load_bvsp_data_from_yahoo()\n",
        "\n",
        "# Example with dummy data\n",
        "np.random.seed(42)\n",
        "dates = pd.date_range(start=\"2007-01-01\", end=\"2023-10-17\", freq=\"D\")\n",
        "bvsp_data = pd.DataFrame({\"Close\": np.random.rand(len(dates))}, index=dates)\n",
        "\n",
        "# Feature scaling\n",
        "scaler = MinMaxScaler()\n",
        "bvsp_data_scaled = scaler.fit_transform(bvsp_data)\n",
        "\n",
        "# Assuming you have a time series array and corresponding labels\n",
        "X = bvsp_data_scaled[:-1]\n",
        "y = bvsp_data_scaled[1:]\n",
        "\n",
        "# Function to create LSTM model\n",
        "def create_lstm_model(input_shape):\n",
        "    model = Sequential()\n",
        "    model.add(LSTM(units=128, activation='relu', input_shape=input_shape))\n",
        "    model.add(Flatten())\n",
        "    model.add(Dense(units=1))\n",
        "    model.compile(optimizer='adam', loss='mean_squared_error')\n",
        "    return model\n",
        "\n"
      ]
    },
    {
      "cell_type": "code",
      "source": [
        "# Time series cross-validation using TimeSeriesSplit\n",
        "n_splits = 30  # You can adjust the number of splits\n",
        "tscv = TimeSeriesSplit(n_splits=n_splits)\n",
        "tscv\n"
      ],
      "metadata": {
        "colab": {
          "base_uri": "https://localhost:8080/"
        },
        "id": "qIp6_omF1a2c",
        "outputId": "3a84c86f-306a-4deb-c4be-d60bd972c7b1"
      },
      "execution_count": 29,
      "outputs": [
        {
          "output_type": "execute_result",
          "data": {
            "text/plain": [
              "TimeSeriesSplit(gap=0, max_train_size=None, n_splits=30, test_size=None)"
            ]
          },
          "metadata": {},
          "execution_count": 29
        }
      ]
    },
    {
      "cell_type": "code",
      "source": [
        "resultslstm = []\n",
        "for train_index, test_index in tscv.split(X):\n",
        "    X_train, X_test = X[train_index], X[test_index]\n",
        "    y_train, y_test = y[train_index], y[test_index]\n",
        "\n",
        "    # Reshape the data for LSTM input\n",
        "    X_train = np.reshape(X_train, (X_train.shape[0], 1, X_train.shape[1]))\n",
        "    X_test = np.reshape(X_test, (X_test.shape[0], 1, X_test.shape[1]))\n",
        "\n",
        "    # Create and train the LSTM model\n",
        "    input_shape = (X_train.shape[1], X_train.shape[2])\n",
        "    model = create_lstm_model(input_shape)\n",
        "    model.fit(X_train, y_train, epochs=300, batch_size=32, verbose=0)\n",
        "\n",
        "    # Evaluate the model on the test set\n",
        "    mse = model.evaluate(X_test, y_test, verbose=0)\n",
        "    resultslstm.append(math.sqrt(mse))\n",
        "    print(f'Mean Squared Error for this fold: {math.sqrt(mse)}')"
      ],
      "metadata": {
        "colab": {
          "base_uri": "https://localhost:8080/"
        },
        "id": "4EKZtOqF2Z9Q",
        "outputId": "cbd0e08f-3439-4045-a484-ee1c0045014d"
      },
      "execution_count": 30,
      "outputs": [
        {
          "output_type": "stream",
          "name": "stdout",
          "text": [
            "Mean Squared Error for this fold: 0.2950019980217465\n",
            "Mean Squared Error for this fold: 0.3077665057408165\n",
            "Mean Squared Error for this fold: 0.28041623295943646\n",
            "Mean Squared Error for this fold: 0.2836273961560715\n",
            "Mean Squared Error for this fold: 0.3074803123529455\n",
            "Mean Squared Error for this fold: 0.2924808381194519\n",
            "Mean Squared Error for this fold: 0.28843703777239\n",
            "Mean Squared Error for this fold: 0.2944880952258539\n",
            "Mean Squared Error for this fold: 0.2811626722605707\n",
            "Mean Squared Error for this fold: 0.2886059996891999\n",
            "Mean Squared Error for this fold: 0.2858505679700252\n",
            "Mean Squared Error for this fold: 0.2915831159517456\n",
            "Mean Squared Error for this fold: 0.29306886869601706\n",
            "Mean Squared Error for this fold: 0.29714548186969403\n",
            "Mean Squared Error for this fold: 0.28703469323681996\n",
            "Mean Squared Error for this fold: 0.27234089165400616\n",
            "Mean Squared Error for this fold: 0.29669482636391176\n",
            "Mean Squared Error for this fold: 0.2869684431399882\n",
            "Mean Squared Error for this fold: 0.2915969137956947\n",
            "Mean Squared Error for this fold: 0.28836255774838254\n",
            "Mean Squared Error for this fold: 0.2775069280567177\n",
            "Mean Squared Error for this fold: 0.2822954166463575\n",
            "Mean Squared Error for this fold: 0.2888160892503768\n",
            "Mean Squared Error for this fold: 0.3005029579919908\n",
            "Mean Squared Error for this fold: 0.27801007832553465\n",
            "Mean Squared Error for this fold: 0.29851449452565276\n",
            "Mean Squared Error for this fold: 0.2722205465426307\n",
            "Mean Squared Error for this fold: 0.29470405366262925\n",
            "Mean Squared Error for this fold: 0.29047770356593633\n",
            "Mean Squared Error for this fold: 0.29456473193101096\n"
          ]
        }
      ]
    },
    {
      "cell_type": "code",
      "source": [
        "resultslstm"
      ],
      "metadata": {
        "colab": {
          "base_uri": "https://localhost:8080/"
        },
        "id": "3YM9WCd0HjPN",
        "outputId": "05149da6-1568-4e59-b0c6-6b30b8ce08ff"
      },
      "execution_count": 31,
      "outputs": [
        {
          "output_type": "execute_result",
          "data": {
            "text/plain": [
              "[0.2950019980217465,\n",
              " 0.3077665057408165,\n",
              " 0.28041623295943646,\n",
              " 0.2836273961560715,\n",
              " 0.3074803123529455,\n",
              " 0.2924808381194519,\n",
              " 0.28843703777239,\n",
              " 0.2944880952258539,\n",
              " 0.2811626722605707,\n",
              " 0.2886059996891999,\n",
              " 0.2858505679700252,\n",
              " 0.2915831159517456,\n",
              " 0.29306886869601706,\n",
              " 0.29714548186969403,\n",
              " 0.28703469323681996,\n",
              " 0.27234089165400616,\n",
              " 0.29669482636391176,\n",
              " 0.2869684431399882,\n",
              " 0.2915969137956947,\n",
              " 0.28836255774838254,\n",
              " 0.2775069280567177,\n",
              " 0.2822954166463575,\n",
              " 0.2888160892503768,\n",
              " 0.3005029579919908,\n",
              " 0.27801007832553465,\n",
              " 0.29851449452565276,\n",
              " 0.2722205465426307,\n",
              " 0.29470405366262925,\n",
              " 0.29047770356593633,\n",
              " 0.29456473193101096]"
            ]
          },
          "metadata": {},
          "execution_count": 31
        }
      ]
    },
    {
      "cell_type": "code",
      "source": [
        "np.mean(resultslstm)"
      ],
      "metadata": {
        "colab": {
          "base_uri": "https://localhost:8080/"
        },
        "id": "cKTXlMDjHmuL",
        "outputId": "8008b38f-87cb-4daf-8972-5585826345fd"
      },
      "execution_count": 32,
      "outputs": [
        {
          "output_type": "execute_result",
          "data": {
            "text/plain": [
              "0.28959088164078683"
            ]
          },
          "metadata": {},
          "execution_count": 32
        }
      ]
    }
  ]
}